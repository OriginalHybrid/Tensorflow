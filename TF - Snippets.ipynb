{
 "cells": [
  {
   "cell_type": "markdown",
   "id": "7407e9cc",
   "metadata": {},
   "source": [
    "# The Hello World of Deep Learning with Tensorflow"
   ]
  },
  {
   "cell_type": "markdown",
   "id": "9336ac25",
   "metadata": {},
   "source": [
    "## Imports"
   ]
  },
  {
   "cell_type": "code",
   "execution_count": 1,
   "id": "650d3a32",
   "metadata": {},
   "outputs": [],
   "source": [
    "import tensorflow as tf\n",
    "import numpy as np\n",
    "from tensorflow import keras"
   ]
  },
  {
   "cell_type": "code",
   "execution_count": 42,
   "id": "d790e032",
   "metadata": {},
   "outputs": [
    {
     "name": "stdout",
     "output_type": "stream",
     "text": [
      "[PhysicalDevice(name='/physical_device:GPU:0', device_type='GPU')]\n"
     ]
    }
   ],
   "source": [
    "# Finding access to GPUs\n",
    "print(tf.config.list_physical_devices('GPU'))"
   ]
  },
  {
   "cell_type": "markdown",
   "id": "1bbbbd7d",
   "metadata": {},
   "source": [
    "## What is a Tensor?"
   ]
  },
  {
   "cell_type": "markdown",
   "id": "82be6dcf",
   "metadata": {},
   "source": [
    "Tensors are `multi-dimensional arrays with a uniform type (called a dtype). You can see all supported dtypes at tf.dtypes.DType.\n",
    "\n",
    "If you're familiar with NumPy, tensors are (kind of) like np.arrays.\n",
    "\n",
    "All tensors are immutable like Python numbers and strings: you can never update the contents of a tensor, only create a new one."
   ]
  },
  {
   "cell_type": "code",
   "execution_count": 2,
   "id": "56b571de",
   "metadata": {},
   "outputs": [
    {
     "data": {
      "text/plain": [
       "<tf.Tensor: shape=(), dtype=int32, numpy=7>"
      ]
     },
     "execution_count": 2,
     "metadata": {},
     "output_type": "execute_result"
    }
   ],
   "source": [
    "# Create a scalar (rank 0 tensor)\n",
    "scalar = tf.constant(7)\n",
    "scalar"
   ]
  },
  {
   "cell_type": "code",
   "execution_count": 4,
   "id": "0491f0dc",
   "metadata": {},
   "outputs": [
    {
     "data": {
      "text/plain": [
       "(0, tf.int32, 7)"
      ]
     },
     "execution_count": 4,
     "metadata": {},
     "output_type": "execute_result"
    }
   ],
   "source": [
    "# Check the details of a tensor (ndim stands for number of dimensions)\n",
    "scalar.ndim, scalar.dtype, scalar.numpy()"
   ]
  },
  {
   "cell_type": "markdown",
   "id": "c000cfd4",
   "metadata": {},
   "source": [
    "#### A scalar is known as a rank 0 tensor. Because it has no dimensions (it's just a number)."
   ]
  },
  {
   "cell_type": "code",
   "execution_count": 5,
   "id": "1f4e34c7",
   "metadata": {},
   "outputs": [
    {
     "data": {
      "text/plain": [
       "<tf.Tensor: shape=(2,), dtype=int32, numpy=array([10, 10])>"
      ]
     },
     "execution_count": 5,
     "metadata": {},
     "output_type": "execute_result"
    }
   ],
   "source": [
    "# Create a vector (more than 0 dimensions)\n",
    "vector = tf.constant([10, 10])\n",
    "vector"
   ]
  },
  {
   "cell_type": "code",
   "execution_count": 6,
   "id": "4cecd7f9",
   "metadata": {},
   "outputs": [
    {
     "data": {
      "text/plain": [
       "(1, tf.int32, array([10, 10]))"
      ]
     },
     "execution_count": 6,
     "metadata": {},
     "output_type": "execute_result"
    }
   ],
   "source": [
    "# Check the details of a vector (ndim stands for number of dimensions)\n",
    "vector.ndim, vector.dtype, vector.numpy()"
   ]
  },
  {
   "cell_type": "code",
   "execution_count": 7,
   "id": "04de1265",
   "metadata": {},
   "outputs": [
    {
     "data": {
      "text/plain": [
       "<tf.Tensor: shape=(2, 2), dtype=int32, numpy=\n",
       "array([[10,  7],\n",
       "       [ 7, 10]])>"
      ]
     },
     "execution_count": 7,
     "metadata": {},
     "output_type": "execute_result"
    }
   ],
   "source": [
    "# Create a matrix (more than 1 dimension)\n",
    "matrix = tf.constant([[10, 7],\n",
    "                      [7, 10]])\n",
    "matrix"
   ]
  },
  {
   "cell_type": "code",
   "execution_count": 8,
   "id": "ade3c72a",
   "metadata": {},
   "outputs": [
    {
     "data": {
      "text/plain": [
       "(2,\n",
       " tf.int32,\n",
       " array([[10,  7],\n",
       "        [ 7, 10]]))"
      ]
     },
     "execution_count": 8,
     "metadata": {},
     "output_type": "execute_result"
    }
   ],
   "source": [
    "# Create the same tensor with tf.Variable() and tf.constant()\n",
    "changeable_tensor = tf.Variable([10, 7])\n",
    "unchangeable_tensor = tf.constant([10, 7])\n",
    "changeable_tensor, unchangeable_tensor"
   ]
  },
  {
   "cell_type": "code",
   "execution_count": 9,
   "id": "1a42d0cd",
   "metadata": {},
   "outputs": [
    {
     "data": {
      "text/plain": [
       "<tf.Tensor: shape=(3, 2, 3), dtype=int32, numpy=\n",
       "array([[[ 1,  2,  3],\n",
       "        [ 4,  5,  6]],\n",
       "\n",
       "       [[ 7,  8,  9],\n",
       "        [10, 11, 12]],\n",
       "\n",
       "       [[13, 14, 15],\n",
       "        [16, 17, 18]]])>"
      ]
     },
     "execution_count": 9,
     "metadata": {},
     "output_type": "execute_result"
    }
   ],
   "source": [
    "# How about a tensor? (more than 2 dimensions, although, all of the above items are also technically tensors)\n",
    "tensor = tf.constant([[[1, 2, 3],\n",
    "                       [4, 5, 6]],\n",
    "                      [[7, 8, 9],\n",
    "                       [10, 11, 12]],\n",
    "                      [[13, 14, 15],\n",
    "                       [16, 17, 18]]])\n",
    "tensor"
   ]
  },
  {
   "cell_type": "code",
   "execution_count": 10,
   "id": "9e574605",
   "metadata": {},
   "outputs": [
    {
     "data": {
      "text/plain": [
       "(3,\n",
       " tf.int32,\n",
       " array([[[ 1,  2,  3],\n",
       "         [ 4,  5,  6]],\n",
       " \n",
       "        [[ 7,  8,  9],\n",
       "         [10, 11, 12]],\n",
       " \n",
       "        [[13, 14, 15],\n",
       "         [16, 17, 18]]]))"
      ]
     },
     "execution_count": 10,
     "metadata": {},
     "output_type": "execute_result"
    }
   ],
   "source": [
    "# Check the details of a vector (ndim stands for number of dimensions)\n",
    "tensor.ndim, tensor.dtype, tensor.numpy()"
   ]
  },
  {
   "cell_type": "markdown",
   "id": "b3483031",
   "metadata": {},
   "source": [
    "#### Creating Tensors with tf.Variable()\n",
    "You can also (although you likely rarely will, because often, when working with data, tensors are created for you automatically) create tensors using **tf.Variable().**\n",
    "\n",
    "The difference between **tf.Variable()** and **tf.constant()** is tensors created with **tf.constant()** are immutable (can't be changed, can only be used to create a new tensor), where as, tensors created with **tf.Variable()** are mutable (can be changed)."
   ]
  },
  {
   "cell_type": "code",
   "execution_count": 11,
   "id": "aa807657",
   "metadata": {},
   "outputs": [
    {
     "data": {
      "text/plain": [
       "(<tf.Variable 'Variable:0' shape=(2,) dtype=int32, numpy=array([10,  7])>,\n",
       " <tf.Tensor: shape=(2,), dtype=int32, numpy=array([10,  7])>)"
      ]
     },
     "execution_count": 11,
     "metadata": {},
     "output_type": "execute_result"
    }
   ],
   "source": [
    "# Create the same tensor with tf.Variable() and tf.constant()\n",
    "changeable_tensor = tf.Variable([10, 7])\n",
    "unchangeable_tensor = tf.constant([10, 7])\n",
    "changeable_tensor, unchangeable_tensor"
   ]
  },
  {
   "cell_type": "code",
   "execution_count": 12,
   "id": "17b3d8d9",
   "metadata": {},
   "outputs": [
    {
     "data": {
      "text/plain": [
       "<tf.Variable 'Variable:0' shape=(2,) dtype=int32, numpy=array([7, 7])>"
      ]
     },
     "execution_count": 12,
     "metadata": {},
     "output_type": "execute_result"
    }
   ],
   "source": [
    "# Will error (requires the .assign() method)\n",
    "# changeable_tensor[0] = 7\n",
    "changeable_tensor[0].assign(7)\n",
    "changeable_tensor"
   ]
  },
  {
   "cell_type": "markdown",
   "id": "4abb394a",
   "metadata": {},
   "source": [
    "### Creating Radom Tensors"
   ]
  },
  {
   "cell_type": "code",
   "execution_count": 13,
   "id": "c0f2b9e1",
   "metadata": {},
   "outputs": [
    {
     "data": {
      "text/plain": [
       "(<tf.Tensor: shape=(3, 2), dtype=float32, numpy=\n",
       " array([[-0.7565803 , -0.06854702],\n",
       "        [ 0.07595026, -1.2573844 ],\n",
       "        [-0.23193765, -1.8107855 ]], dtype=float32)>,\n",
       " <tf.Tensor: shape=(3, 2), dtype=float32, numpy=\n",
       " array([[-0.7565803 , -0.06854702],\n",
       "        [ 0.07595026, -1.2573844 ],\n",
       "        [-0.23193765, -1.8107855 ]], dtype=float32)>,\n",
       " <tf.Tensor: shape=(3, 2), dtype=bool, numpy=\n",
       " array([[ True,  True],\n",
       "        [ True,  True],\n",
       "        [ True,  True]])>)"
      ]
     },
     "execution_count": 13,
     "metadata": {},
     "output_type": "execute_result"
    }
   ],
   "source": [
    "# Create two random (but the same) tensors\n",
    "random_1 = tf.random.Generator.from_seed(42) # set the seed for reproducibility\n",
    "random_1 = random_1.normal(shape=(3, 2)) # create tensor from a normal distribution \n",
    "random_2 = tf.random.Generator.from_seed(42)\n",
    "random_2 = random_2.normal(shape=(3, 2))\n",
    "\n",
    "# Are they equal?\n",
    "random_1, random_2, random_1 == random_2"
   ]
  },
  {
   "cell_type": "markdown",
   "id": "0ccb9cb4",
   "metadata": {},
   "source": [
    "### Other ways to make Tensors"
   ]
  },
  {
   "cell_type": "code",
   "execution_count": 14,
   "id": "fa2ccaa1",
   "metadata": {},
   "outputs": [
    {
     "data": {
      "text/plain": [
       "<tf.Tensor: shape=(3, 2), dtype=float32, numpy=\n",
       "array([[1., 1.],\n",
       "       [1., 1.],\n",
       "       [1., 1.]], dtype=float32)>"
      ]
     },
     "execution_count": 14,
     "metadata": {},
     "output_type": "execute_result"
    }
   ],
   "source": [
    "# Make a tensor of all ones\n",
    "tf.ones(shape=(3, 2))"
   ]
  },
  {
   "cell_type": "code",
   "execution_count": 15,
   "id": "9ad4a050",
   "metadata": {},
   "outputs": [
    {
     "data": {
      "text/plain": [
       "<tf.Tensor: shape=(3, 2), dtype=float32, numpy=\n",
       "array([[0., 0.],\n",
       "       [0., 0.],\n",
       "       [0., 0.]], dtype=float32)>"
      ]
     },
     "execution_count": 15,
     "metadata": {},
     "output_type": "execute_result"
    }
   ],
   "source": [
    "# Make a tensor of all zeros\n",
    "tf.zeros(shape=(3, 2))"
   ]
  },
  {
   "cell_type": "markdown",
   "id": "cf809325",
   "metadata": {},
   "source": [
    "**Turn NumPy arrays in into tensors.**"
   ]
  },
  {
   "cell_type": "code",
   "execution_count": 16,
   "id": "423b913f",
   "metadata": {},
   "outputs": [
    {
     "data": {
      "text/plain": [
       "(array([ 1,  2,  3,  4,  5,  6,  7,  8,  9, 10, 11, 12, 13, 14, 15, 16, 17,\n",
       "        18, 19, 20, 21, 22, 23, 24]),\n",
       " <tf.Tensor: shape=(2, 4, 3), dtype=int32, numpy=\n",
       " array([[[ 1,  2,  3],\n",
       "         [ 4,  5,  6],\n",
       "         [ 7,  8,  9],\n",
       "         [10, 11, 12]],\n",
       " \n",
       "        [[13, 14, 15],\n",
       "         [16, 17, 18],\n",
       "         [19, 20, 21],\n",
       "         [22, 23, 24]]])>)"
      ]
     },
     "execution_count": 16,
     "metadata": {},
     "output_type": "execute_result"
    }
   ],
   "source": [
    "import numpy as np\n",
    "numpy_A = np.arange(1, 25, dtype=np.int32) # create a NumPy array between 1 and 25\n",
    "A = tf.constant(numpy_A,  \n",
    "                shape=[2, 4, 3]) # note: the shape total (2*4*3) has to match the number of elements in the array\n",
    "numpy_A, A"
   ]
  },
  {
   "cell_type": "markdown",
   "id": "b8391789",
   "metadata": {},
   "source": [
    "**Getting information from tensors (shape, rank, size)**"
   ]
  },
  {
   "cell_type": "code",
   "execution_count": 17,
   "id": "84e4a765",
   "metadata": {},
   "outputs": [
    {
     "data": {
      "text/plain": [
       "<tf.Tensor: shape=(2, 3, 4, 5), dtype=float32, numpy=\n",
       "array([[[[0., 0., 0., 0., 0.],\n",
       "         [0., 0., 0., 0., 0.],\n",
       "         [0., 0., 0., 0., 0.],\n",
       "         [0., 0., 0., 0., 0.]],\n",
       "\n",
       "        [[0., 0., 0., 0., 0.],\n",
       "         [0., 0., 0., 0., 0.],\n",
       "         [0., 0., 0., 0., 0.],\n",
       "         [0., 0., 0., 0., 0.]],\n",
       "\n",
       "        [[0., 0., 0., 0., 0.],\n",
       "         [0., 0., 0., 0., 0.],\n",
       "         [0., 0., 0., 0., 0.],\n",
       "         [0., 0., 0., 0., 0.]]],\n",
       "\n",
       "\n",
       "       [[[0., 0., 0., 0., 0.],\n",
       "         [0., 0., 0., 0., 0.],\n",
       "         [0., 0., 0., 0., 0.],\n",
       "         [0., 0., 0., 0., 0.]],\n",
       "\n",
       "        [[0., 0., 0., 0., 0.],\n",
       "         [0., 0., 0., 0., 0.],\n",
       "         [0., 0., 0., 0., 0.],\n",
       "         [0., 0., 0., 0., 0.]],\n",
       "\n",
       "        [[0., 0., 0., 0., 0.],\n",
       "         [0., 0., 0., 0., 0.],\n",
       "         [0., 0., 0., 0., 0.],\n",
       "         [0., 0., 0., 0., 0.]]]], dtype=float32)>"
      ]
     },
     "execution_count": 17,
     "metadata": {},
     "output_type": "execute_result"
    }
   ],
   "source": [
    "# Create a rank 4 tensor (4 dimensions)\n",
    "rank_4_tensor = tf.zeros([2, 3, 4, 5])\n",
    "rank_4_tensor"
   ]
  },
  {
   "cell_type": "code",
   "execution_count": 18,
   "id": "f1091fc2",
   "metadata": {},
   "outputs": [
    {
     "name": "stdout",
     "output_type": "stream",
     "text": [
      "Datatype of every element: <dtype: 'float32'>\n",
      "Number of dimensions (rank): 4\n",
      "Shape of tensor: (2, 3, 4, 5)\n",
      "Elements along axis 0 of tensor: 2\n",
      "Elements along last axis of tensor: 5\n",
      "Total number of elements (2*3*4*5): 120\n"
     ]
    }
   ],
   "source": [
    "# Get various attributes of tensor\n",
    "print(\"Datatype of every element:\", rank_4_tensor.dtype)\n",
    "print(\"Number of dimensions (rank):\", rank_4_tensor.ndim)\n",
    "print(\"Shape of tensor:\", rank_4_tensor.shape)\n",
    "print(\"Elements along axis 0 of tensor:\", rank_4_tensor.shape[0])\n",
    "print(\"Elements along last axis of tensor:\", rank_4_tensor.shape[-1])\n",
    "print(\"Total number of elements (2*3*4*5):\", tf.size(rank_4_tensor).numpy()) # .numpy() converts to NumPy array"
   ]
  },
  {
   "cell_type": "markdown",
   "id": "4f46cefd",
   "metadata": {},
   "source": [
    "### Manipulating tensors (tensor operations)\n",
    "#### Basic operations\n",
    "You can perform many of the basic mathematical operations directly on tensors using Pyhton operators such as, +, -, *."
   ]
  },
  {
   "cell_type": "code",
   "execution_count": 19,
   "id": "d96db35c",
   "metadata": {},
   "outputs": [
    {
     "name": "stdout",
     "output_type": "stream",
     "text": [
      "tf.Tensor(\n",
      "[[10  7]\n",
      " [ 3  4]], shape=(2, 2), dtype=int32)\n",
      "tf.Tensor(\n",
      "[[20 17]\n",
      " [13 14]], shape=(2, 2), dtype=int32)\n"
     ]
    }
   ],
   "source": [
    "# You can add values to a tensor using the addition operator\n",
    "tensor = tf.constant([[10, 7], [3, 4]])\n",
    "print(tensor)\n",
    "print(tensor + 10)"
   ]
  },
  {
   "cell_type": "code",
   "execution_count": 20,
   "id": "6875fc2d",
   "metadata": {},
   "outputs": [
    {
     "data": {
      "text/plain": [
       "<tf.Tensor: shape=(2, 2), dtype=int32, numpy=\n",
       "array([[100,  70],\n",
       "       [ 30,  40]])>"
      ]
     },
     "execution_count": 20,
     "metadata": {},
     "output_type": "execute_result"
    }
   ],
   "source": [
    "# Multiplication (known as element-wise multiplication)\n",
    "tensor * 10"
   ]
  },
  {
   "cell_type": "code",
   "execution_count": 21,
   "id": "024b9454",
   "metadata": {},
   "outputs": [
    {
     "data": {
      "text/plain": [
       "<tf.Tensor: shape=(2, 2), dtype=int32, numpy=\n",
       "array([[ 0, -3],\n",
       "       [-7, -6]])>"
      ]
     },
     "execution_count": 21,
     "metadata": {},
     "output_type": "execute_result"
    }
   ],
   "source": [
    "# Subtraction\n",
    "tensor - 10"
   ]
  },
  {
   "cell_type": "code",
   "execution_count": 22,
   "id": "0c8d5f7b",
   "metadata": {},
   "outputs": [
    {
     "data": {
      "text/plain": [
       "<tf.Tensor: shape=(2, 2), dtype=int32, numpy=\n",
       "array([[100,  70],\n",
       "       [ 30,  40]])>"
      ]
     },
     "execution_count": 22,
     "metadata": {},
     "output_type": "execute_result"
    }
   ],
   "source": [
    "# Use the tensorflow function equivalent of the '*' (multiply) operator\n",
    "tf.multiply(tensor, 10)"
   ]
  },
  {
   "cell_type": "markdown",
   "id": "4e4b3e45",
   "metadata": {},
   "source": [
    "#### Matrix mutliplication\n",
    "One of the most common operations in machine learning algorithms is matrix multiplication.\n",
    "\n",
    "TensorFlow implements this matrix multiplication functionality in the **tf.matmul()** method.\n",
    "\n",
    "The main two rules for matrix multiplication to remember are:\n",
    "\n",
    "The inner dimensions must match:\n",
    "- (3, 5) @ (3, 5) won't work\n",
    "- (5, 3) @ (3, 5) will work\n",
    "- (3, 5) @ (5, 3) will work\n",
    "\n",
    "\n",
    "The resulting matrix has the shape of the outer dimensions:\n",
    "- (5, 3) @ (3, 5) -> (5, 5)\n",
    "- (3, 5) @ (5, 3) -> (3, 3)\n",
    "\n",
    "\n",
    "**Note: '@' in Python is the symbol for matrix multiplication.**"
   ]
  },
  {
   "cell_type": "code",
   "execution_count": 23,
   "id": "0b9d575f",
   "metadata": {},
   "outputs": [
    {
     "name": "stdout",
     "output_type": "stream",
     "text": [
      "tf.Tensor(\n",
      "[[10  7]\n",
      " [ 3  4]], shape=(2, 2), dtype=int32)\n"
     ]
    },
    {
     "data": {
      "text/plain": [
       "<tf.Tensor: shape=(2, 2), dtype=int32, numpy=\n",
       "array([[121,  98],\n",
       "       [ 42,  37]])>"
      ]
     },
     "execution_count": 23,
     "metadata": {},
     "output_type": "execute_result"
    }
   ],
   "source": [
    "# Matrix multiplication in TensorFlow\n",
    "print(tensor)\n",
    "tf.matmul(tensor, tensor)"
   ]
  },
  {
   "cell_type": "code",
   "execution_count": 24,
   "id": "a83cf05a",
   "metadata": {},
   "outputs": [
    {
     "data": {
      "text/plain": [
       "<tf.Tensor: shape=(2, 2), dtype=int32, numpy=\n",
       "array([[121,  98],\n",
       "       [ 42,  37]])>"
      ]
     },
     "execution_count": 24,
     "metadata": {},
     "output_type": "execute_result"
    }
   ],
   "source": [
    "# Matrix multiplication with Python operator '@'\n",
    "tensor @ tensor"
   ]
  },
  {
   "cell_type": "markdown",
   "id": "e2980ff0",
   "metadata": {},
   "source": [
    "### The dot product\n",
    "Multiplying matrices by each other is also referred to as the dot product.\n",
    "\n",
    "You can perform the **tf.matmul()** operation using **tf.tensordot()**."
   ]
  },
  {
   "cell_type": "code",
   "execution_count": 25,
   "id": "2771461c",
   "metadata": {},
   "outputs": [
    {
     "data": {
      "text/plain": [
       "(<tf.Tensor: shape=(3, 2), dtype=int32, numpy=\n",
       " array([[1, 2],\n",
       "        [3, 4],\n",
       "        [5, 6]])>,\n",
       " <tf.Tensor: shape=(3, 2), dtype=int32, numpy=\n",
       " array([[ 7,  8],\n",
       "        [ 9, 10],\n",
       "        [11, 12]])>)"
      ]
     },
     "execution_count": 25,
     "metadata": {},
     "output_type": "execute_result"
    }
   ],
   "source": [
    "# Create (3, 2) tensor\n",
    "X = tf.constant([[1, 2],\n",
    "                 [3, 4],\n",
    "                 [5, 6]])\n",
    "\n",
    "# Create another (3, 2) tensor\n",
    "Y = tf.constant([[7, 8],\n",
    "                 [9, 10],\n",
    "                 [11, 12]])\n",
    "X, Y"
   ]
  },
  {
   "cell_type": "code",
   "execution_count": 26,
   "id": "d9821c08",
   "metadata": {},
   "outputs": [
    {
     "data": {
      "text/plain": [
       "<tf.Tensor: shape=(2, 2), dtype=int32, numpy=\n",
       "array([[ 89,  98],\n",
       "       [116, 128]])>"
      ]
     },
     "execution_count": 26,
     "metadata": {},
     "output_type": "execute_result"
    }
   ],
   "source": [
    "# Perform the dot product on X and Y (requires X to be transposed)\n",
    "tf.tensordot(tf.transpose(X), Y, axes=1)"
   ]
  },
  {
   "cell_type": "markdown",
   "id": "e0f56ede",
   "metadata": {},
   "source": [
    "* [`tf.reshape()`](https://www.tensorflow.org/api_docs/python/tf/reshape) - change the shape of the given tensor (first) and then insert values in order they appear (in our case, 7, 8, 9, 10, 11, 12).\n",
    "* [`tf.transpose()`](https://www.tensorflow.org/api_docs/python/tf/transpose) - swap the order of the axes, by default the last axis becomes the first, however the order can be changed using the [`perm` parameter](https://www.tensorflow.org/api_docs/python/tf/transpose)."
   ]
  },
  {
   "cell_type": "markdown",
   "id": "23216127",
   "metadata": {},
   "source": [
    "### Changing the datatype of a tensor"
   ]
  },
  {
   "cell_type": "code",
   "execution_count": 27,
   "id": "f9303ab1",
   "metadata": {},
   "outputs": [
    {
     "data": {
      "text/plain": [
       "(<tf.Tensor: shape=(2,), dtype=float32, numpy=array([1.7, 7.4], dtype=float32)>,\n",
       " <tf.Tensor: shape=(2,), dtype=int32, numpy=array([1, 7])>)"
      ]
     },
     "execution_count": 27,
     "metadata": {},
     "output_type": "execute_result"
    }
   ],
   "source": [
    "# Create a new tensor with default datatype (float32)\n",
    "B = tf.constant([1.7, 7.4])\n",
    "\n",
    "# Create a new tensor with default datatype (int32)\n",
    "C = tf.constant([1, 7])\n",
    "B, C"
   ]
  },
  {
   "cell_type": "code",
   "execution_count": 28,
   "id": "46f844ca",
   "metadata": {},
   "outputs": [
    {
     "data": {
      "text/plain": [
       "<tf.Tensor: shape=(2,), dtype=float16, numpy=array([1.7, 7.4], dtype=float16)>"
      ]
     },
     "execution_count": 28,
     "metadata": {},
     "output_type": "execute_result"
    }
   ],
   "source": [
    "# Change from float32 to float16 (reduced precision)\n",
    "B = tf.cast(B, dtype=tf.float16)\n",
    "B"
   ]
  },
  {
   "cell_type": "code",
   "execution_count": 29,
   "id": "607177d5",
   "metadata": {},
   "outputs": [
    {
     "data": {
      "text/plain": [
       "<tf.Tensor: shape=(2,), dtype=float32, numpy=array([1., 7.], dtype=float32)>"
      ]
     },
     "execution_count": 29,
     "metadata": {},
     "output_type": "execute_result"
    }
   ],
   "source": [
    "# Change from int32 to float32\n",
    "C = tf.cast(C, dtype=tf.float32)\n",
    "C"
   ]
  },
  {
   "cell_type": "markdown",
   "id": "261f9daf",
   "metadata": {},
   "source": [
    "### Getting the absolute value"
   ]
  },
  {
   "cell_type": "code",
   "execution_count": 30,
   "id": "ea86b40d",
   "metadata": {},
   "outputs": [
    {
     "data": {
      "text/plain": [
       "(<tf.Tensor: shape=(2,), dtype=int32, numpy=array([ -7, -10])>,\n",
       " <tf.Tensor: shape=(2,), dtype=int32, numpy=array([ 7, 10])>)"
      ]
     },
     "execution_count": 30,
     "metadata": {},
     "output_type": "execute_result"
    }
   ],
   "source": [
    "# Create tensor with negative values\n",
    "D = tf.constant([-7, -10])\n",
    "D, tf.abs(D)"
   ]
  },
  {
   "cell_type": "markdown",
   "id": "4c336f56",
   "metadata": {},
   "source": [
    "### Finding the min, max, mean, sum (aggregation)\n",
    "\n",
    "To do so, aggregation methods typically have the syntax `reduce()_[action]`, such as:\n",
    "* [`tf.reduce_min()`](https://www.tensorflow.org/api_docs/python/tf/math/reduce_min) - find the minimum value in a tensor.\n",
    "* [`tf.reduce_max()`](https://www.tensorflow.org/api_docs/python/tf/math/reduce_max) - find the maximum value in a tensor (helpful for when you want to find the highest prediction probability).\n",
    "* [`tf.reduce_mean()`](https://www.tensorflow.org/api_docs/python/tf/math/reduce_mean) - find the mean of all elements in a tensor.\n",
    "* [`tf.reduce_sum()`](https://www.tensorflow.org/api_docs/python/tf/math/reduce_sum) - find the sum of all elements in a tensor."
   ]
  },
  {
   "cell_type": "code",
   "execution_count": 31,
   "id": "8f4dfedf",
   "metadata": {},
   "outputs": [
    {
     "data": {
      "text/plain": [
       "<tf.Tensor: shape=(50,), dtype=int32, numpy=\n",
       "array([62, 32, 66, 61, 42, 50, 63, 85, 89, 37, 68, 18, 37, 95, 41, 66, 58,\n",
       "       42, 79, 89, 70, 27, 20, 43, 48, 38, 19,  1,  3, 89,  7, 76, 82,  1,\n",
       "       95, 77, 78,  0,  5, 27,  6, 91, 22, 36, 57,  6, 56,  1, 76, 41])>"
      ]
     },
     "execution_count": 31,
     "metadata": {},
     "output_type": "execute_result"
    }
   ],
   "source": [
    "# Create a tensor with 50 random values between 0 and 100\n",
    "E = tf.constant(np.random.randint(low=0, high=100, size=50))\n",
    "E"
   ]
  },
  {
   "cell_type": "code",
   "execution_count": 32,
   "id": "618f1d19",
   "metadata": {},
   "outputs": [
    {
     "data": {
      "text/plain": [
       "(<tf.Tensor: shape=(), dtype=int32, numpy=0>,\n",
       " <tf.Tensor: shape=(), dtype=int32, numpy=95>,\n",
       " <tf.Tensor: shape=(), dtype=int32, numpy=47>,\n",
       " <tf.Tensor: shape=(), dtype=int32, numpy=47>,\n",
       " <tf.Tensor: shape=(), dtype=int32, numpy=2378>)"
      ]
     },
     "execution_count": 32,
     "metadata": {},
     "output_type": "execute_result"
    }
   ],
   "source": [
    "tf.reduce_min(E), tf.reduce_max(E), tf.reduce_mean(E), tf.reduce_mean(E), tf.reduce_sum(E)"
   ]
  },
  {
   "cell_type": "code",
   "execution_count": 33,
   "id": "f4ea685a",
   "metadata": {},
   "outputs": [
    {
     "data": {
      "text/plain": [
       "(<tf.Tensor: shape=(), dtype=int64, numpy=13>,\n",
       " <tf.Tensor: shape=(), dtype=int64, numpy=37>)"
      ]
     },
     "execution_count": 33,
     "metadata": {},
     "output_type": "execute_result"
    }
   ],
   "source": [
    "# tf.argmax() - find the position of the maximum element in a given tensor.\n",
    "# tf.argmin() - find the position of the minimum element in a given tensor.\n",
    "\n",
    "tf.argmax(E), tf.argmin(E)"
   ]
  },
  {
   "cell_type": "markdown",
   "id": "b05fb911",
   "metadata": {},
   "source": [
    "### Squeezing a tensor (removing all single dimensions)"
   ]
  },
  {
   "cell_type": "code",
   "execution_count": 34,
   "id": "187a1e12",
   "metadata": {},
   "outputs": [
    {
     "data": {
      "text/plain": [
       "(TensorShape([1, 1, 1, 1, 50]), 5)"
      ]
     },
     "execution_count": 34,
     "metadata": {},
     "output_type": "execute_result"
    }
   ],
   "source": [
    "# Create a rank 5 (5 dimensions) tensor of 50 numbers between 0 and 100\n",
    "G = tf.constant(np.random.randint(0, 100, 50), shape=(1, 1, 1, 1, 50))\n",
    "G.shape, G.ndim"
   ]
  },
  {
   "cell_type": "code",
   "execution_count": 35,
   "id": "69a6f170",
   "metadata": {},
   "outputs": [
    {
     "data": {
      "text/plain": [
       "(TensorShape([50]), 1)"
      ]
     },
     "execution_count": 35,
     "metadata": {},
     "output_type": "execute_result"
    }
   ],
   "source": [
    "# Squeeze tensor G (remove all 1 dimensions)\n",
    "G_squeezed = tf.squeeze(G)\n",
    "G_squeezed.shape, G_squeezed.ndim"
   ]
  },
  {
   "cell_type": "markdown",
   "id": "2f81a1a6",
   "metadata": {},
   "source": [
    "### One-hot encoding\n",
    "\n",
    "If you have a tensor of indicies and would like to one-hot encode it, you can use [`tf.one_hot()`](https://www.tensorflow.org/api_docs/python/tf/one_hot).\n",
    "\n",
    "You should also specify the `depth` parameter (the level which you want to one-hot encode to)."
   ]
  },
  {
   "cell_type": "code",
   "execution_count": 36,
   "id": "b2d0e737",
   "metadata": {},
   "outputs": [
    {
     "data": {
      "text/plain": [
       "<tf.Tensor: shape=(4, 4), dtype=float32, numpy=\n",
       "array([[1., 0., 0., 0.],\n",
       "       [0., 1., 0., 0.],\n",
       "       [0., 0., 1., 0.],\n",
       "       [0., 0., 0., 1.]], dtype=float32)>"
      ]
     },
     "execution_count": 36,
     "metadata": {},
     "output_type": "execute_result"
    }
   ],
   "source": [
    "# Create a list of indices\n",
    "some_list = [0, 1, 2, 3]\n",
    "\n",
    "# One hot encode them\n",
    "tf.one_hot(some_list, depth=4)"
   ]
  },
  {
   "cell_type": "markdown",
   "id": "6d322966",
   "metadata": {},
   "source": [
    "### Squaring, log, square root\n",
    "\n",
    "Many other common mathematical operations you'd like to perform at some stage, probably exist.\n",
    "\n",
    "Let's take a look at:\n",
    "* [`tf.square()`](https://www.tensorflow.org/api_docs/python/tf/math/square) - get the square of every value in a tensor. \n",
    "* [`tf.sqrt()`](https://www.tensorflow.org/api_docs/python/tf/math/sqrt) - get the squareroot of every value in a tensor (**note:** the elements need to be floats or this will error).\n",
    "* [`tf.math.log()`](https://www.tensorflow.org/api_docs/python/tf/math/log) - get the natural log of every value in a tensor (elements need to floats)."
   ]
  },
  {
   "cell_type": "markdown",
   "id": "9f02028a",
   "metadata": {},
   "source": [
    "### Manipulating `tf.Variable` tensors\n",
    "\n",
    "Tensors created with `tf.Variable()` can be changed in place using methods such as:\n",
    "\n",
    "* [`.assign()`](https://www.tensorflow.org/api_docs/python/tf/Variable#assign) - assign a different value to a particular index of a variable tensor.\n",
    "* [`.add_assign()`](https://www.tensorflow.org/api_docs/python/tf/Variable#assign_add) - add to an existing value and reassign it at a particular index of a variable tensor.\n"
   ]
  },
  {
   "cell_type": "markdown",
   "id": "2e93375e",
   "metadata": {},
   "source": [
    "## Tensors and NumPy\n",
    "\n",
    "We've seen some examples of tensors interact with NumPy arrays, such as, using NumPy arrays to create tensors. \n",
    "\n",
    "Tensors can also be converted to NumPy arrays using:\n",
    "\n",
    "* `np.array()` - pass a tensor to convert to an ndarray (NumPy's main datatype).\n",
    "* `tensor.numpy()` - call on a tensor to convert to an ndarray.\n",
    "\n",
    "Doing this is helpful as it makes tensors iterable as well as allows us to use any of NumPy's methods on them."
   ]
  },
  {
   "cell_type": "code",
   "execution_count": 37,
   "id": "ada249d0",
   "metadata": {},
   "outputs": [
    {
     "data": {
      "text/plain": [
       "<tf.Tensor: shape=(3,), dtype=float64, numpy=array([ 3.,  7., 10.])>"
      ]
     },
     "execution_count": 37,
     "metadata": {},
     "output_type": "execute_result"
    }
   ],
   "source": [
    "# Create a tensor from a NumPy array\n",
    "J = tf.constant(np.array([3., 7., 10.]))\n",
    "J"
   ]
  },
  {
   "cell_type": "code",
   "execution_count": 38,
   "id": "7d23f764",
   "metadata": {},
   "outputs": [
    {
     "data": {
      "text/plain": [
       "(array([ 3.,  7., 10.]), numpy.ndarray)"
      ]
     },
     "execution_count": 38,
     "metadata": {},
     "output_type": "execute_result"
    }
   ],
   "source": [
    "# Convert tensor J to NumPy with np.array()\n",
    "np.array(J), type(np.array(J))"
   ]
  },
  {
   "cell_type": "code",
   "execution_count": 39,
   "id": "530c3dc0",
   "metadata": {},
   "outputs": [
    {
     "data": {
      "text/plain": [
       "(array([ 3.,  7., 10.]), numpy.ndarray)"
      ]
     },
     "execution_count": 39,
     "metadata": {},
     "output_type": "execute_result"
    }
   ],
   "source": [
    "# Convert tensor J to NumPy with .numpy()\n",
    "J.numpy(), type(J.numpy())"
   ]
  },
  {
   "cell_type": "markdown",
   "id": "7e5abeab",
   "metadata": {},
   "source": [
    "## Using `@tf.function`\n",
    "\n",
    "In your TensorFlow adventures, you might come across Python functions which have the decorator [`@tf.function`](https://www.tensorflow.org/api_docs/python/tf/function).\n",
    "\n",
    "If you aren't sure what Python decorators do, [read RealPython's guide on them](https://realpython.com/primer-on-python-decorators/).\n",
    "\n",
    "But in short, decorators modify a function in one way or another.\n",
    "\n",
    "In the `@tf.function` decorator case, it turns a Python function into a callable TensorFlow graph. Which is a fancy way of saying, if you've written your own Python function, and you decorate it with `@tf.function`, when you export your code (to potentially run on another device), TensorFlow will attempt to convert it into a fast(er) version of itself (by making it part of a computation graph).\n",
    "\n",
    "For more on this, read the [Better performnace with tf.function](https://www.tensorflow.org/guide/function) guide."
   ]
  },
  {
   "cell_type": "code",
   "execution_count": 40,
   "id": "9dadc190",
   "metadata": {},
   "outputs": [
    {
     "data": {
      "text/plain": [
       "<tf.Tensor: shape=(10,), dtype=int32, numpy=array([ 10,  12,  16,  22,  30,  40,  52,  66,  82, 100])>"
      ]
     },
     "execution_count": 40,
     "metadata": {},
     "output_type": "execute_result"
    }
   ],
   "source": [
    "# Create a simple function\n",
    "def function(x, y):\n",
    "  return x ** 2 + y\n",
    "\n",
    "x = tf.constant(np.arange(0, 10))\n",
    "y = tf.constant(np.arange(10, 20))\n",
    "function(x, y)"
   ]
  },
  {
   "cell_type": "code",
   "execution_count": 41,
   "id": "0e333fc1",
   "metadata": {},
   "outputs": [
    {
     "data": {
      "text/plain": [
       "<tf.Tensor: shape=(10,), dtype=int32, numpy=array([ 10,  12,  16,  22,  30,  40,  52,  66,  82, 100])>"
      ]
     },
     "execution_count": 41,
     "metadata": {},
     "output_type": "execute_result"
    }
   ],
   "source": [
    "# Create the same function and decorate it with tf.function\n",
    "@tf.function\n",
    "def tf_function(x, y):\n",
    "  return x ** 2 + y\n",
    "\n",
    "tf_function(x, y)"
   ]
  },
  {
   "cell_type": "code",
   "execution_count": null,
   "id": "612feb14",
   "metadata": {},
   "outputs": [],
   "source": []
  },
  {
   "cell_type": "code",
   "execution_count": null,
   "id": "aa33cad7",
   "metadata": {},
   "outputs": [],
   "source": []
  },
  {
   "cell_type": "code",
   "execution_count": null,
   "id": "1ad5f966",
   "metadata": {},
   "outputs": [],
   "source": []
  },
  {
   "cell_type": "code",
   "execution_count": null,
   "id": "4c86a277",
   "metadata": {},
   "outputs": [],
   "source": []
  },
  {
   "cell_type": "markdown",
   "id": "4e8c5d65",
   "metadata": {},
   "source": [
    "## Define and Compile the Neural Network\n",
    "Steps:\n",
    "- Build\n",
    "- Compile\n",
    "- Fit\n",
    "- Evaluate"
   ]
  },
  {
   "cell_type": "markdown",
   "id": "1a335fda",
   "metadata": {},
   "source": [
    "**Simplest possible neural network. It has 1 layer, and that layer has 1 neuron, and the input shape to it is just 1 value.**"
   ]
  },
  {
   "cell_type": "code",
   "execution_count": 46,
   "id": "c96c164b",
   "metadata": {},
   "outputs": [
    {
     "name": "stdout",
     "output_type": "stream",
     "text": [
      "Epoch 1/10\n",
      "1/1 [==============================] - 0s 461ms/step - loss: 81.1202 - mae: 8.1882\n",
      "Epoch 2/10\n",
      "1/1 [==============================] - 0s 3ms/step - loss: 37.5449 - mae: 5.5699\n",
      "Epoch 3/10\n",
      "1/1 [==============================] - 0s 4ms/step - loss: 17.3769 - mae: 3.7885\n",
      "Epoch 4/10\n",
      "1/1 [==============================] - 0s 4ms/step - loss: 8.0426 - mae: 2.5767\n",
      "Epoch 5/10\n",
      "1/1 [==============================] - 0s 4ms/step - loss: 3.7224 - mae: 1.7523\n",
      "Epoch 6/10\n",
      "1/1 [==============================] - 0s 4ms/step - loss: 1.7228 - mae: 1.1914\n",
      "Epoch 7/10\n",
      "1/1 [==============================] - 0s 7ms/step - loss: 0.7974 - mae: 0.8098\n",
      "Epoch 8/10\n",
      "1/1 [==============================] - 0s 6ms/step - loss: 0.3691 - mae: 0.5502\n",
      "Epoch 9/10\n",
      "1/1 [==============================] - 0s 6ms/step - loss: 0.1708 - mae: 0.3736\n",
      "Epoch 10/10\n",
      "1/1 [==============================] - 0s 5ms/step - loss: 0.0791 - mae: 0.2535\n",
      "[[3.6553903]]\n"
     ]
    }
   ],
   "source": [
    "import tensorflow as tf\n",
    "import numpy as np\n",
    "from tensorflow import keras\n",
    "model = tf.keras.Sequential([tf.keras.layers.Dense(units=1, input_shape=[1])])\n",
    "model.compile(optimizer='sgd', loss='mean_squared_error', metrics=[\"mae\"])\n",
    "xs = np.array([1.0, 2.0, 3.0, 4.0, 5.0, 6.0], dtype=float)\n",
    "ys = np.array([1.0, 1.5, 2.0, 2.5, 3.0, 3.5], dtype=float)\n",
    "history = model.fit(xs, ys, epochs=10)\n",
    "print(model.predict([7.0]))"
   ]
  },
  {
   "cell_type": "code",
   "execution_count": 48,
   "id": "ce3ee057",
   "metadata": {},
   "outputs": [
    {
     "name": "stdout",
     "output_type": "stream",
     "text": [
      "Model: \"sequential_1\"\n",
      "_________________________________________________________________\n",
      " Layer (type)                Output Shape              Param #   \n",
      "=================================================================\n",
      " dense_1 (Dense)             (None, 1)                 2         \n",
      "                                                                 \n",
      "=================================================================\n",
      "Total params: 2\n",
      "Trainable params: 2\n",
      "Non-trainable params: 0\n",
      "_________________________________________________________________\n"
     ]
    }
   ],
   "source": [
    "model.summary()"
   ]
  },
  {
   "cell_type": "markdown",
   "id": "78c579aa",
   "metadata": {},
   "source": [
    "#### What is an Epoch?\n",
    "The number of epochs is a hyperparameter that defines the number times that the learning algorithm will work through the entire training dataset.\n",
    "\n",
    "One epoch means that each sample in the training dataset has had an opportunity to update the internal model parameters. An epoch is comprised of one or more batches. For example, as above, an epoch that has one batch is called the batch gradient descent learning algorithm.\n",
    "\n",
    "You can think of a for-loop over the number of epochs where each loop proceeds over the training dataset. Within this for-loop is another nested for-loop that iterates over each batch of samples, where one batch has the specified “batch size” number of samples."
   ]
  },
  {
   "cell_type": "markdown",
   "id": "1906883d",
   "metadata": {},
   "source": [
    "## Improving a model\n",
    "To improve our model, we alter almost every part of the 3 steps we went through before.\n",
    "\n",
    "1. **Creating a model**\n",
    "    - Add more layers\n",
    "    - Increase the number of hidden units (also called neurons) within each layer\n",
    "    - Change the activation functions of each layer.\n",
    "2. **Compiling a model** \n",
    "    - Choose optimization function or perhaps change the **learning rate** of the optimization function.\n",
    "3. **Fitting a model** \n",
    "    - Fit a model for more **epochs** (leave it training for longer) or on more data (give the model more examples to learn from)."
   ]
  },
  {
   "cell_type": "code",
   "execution_count": 52,
   "id": "f1094cfa",
   "metadata": {},
   "outputs": [],
   "source": [
    "# Plots Training Data and Prediction data.\n",
    "def plot_predictions(train_data, \n",
    "                     train_labels, \n",
    "                     test_data, \n",
    "                     test_labels, \n",
    "                     predictions):\n",
    "  \"\"\"\n",
    "  Plots training data, test data and compares predictions.\n",
    "  \"\"\"\n",
    "  plt.figure(figsize=(10, 7))\n",
    "  # Plot training data in blue\n",
    "  plt.scatter(train_data, train_labels, c=\"b\", label=\"Training data\")\n",
    "  # Plot test data in green\n",
    "  plt.scatter(test_data, test_labels, c=\"g\", label=\"Testing data\")\n",
    "  # Plot the predictions in red (predictions were made on the test data)\n",
    "  plt.scatter(test_data, predictions, c=\"r\", label=\"Predictions\")\n",
    "  # Show the legend\n",
    "  plt.legend()"
   ]
  },
  {
   "cell_type": "code",
   "execution_count": 53,
   "id": "3be51e62",
   "metadata": {},
   "outputs": [],
   "source": [
    "def mae(y_test, y_pred):\n",
    "  \"\"\"\n",
    "  Calculuates mean absolute error between y_test and y_preds.\n",
    "  \"\"\"\n",
    "  return tf.metrics.mean_absolute_error(y_test,\n",
    "                                        y_pred)\n",
    "  \n",
    "def mse(y_test, y_pred):\n",
    "  \"\"\"\n",
    "  Calculates mean squared error between y_test and y_preds.\n",
    "  \"\"\"\n",
    "  return tf.metrics.mean_squared_error(y_test,\n",
    "                                       y_pred)"
   ]
  },
  {
   "cell_type": "markdown",
   "id": "a9dd5c58",
   "metadata": {},
   "source": [
    "## Simple Classsification Model"
   ]
  },
  {
   "cell_type": "code",
   "execution_count": 54,
   "id": "394dfda0",
   "metadata": {},
   "outputs": [],
   "source": [
    "from sklearn.datasets import make_circles\n",
    "\n",
    "# Make 1000 examples\n",
    "n_samples = 1000\n",
    "\n",
    "# Create circles\n",
    "X, y = make_circles(n_samples, \n",
    "                    noise=0.03, \n",
    "                    random_state=42)"
   ]
  },
  {
   "cell_type": "code",
   "execution_count": 55,
   "id": "e7f3555b",
   "metadata": {},
   "outputs": [
    {
     "data": {
      "text/plain": [
       "<matplotlib.collections.PathCollection at 0x1a757b245e0>"
      ]
     },
     "execution_count": 55,
     "metadata": {},
     "output_type": "execute_result"
    },
    {
     "data": {
      "image/png": "[encoded data removed]",
      "text/plain": [
       "<Figure size 432x288 with 1 Axes>"
      ]
     },
     "metadata": {
      "needs_background": "light"
     },
     "output_type": "display_data"
    }
   ],
   "source": [
    "# Visualize with a plot\n",
    "import matplotlib.pyplot as plt\n",
    "plt.scatter(X[:, 0], X[:, 1], c=y, cmap=plt.cm.RdYlBu)"
   ]
  },
  {
   "cell_type": "code",
   "execution_count": 56,
   "id": "671fceb4",
   "metadata": {},
   "outputs": [
    {
     "name": "stdout",
     "output_type": "stream",
     "text": [
      "Epoch 1/5\n",
      "32/32 [==============================] - 0s 3ms/step - loss: 2.8544 - accuracy: 0.4600\n",
      "Epoch 2/5\n",
      "32/32 [==============================] - 0s 3ms/step - loss: 0.7131 - accuracy: 0.5430\n",
      "Epoch 3/5\n",
      "32/32 [==============================] - 0s 3ms/step - loss: 0.6973 - accuracy: 0.5090\n",
      "Epoch 4/5\n",
      "32/32 [==============================] - 0s 3ms/step - loss: 0.6950 - accuracy: 0.5010\n",
      "Epoch 5/5\n",
      "32/32 [==============================] - 0s 2ms/step - loss: 0.6942 - accuracy: 0.4830\n"
     ]
    },
    {
     "data": {
      "text/plain": [
       "<keras.callbacks.History at 0x1a75958aa90>"
      ]
     },
     "execution_count": 56,
     "metadata": {},
     "output_type": "execute_result"
    }
   ],
   "source": [
    "# Set random seed\n",
    "tf.random.set_seed(42)\n",
    "\n",
    "# 1. Create the model using the Sequential API\n",
    "model_1 = tf.keras.Sequential([\n",
    "  tf.keras.layers.Dense(1)\n",
    "])\n",
    "\n",
    "# 2. Compile the model\n",
    "model_1.compile(loss=tf.keras.losses.BinaryCrossentropy(), # binary since we are working with 2 clases (0 & 1)\n",
    "                optimizer=tf.keras.optimizers.SGD(),\n",
    "                # optimizer=tf.keras.optimizers.Adam(lr=0.01),\n",
    "                metrics=['accuracy'])\n",
    "\n",
    "# 3. Fit the model\n",
    "model_1.fit(X, y, epochs=5)"
   ]
  },
  {
   "cell_type": "code",
   "execution_count": 57,
   "id": "eb0b6399",
   "metadata": {},
   "outputs": [
    {
     "name": "stdout",
     "output_type": "stream",
     "text": [
      "32/32 [==============================] - 0s 1ms/step - loss: 0.6935 - accuracy: 0.5000\n"
     ]
    },
    {
     "data": {
      "text/plain": [
       "[0.6934829950332642, 0.5]"
      ]
     },
     "execution_count": 57,
     "metadata": {},
     "output_type": "execute_result"
    }
   ],
   "source": [
    "# Train our model for longer (more chances to look at the data)\n",
    "model_1.fit(X, y, epochs=200, verbose=0) # set verbose=0 to remove training updates\n",
    "model_1.evaluate(X, y)"
   ]
  },
  {
   "cell_type": "markdown",
   "id": "a65de0f8",
   "metadata": {},
   "source": [
    "### Finding the best learning rate\n",
    "\n",
    "Aside from the architecture itself (the layers, number of neurons, activations, etc), the most important hyperparameter you can tune for your neural network models is the **learning rate**.\n"
   ]
  },
  {
   "cell_type": "code",
   "execution_count": 58,
   "id": "aa4c884e",
   "metadata": {},
   "outputs": [],
   "source": [
    "# Create a learning rate scheduler callback\n",
    "lr_scheduler = tf.keras.callbacks.LearningRateScheduler(lambda epoch: 1e-4 * 10**(epoch/20)) # traverse a set of learning rate values starting from 1e-4, increasing by 10**(epoch/20) every epoch\n",
    "# Fit the model (passing the lr_scheduler callback)\n",
    "# history = model_9.fit(X_train, y_train, epochs=100, callbacks=[lr_scheduler])"
   ]
  },
  {
   "cell_type": "code",
   "execution_count": 60,
   "id": "dd21b125",
   "metadata": {},
   "outputs": [],
   "source": [
    "# Create a confusion matrix\n",
    "from sklearn.metrics import confusion_matrix\n",
    "\n",
    "# Make predictions\n",
    "# y_preds = model_10.predict(X_test)\n",
    "\n",
    "# Create confusion matrix\n",
    "# confusion_matrix(y_test, y_preds)"
   ]
  },
  {
   "cell_type": "markdown",
   "id": "73088cd0",
   "metadata": {},
   "source": [
    "### Multi Image Classification Fashion Mnist"
   ]
  },
  {
   "cell_type": "code",
   "execution_count": 61,
   "id": "be318455",
   "metadata": {},
   "outputs": [],
   "source": [
    "# Set random seed\n",
    "tf.random.set_seed(42)\n",
    "\n",
    "# Create the model\n",
    "model_11 = tf.keras.Sequential([\n",
    "  tf.keras.layers.Flatten(input_shape=(28, 28)), # input layer (we had to reshape 28x28 to 784, the Flatten layer does this for us)\n",
    "  tf.keras.layers.Dense(4, activation=\"relu\"),\n",
    "  tf.keras.layers.Dense(4, activation=\"relu\"),\n",
    "  tf.keras.layers.Dense(10, activation=\"softmax\") # output shape is 10, activation is softmax\n",
    "])\n",
    "\n",
    "# Compile the model\n",
    "model_11.compile(loss=tf.keras.losses.SparseCategoricalCrossentropy(), # different loss function for multiclass classifcation\n",
    "                 optimizer=tf.keras.optimizers.Adam(),\n",
    "                 metrics=[\"accuracy\"])\n",
    "\n",
    "# Fit the model\n",
    "# history = model_11.fit(train_data,train_labels, epochs=10, validation_data=(test_data, test_labels)) # see how the model performs on the test set during training"
   ]
  },
  {
   "cell_type": "markdown",
   "id": "ba391ddd",
   "metadata": {},
   "source": [
    "**Ploting History Data**"
   ]
  },
  {
   "cell_type": "code",
   "execution_count": 62,
   "id": "cbd84b6a",
   "metadata": {},
   "outputs": [],
   "source": [
    "import pandas as pd\n",
    "# Plot non-normalized data loss curves\n",
    "# pd.DataFrame(history.history).plot(title=\" Data\")"
   ]
  },
  {
   "cell_type": "markdown",
   "id": "5315dd01",
   "metadata": {},
   "source": [
    "## CNN"
   ]
  },
  {
   "cell_type": "code",
   "execution_count": 65,
   "id": "62f4f49b",
   "metadata": {},
   "outputs": [
    {
     "name": "stdout",
     "output_type": "stream",
     "text": [
      "100% [......................................................................] 109579078 / 109579078"
     ]
    }
   ],
   "source": [
    "import zipfile\n",
    "\n",
    "# Download zip file of pizza_steak images\n",
    "import wget\n",
    "wget.download('https://storage.googleapis.com/ztm_tf_course/food_vision/pizza_steak.zip')\n",
    "\n",
    "# Unzip the downloaded file\n",
    "zip_ref = zipfile.ZipFile(\"pizza_steak.zip\", \"r\")\n",
    "zip_ref.extractall()\n",
    "zip_ref.close()"
   ]
  },
  {
   "cell_type": "code",
   "execution_count": 66,
   "id": "40a39be9",
   "metadata": {},
   "outputs": [
    {
     "name": "stdout",
     "output_type": "stream",
     "text": [
      "Found 1500 images belonging to 2 classes.\n",
      "Found 500 images belonging to 2 classes.\n",
      "Epoch 1/5\n",
      "47/47 [==============================] - 18s 273ms/step - loss: 0.5606 - accuracy: 0.7233 - val_loss: 0.3862 - val_accuracy: 0.8520\n",
      "Epoch 2/5\n",
      "47/47 [==============================] - 4s 77ms/step - loss: 0.4293 - accuracy: 0.8000 - val_loss: 0.3620 - val_accuracy: 0.8520\n",
      "Epoch 3/5\n",
      "47/47 [==============================] - 4s 80ms/step - loss: 0.3964 - accuracy: 0.8347 - val_loss: 0.3344 - val_accuracy: 0.8520\n",
      "Epoch 4/5\n",
      "47/47 [==============================] - 4s 85ms/step - loss: 0.3641 - accuracy: 0.8427 - val_loss: 0.3651 - val_accuracy: 0.8340\n",
      "Epoch 5/5\n",
      "47/47 [==============================] - 4s 80ms/step - loss: 0.3713 - accuracy: 0.8313 - val_loss: 0.3351 - val_accuracy: 0.8580\n"
     ]
    }
   ],
   "source": [
    "import tensorflow as tf\n",
    "from tensorflow.keras.preprocessing.image import ImageDataGenerator\n",
    "\n",
    "# Set the seed\n",
    "tf.random.set_seed(42)\n",
    "\n",
    "# Preprocess data (get all of the pixel values between 1 and 0, also called scaling/normalization)\n",
    "train_datagen = ImageDataGenerator(rescale=1./255)\n",
    "valid_datagen = ImageDataGenerator(rescale=1./255)\n",
    "\n",
    "# Setup the train and test directories\n",
    "train_dir = \"pizza_steak/train/\"\n",
    "test_dir = \"pizza_steak/test/\"\n",
    "\n",
    "# Import data from directories and turn it into batches\n",
    "train_data = train_datagen.flow_from_directory(train_dir,\n",
    "                                               batch_size=32, # number of images to process at a time \n",
    "                                               target_size=(224, 224), # convert all images to be 224 x 224\n",
    "                                               class_mode=\"binary\", # type of problem we're working on\n",
    "                                               seed=42)\n",
    "\n",
    "valid_data = valid_datagen.flow_from_directory(test_dir,\n",
    "                                               batch_size=32,\n",
    "                                               target_size=(224, 224),\n",
    "                                               class_mode=\"binary\",\n",
    "                                               seed=42)\n",
    "\n",
    "# Create a CNN model (same as Tiny VGG - https://poloclub.github.io/cnn-explainer/)\n",
    "model_1 = tf.keras.models.Sequential([\n",
    "  tf.keras.layers.Conv2D(filters=10, \n",
    "                         kernel_size=3, # can also be (3, 3)\n",
    "                         activation=\"relu\", \n",
    "                         input_shape=(224, 224, 3)), # first layer specifies input shape (height, width, colour channels)\n",
    "  tf.keras.layers.Conv2D(10, 3, activation=\"relu\"),\n",
    "  tf.keras.layers.MaxPool2D(pool_size=2, # pool_size can also be (2, 2)\n",
    "                            padding=\"valid\"), # padding can also be 'same'\n",
    "  tf.keras.layers.Conv2D(10, 3, activation=\"relu\"),\n",
    "  tf.keras.layers.Conv2D(10, 3, activation=\"relu\"), # activation='relu' == tf.keras.layers.Activations(tf.nn.relu)\n",
    "  tf.keras.layers.MaxPool2D(2),\n",
    "  tf.keras.layers.Flatten(),\n",
    "  tf.keras.layers.Dense(1, activation=\"sigmoid\") # binary activation output\n",
    "])\n",
    "\n",
    "# Compile the model\n",
    "model_1.compile(loss=\"binary_crossentropy\",\n",
    "              optimizer=tf.keras.optimizers.Adam(),\n",
    "              metrics=[\"accuracy\"])\n",
    "\n",
    "# Fit the model\n",
    "history_1 = model_1.fit(train_data,\n",
    "                        epochs=5,\n",
    "                        steps_per_epoch=len(train_data),\n",
    "                        validation_data=valid_data,\n",
    "                        validation_steps=len(valid_data))"
   ]
  },
  {
   "cell_type": "code",
   "execution_count": 67,
   "id": "8ea64721",
   "metadata": {},
   "outputs": [
    {
     "name": "stdout",
     "output_type": "stream",
     "text": [
      "Model: \"sequential_4\"\n",
      "_________________________________________________________________\n",
      " Layer (type)                Output Shape              Param #   \n",
      "=================================================================\n",
      " conv2d (Conv2D)             (None, 222, 222, 10)      280       \n",
      "                                                                 \n",
      " conv2d_1 (Conv2D)           (None, 220, 220, 10)      910       \n",
      "                                                                 \n",
      " max_pooling2d (MaxPooling2D  (None, 110, 110, 10)     0         \n",
      " )                                                               \n",
      "                                                                 \n",
      " conv2d_2 (Conv2D)           (None, 108, 108, 10)      910       \n",
      "                                                                 \n",
      " conv2d_3 (Conv2D)           (None, 106, 106, 10)      910       \n",
      "                                                                 \n",
      " max_pooling2d_1 (MaxPooling  (None, 53, 53, 10)       0         \n",
      " 2D)                                                             \n",
      "                                                                 \n",
      " flatten_1 (Flatten)         (None, 28090)             0         \n",
      "                                                                 \n",
      " dense_6 (Dense)             (None, 1)                 28091     \n",
      "                                                                 \n",
      "=================================================================\n",
      "Total params: 31,101\n",
      "Trainable params: 31,101\n",
      "Non-trainable params: 0\n",
      "_________________________________________________________________\n"
     ]
    }
   ],
   "source": [
    "model_1.summary()"
   ]
  },
  {
   "cell_type": "code",
   "execution_count": 68,
   "id": "c1e6e2e2",
   "metadata": {},
   "outputs": [],
   "source": [
    "# For Data Augumentation\n",
    "\n",
    "# Create ImageDataGenerator training instance with data augmentation\n",
    "train_datagen_augmented = ImageDataGenerator(rescale=1/255.,\n",
    "                                             rotation_range=20, # rotate the image slightly between 0 and 20 degrees (note: this is an int not a float)\n",
    "                                             shear_range=0.2, # shear the image\n",
    "                                             zoom_range=0.2, # zoom into the image\n",
    "                                             width_shift_range=0.2, # shift the image width ways\n",
    "                                             height_shift_range=0.2, # shift the image height ways\n",
    "                                             horizontal_flip=True) # flip the image on the horizontal axis\n",
    "\n",
    "# Create ImageDataGenerator training instance without data augmentation\n",
    "train_datagen = ImageDataGenerator(rescale=1/255.) \n",
    "\n",
    "# Create ImageDataGenerator test instance without data augmentation\n",
    "test_datagen = ImageDataGenerator(rescale=1/255.)"
   ]
  },
  {
   "cell_type": "markdown",
   "id": "46683120",
   "metadata": {},
   "source": [
    "#### Add an extra axis\n",
    "tf.expand_dims(object, axis=0) # add an extra dimension at axis 0"
   ]
  },
  {
   "cell_type": "markdown",
   "id": "844b236f",
   "metadata": {},
   "source": [
    "### Use TensorFlow Datasets to Download Data"
   ]
  },
  {
   "cell_type": "code",
   "execution_count": 70,
   "id": "876f9b42",
   "metadata": {},
   "outputs": [],
   "source": [
    "# Get TensorFlow Datasets\n",
    "import tensorflow_datasets as tfds\n",
    "# Load in the data (takes about 5-6 minutes in Google Colab)\n",
    "(train_data, test_data), ds_info = tfds.load(name=\"food101\", # target dataset to get from TFDS\n",
    "                                             data_dir = \"D:\\Datasets\\FoodBlog\",\n",
    "                                             split=[\"train\", \"validation\"], # what splits of data should we get? note: not all datasets have train, valid, test\n",
    "                                             shuffle_files=True, # shuffle files on download?\n",
    "                                             as_supervised=True, # download data in tuple format (sample, label), e.g. (image, label)\n",
    "                                             with_info=True) # include dataset metadata? if so, tfds.load() returns tuple (data, ds_info)"
   ]
  },
  {
   "cell_type": "code",
   "execution_count": 71,
   "id": "438a77d7",
   "metadata": {},
   "outputs": [
    {
     "data": {
      "text/plain": [
       "FeaturesDict({\n",
       "    'image': Image(shape=(None, None, 3), dtype=tf.uint8),\n",
       "    'label': ClassLabel(shape=(), dtype=tf.int64, num_classes=101),\n",
       "})"
      ]
     },
     "execution_count": 71,
     "metadata": {},
     "output_type": "execute_result"
    }
   ],
   "source": [
    "# Features of Food101 TFDS\n",
    "ds_info.features"
   ]
  },
  {
   "cell_type": "code",
   "execution_count": 72,
   "id": "83cd4c8b",
   "metadata": {},
   "outputs": [
    {
     "data": {
      "text/plain": [
       "['apple_pie',\n",
       " 'baby_back_ribs',\n",
       " 'baklava',\n",
       " 'beef_carpaccio',\n",
       " 'beef_tartare',\n",
       " 'beet_salad',\n",
       " 'beignets',\n",
       " 'bibimbap',\n",
       " 'bread_pudding',\n",
       " 'breakfast_burrito']"
      ]
     },
     "execution_count": 72,
     "metadata": {},
     "output_type": "execute_result"
    }
   ],
   "source": [
    "# Get class names\n",
    "class_names = ds_info.features[\"label\"].names\n",
    "class_names[:10]"
   ]
  },
  {
   "cell_type": "markdown",
   "id": "0ab0681f",
   "metadata": {},
   "source": [
    "## Batch & prepare datasets\n",
    "\n",
    "Before we can model our data, we have to turn it into batches.\n",
    "\n",
    "Why?\n",
    "\n",
    "Because computing on batches is memory efficient.\n",
    "Specifically, we're going to be using:\n",
    "\n",
    "* [`map()`](https://www.tensorflow.org/api_docs/python/tf/data/Dataset#map) - maps a predefined function to a target dataset (e.g. `preprocess_img()` to our image tensors)\n",
    "* [`shuffle()`](https://www.tensorflow.org/api_docs/python/tf/data/Dataset#shuffle) - randomly shuffles the elements of a target dataset up `buffer_size` (ideally, the `buffer_size` is equal to the size of the dataset, however, this may have implications on memory)\n",
    "* [`batch()`](https://www.tensorflow.org/api_docs/python/tf/data/Dataset#batch) - turns elements of a target dataset into batches (size defined by parameter `batch_size`)\n",
    "* [`prefetch()`](https://www.tensorflow.org/api_docs/python/tf/data/Dataset#prefetch) - prepares subsequent batches of data whilst other batches of data are being computed on (improves data loading speed but costs memory)\n",
    "* Extra: [`cache()`](https://www.tensorflow.org/api_docs/python/tf/data/Dataset#cache) - caches (saves them for later) elements in a target dataset, saving loading time (will only work if your dataset is small enough to fit in memory, standard Colab instances only have 12GB of memory) "
   ]
  },
  {
   "cell_type": "code",
   "execution_count": 74,
   "id": "bd4c7cbf",
   "metadata": {},
   "outputs": [],
   "source": [
    "# Make a function for preprocessing images\n",
    "def preprocess_img(image, label, img_shape=224):\n",
    "  \"\"\"\n",
    "  Converts image datatype from 'uint8' -> 'float32' and reshapes image to\n",
    "  [img_shape, img_shape, color_channels]\n",
    "  \"\"\"\n",
    "  image = tf.image.resize(image, [img_shape, img_shape]) # reshape to img_shape\n",
    "  return tf.cast(image, tf.float32), label # return (float32_image, label) tuple"
   ]
  },
  {
   "cell_type": "code",
   "execution_count": 75,
   "id": "21d524de",
   "metadata": {},
   "outputs": [],
   "source": [
    "# Map preprocessing function to training data (and paralellize)\n",
    "train_data = train_data.map(map_func=preprocess_img, num_parallel_calls=tf.data.AUTOTUNE)\n",
    "# Shuffle train_data and turn it into batches and prefetch it (load it faster)\n",
    "train_data = train_data.shuffle(buffer_size=1000).batch(batch_size=32).prefetch(buffer_size=tf.data.AUTOTUNE)\n",
    "\n",
    "# Map prepreprocessing function to test data\n",
    "test_data = test_data.map(preprocess_img, num_parallel_calls=tf.data.AUTOTUNE)\n",
    "# Turn test data into batches (don't need to shuffle)\n",
    "test_data = test_data.batch(32).prefetch(tf.data.AUTOTUNE)"
   ]
  },
  {
   "cell_type": "code",
   "execution_count": 76,
   "id": "ecdf9b72",
   "metadata": {},
   "outputs": [
    {
     "data": {
      "text/plain": [
       "(<PrefetchDataset shapes: ((None, 224, 224, 3), (None,)), types: (tf.float32, tf.int64)>,\n",
       " <PrefetchDataset shapes: ((None, 224, 224, 3), (None,)), types: (tf.float32, tf.int64)>)"
      ]
     },
     "execution_count": 76,
     "metadata": {},
     "output_type": "execute_result"
    }
   ],
   "source": [
    "train_data, test_data"
   ]
  },
  {
   "cell_type": "markdown",
   "id": "3f326d34",
   "metadata": {},
   "source": [
    "## Create modelling callbacks\n",
    "\n",
    "Since we're going to be training on a large amount of data and training could take a long time, it's a good idea to set up some modelling callbacks so we be sure of things like our model's training logs being tracked and our model being checkpointed (saved) after various training milestones.\n",
    "\n",
    "To do each of these we'll use the following callbacks:\n",
    "* [`tf.keras.callbacks.TensorBoard()`](https://www.tensorflow.org/api_docs/python/tf/keras/callbacks/TensorBoard) - allows us to keep track of our model's training history so we can inspect it later (**note:** we've created this callback before have imported it from `helper_functions.py` as `create_tensorboard_callback()`)\n",
    "* [`tf.keras.callbacks.ModelCheckpoint()`](https://www.tensorflow.org/api_docs/python/tf/keras/callbacks/ModelCheckpoint) - saves our model's progress at various intervals so we can load it and resuse it later without having to retrain it\n",
    "  * Checkpointing is also helpful so we can start fine-tuning our model at a particular epoch and revert back to a previous state if fine-tuning offers no benefits"
   ]
  },
  {
   "cell_type": "code",
   "execution_count": 78,
   "id": "916bec8d",
   "metadata": {},
   "outputs": [],
   "source": [
    "# Create TensorBoard callback (already have \"create_tensorboard_callback()\" from a previous notebook)\n",
    "# from helper_functions import create_tensorboard_callback\n",
    "\n",
    "# Create ModelCheckpoint callback to save model's progress\n",
    "checkpoint_path = \"model_checkpoints/cp.ckpt\" # saving weights requires \".ckpt\" extension\n",
    "model_checkpoint = tf.keras.callbacks.ModelCheckpoint(checkpoint_path,\n",
    "                                                      montior=\"val_acc\", # save the model weights with best validation accuracy\n",
    "                                                      save_best_only=True, # only save the best weights\n",
    "                                                      save_weights_only=True, # only save model weights (not whole model)\n",
    "                                                      verbose=0) # don't print out whether or not model is being saved "
   ]
  },
  {
   "cell_type": "code",
   "execution_count": 79,
   "id": "a472dcb0",
   "metadata": {},
   "outputs": [
    {
     "name": "stdout",
     "output_type": "stream",
     "text": [
      "INFO:tensorflow:Mixed precision compatibility check (mixed_float16): OK\n",
      "Your GPU will likely run quickly with dtype policy mixed_float16 as it has compute capability of at least 7.0. Your GPU: NVIDIA GeForce RTX 2060, compute capability 7.5\n"
     ]
    },
    {
     "name": "stderr",
     "output_type": "stream",
     "text": [
      "INFO:tensorflow:Mixed precision compatibility check (mixed_float16): OK\n",
      "Your GPU will likely run quickly with dtype policy mixed_float16 as it has compute capability of at least 7.0. Your GPU: NVIDIA GeForce RTX 2060, compute capability 7.5\n"
     ]
    }
   ],
   "source": [
    "# Turn on mixed precision training\n",
    "from tensorflow.keras import mixed_precision\n",
    "mixed_precision.set_global_policy(policy=\"mixed_float16\") # set global policy to mixed precision "
   ]
  },
  {
   "cell_type": "code",
   "execution_count": 80,
   "id": "5249b7a7",
   "metadata": {},
   "outputs": [],
   "source": [
    "from tensorflow.keras import layers\n",
    "from tensorflow.keras.layers.experimental import preprocessing\n",
    "\n",
    "# Create base model\n",
    "input_shape = (224, 224, 3)\n",
    "base_model = tf.keras.applications.EfficientNetB0(include_top=False)\n",
    "base_model.trainable = False # freeze base model layers\n",
    "\n",
    "# Create Functional model \n",
    "inputs = layers.Input(shape=input_shape, name=\"input_layer\")\n",
    "# Note: EfficientNetBX models have rescaling built-in but if your model didn't you could have a layer like below\n",
    "# x = preprocessing.Rescaling(1./255)(x)\n",
    "x = base_model(inputs, training=False) # set base_model to inference mode only\n",
    "x = layers.GlobalAveragePooling2D(name=\"pooling_layer\")(x)\n",
    "x = layers.Dense(len(class_names))(x) # want one output neuron per class \n",
    "# Separate activation of output layer so we can output float32 activations\n",
    "outputs = layers.Activation(\"softmax\", dtype=tf.float32, name=\"softmax_float32\")(x) \n",
    "model = tf.keras.Model(inputs, outputs)\n",
    "\n",
    "# Compile the model\n",
    "model.compile(loss=\"sparse_categorical_crossentropy\", # Use sparse_categorical_crossentropy when labels are *not* one-hot\n",
    "              optimizer=tf.keras.optimizers.Adam(),\n",
    "              metrics=[\"accuracy\"])"
   ]
  },
  {
   "cell_type": "code",
   "execution_count": 82,
   "id": "ce9c2eca",
   "metadata": {},
   "outputs": [
    {
     "name": "stdout",
     "output_type": "stream",
     "text": [
      "Epoch 1/3\n",
      "2368/2368 [==============================] - 106s 41ms/step - loss: 1.8175 - accuracy: 0.5582 - val_loss: 1.2292 - val_accuracy: 0.6761\n",
      "Epoch 2/3\n",
      "2368/2368 [==============================] - 99s 41ms/step - loss: 1.2922 - accuracy: 0.6661 - val_loss: 1.1236 - val_accuracy: 0.6976\n",
      "Epoch 3/3\n",
      "2368/2368 [==============================] - 99s 41ms/step - loss: 1.1427 - accuracy: 0.7026 - val_loss: 1.0843 - val_accuracy: 0.7079\n"
     ]
    }
   ],
   "source": [
    "# Fit the model with callbacks\n",
    "history_101_food_classes_feature_extract = model.fit(train_data, \n",
    "                                                     epochs=3,\n",
    "                                                     steps_per_epoch=len(train_data),\n",
    "                                                     validation_data=test_data,\n",
    "                                                     validation_steps=int(0.15 * len(test_data)),\n",
    "                                                     callbacks=[\n",
    "                                                                model_checkpoint])"
   ]
  },
  {
   "cell_type": "markdown",
   "id": "5dc6faec",
   "metadata": {},
   "source": [
    "## NLP"
   ]
  },
  {
   "cell_type": "code",
   "execution_count": 89,
   "id": "984008d4",
   "metadata": {},
   "outputs": [
    {
     "name": "stdout",
     "output_type": "stream",
     "text": [
      "\r",
      "  0% [                                                                          ]       0 / 5643545\r",
      "  0% [                                                                          ]    8192 / 5643545\r",
      "  0% [                                                                          ]   16384 / 5643545\r",
      "  0% [                                                                          ]   24576 / 5643545\r",
      "  0% [                                                                          ]   32768 / 5643545\r",
      "  0% [                                                                          ]   40960 / 5643545\r",
      "  0% [                                                                          ]   49152 / 5643545\r",
      "  1% [                                                                          ]   57344 / 5643545\r",
      "  1% [                                                                          ]   65536 / 5643545\r",
      "  1% [                                                                          ]   73728 / 5643545\r",
      "  1% [.                                                                         ]   81920 / 5643545\r",
      "  1% [.                                                                         ]   90112 / 5643545\r",
      "  1% [.                                                                         ]   98304 / 5643545\r",
      "  1% [.                                                                         ]  106496 / 5643545\r",
      "  2% [.                                                                         ]  114688 / 5643545\r",
      "  2% [.                                                                         ]  122880 / 5643545\r",
      "  2% [.                                                                         ]  131072 / 5643545\r",
      "  2% [.                                                                         ]  139264 / 5643545\r",
      "  2% [.                                                                         ]  147456 / 5643545\r",
      "  2% [..                                                                        ]  155648 / 5643545\r",
      "  2% [..                                                                        ]  163840 / 5643545\r",
      "  3% [..                                                                        ]  172032 / 5643545\r",
      "  3% [..                                                                        ]  180224 / 5643545\r",
      "  3% [..                                                                        ]  188416 / 5643545\r",
      "  3% [..                                                                        ]  196608 / 5643545\r",
      "  3% [..                                                                        ]  204800 / 5643545\r",
      "  3% [..                                                                        ]  212992 / 5643545\r",
      "  3% [..                                                                        ]  221184 / 5643545\r",
      "  4% [...                                                                       ]  229376 / 5643545\r",
      "  4% [...                                                                       ]  237568 / 5643545\r",
      "  4% [...                                                                       ]  245760 / 5643545\r",
      "  4% [...                                                                       ]  253952 / 5643545\r",
      "  4% [...                                                                       ]  262144 / 5643545\r",
      "  4% [...                                                                       ]  270336 / 5643545\r",
      "  4% [...                                                                       ]  278528 / 5643545\r",
      "  5% [...                                                                       ]  286720 / 5643545\r",
      "  5% [...                                                                       ]  294912 / 5643545\r",
      "  5% [...                                                                       ]  303104 / 5643545\r",
      "  5% [....                                                                      ]  311296 / 5643545\r",
      "  5% [....                                                                      ]  319488 / 5643545\r",
      "  5% [....                                                                      ]  327680 / 5643545\r",
      "  5% [....                                                                      ]  335872 / 5643545\r",
      "  6% [....                                                                      ]  344064 / 5643545\r",
      "  6% [....                                                                      ]  352256 / 5643545\r",
      "  6% [....                                                                      ]  360448 / 5643545\r",
      "  6% [....                                                                      ]  368640 / 5643545\r",
      "  6% [....                                                                      ]  376832 / 5643545\r",
      "  6% [.....                                                                     ]  385024 / 5643545\r",
      "  6% [.....                                                                     ]  393216 / 5643545\r",
      "  7% [.....                                                                     ]  401408 / 5643545\r",
      "  7% [.....                                                                     ]  409600 / 5643545\r",
      "  7% [.....                                                                     ]  417792 / 5643545\r",
      "  7% [.....                                                                     ]  425984 / 5643545\r",
      "  7% [.....                                                                     ]  434176 / 5643545\r",
      "  7% [.....                                                                     ]  442368 / 5643545\r",
      "  7% [.....                                                                     ]  450560 / 5643545\r",
      "  8% [......                                                                    ]  458752 / 5643545\r",
      "  8% [......                                                                    ]  466944 / 5643545\r",
      "  8% [......                                                                    ]  475136 / 5643545\r",
      "  8% [......                                                                    ]  483328 / 5643545\r",
      "  8% [......                                                                    ]  491520 / 5643545\r",
      "  8% [......                                                                    ]  499712 / 5643545\r",
      "  8% [......                                                                    ]  507904 / 5643545\r",
      "  9% [......                                                                    ]  516096 / 5643545\r",
      "  9% [......                                                                    ]  524288 / 5643545\r",
      "  9% [......                                                                    ]  532480 / 5643545\r",
      "  9% [.......                                                                   ]  540672 / 5643545\r",
      "  9% [.......                                                                   ]  548864 / 5643545\r",
      "  9% [.......                                                                   ]  557056 / 5643545\r",
      " 10% [.......                                                                   ]  565248 / 5643545\r",
      " 10% [.......                                                                   ]  573440 / 5643545\r",
      " 10% [.......                                                                   ]  581632 / 5643545\r",
      " 10% [.......                                                                   ]  589824 / 5643545\r",
      " 10% [.......                                                                   ]  598016 / 5643545\r",
      " 10% [.......                                                                   ]  606208 / 5643545\r",
      " 10% [........                                                                  ]  614400 / 5643545\r",
      " 11% [........                                                                  ]  622592 / 5643545\r",
      " 11% [........                                                                  ]  630784 / 5643545\r",
      " 11% [........                                                                  ]  638976 / 5643545\r",
      " 11% [........                                                                  ]  647168 / 5643545\r",
      " 11% [........                                                                  ]  655360 / 5643545\r",
      " 11% [........                                                                  ]  663552 / 5643545\r",
      " 11% [........                                                                  ]  671744 / 5643545\r",
      " 12% [........                                                                  ]  679936 / 5643545\r",
      " 12% [.........                                                                 ]  688128 / 5643545\r",
      " 12% [.........                                                                 ]  696320 / 5643545\r",
      " 12% [.........                                                                 ]  704512 / 5643545\r",
      " 12% [.........                                                                 ]  712704 / 5643545\r",
      " 12% [.........                                                                 ]  720896 / 5643545\r",
      " 12% [.........                                                                 ]  729088 / 5643545\r",
      " 13% [.........                                                                 ]  737280 / 5643545\r",
      " 13% [.........                                                                 ]  745472 / 5643545\r",
      " 13% [.........                                                                 ]  753664 / 5643545\r",
      " 13% [.........                                                                 ]  761856 / 5643545\r",
      " 13% [..........                                                                ]  770048 / 5643545\r",
      " 13% [..........                                                                ]  778240 / 5643545\r",
      " 13% [..........                                                                ]  786432 / 5643545\r",
      " 14% [..........                                                                ]  794624 / 5643545\r",
      " 14% [..........                                                                ]  802816 / 5643545\r",
      " 14% [..........                                                                ]  811008 / 5643545\r",
      " 14% [..........                                                                ]  819200 / 5643545\r",
      " 14% [..........                                                                ]  827392 / 5643545\r",
      " 14% [..........                                                                ]  835584 / 5643545\r",
      " 14% [...........                                                               ]  843776 / 5643545\r",
      " 15% [...........                                                               ]  851968 / 5643545"
     ]
    },
    {
     "name": "stdout",
     "output_type": "stream",
     "text": [
      "\r",
      " 15% [...........                                                               ]  860160 / 5643545\r",
      " 15% [...........                                                               ]  868352 / 5643545\r",
      " 15% [...........                                                               ]  876544 / 5643545\r",
      " 15% [...........                                                               ]  884736 / 5643545\r",
      " 15% [...........                                                               ]  892928 / 5643545\r",
      " 15% [...........                                                               ]  901120 / 5643545\r",
      " 16% [...........                                                               ]  909312 / 5643545\r",
      " 16% [............                                                              ]  917504 / 5643545\r",
      " 16% [............                                                              ]  925696 / 5643545\r",
      " 16% [............                                                              ]  933888 / 5643545\r",
      " 16% [............                                                              ]  942080 / 5643545\r",
      " 16% [............                                                              ]  950272 / 5643545\r",
      " 16% [............                                                              ]  958464 / 5643545\r",
      " 17% [............                                                              ]  966656 / 5643545\r",
      " 17% [............                                                              ]  974848 / 5643545\r",
      " 17% [............                                                              ]  983040 / 5643545\r",
      " 17% [............                                                              ]  991232 / 5643545\r",
      " 17% [.............                                                             ]  999424 / 5643545\r",
      " 17% [.............                                                             ] 1007616 / 5643545\r",
      " 17% [.............                                                             ] 1015808 / 5643545\r",
      " 18% [.............                                                             ] 1024000 / 5643545\r",
      " 18% [.............                                                             ] 1032192 / 5643545\r",
      " 18% [.............                                                             ] 1040384 / 5643545\r",
      " 18% [.............                                                             ] 1048576 / 5643545\r",
      " 18% [.............                                                             ] 1056768 / 5643545\r",
      " 18% [.............                                                             ] 1064960 / 5643545\r",
      " 19% [..............                                                            ] 1073152 / 5643545\r",
      " 19% [..............                                                            ] 1081344 / 5643545\r",
      " 19% [..............                                                            ] 1089536 / 5643545\r",
      " 19% [..............                                                            ] 1097728 / 5643545\r",
      " 19% [..............                                                            ] 1105920 / 5643545\r",
      " 19% [..............                                                            ] 1114112 / 5643545\r",
      " 19% [..............                                                            ] 1122304 / 5643545\r",
      " 20% [..............                                                            ] 1130496 / 5643545\r",
      " 20% [..............                                                            ] 1138688 / 5643545\r",
      " 20% [...............                                                           ] 1146880 / 5643545\r",
      " 20% [...............                                                           ] 1155072 / 5643545\r",
      " 20% [...............                                                           ] 1163264 / 5643545\r",
      " 20% [...............                                                           ] 1171456 / 5643545\r",
      " 20% [...............                                                           ] 1179648 / 5643545\r",
      " 21% [...............                                                           ] 1187840 / 5643545\r",
      " 21% [...............                                                           ] 1196032 / 5643545\r",
      " 21% [...............                                                           ] 1204224 / 5643545\r",
      " 21% [...............                                                           ] 1212416 / 5643545\r",
      " 21% [................                                                          ] 1220608 / 5643545\r",
      " 21% [................                                                          ] 1228800 / 5643545\r",
      " 21% [................                                                          ] 1236992 / 5643545\r",
      " 22% [................                                                          ] 1245184 / 5643545\r",
      " 22% [................                                                          ] 1253376 / 5643545\r",
      " 22% [................                                                          ] 1261568 / 5643545\r",
      " 22% [................                                                          ] 1269760 / 5643545\r",
      " 22% [................                                                          ] 1277952 / 5643545\r",
      " 22% [................                                                          ] 1286144 / 5643545\r",
      " 22% [................                                                          ] 1294336 / 5643545\r",
      " 23% [.................                                                         ] 1302528 / 5643545\r",
      " 23% [.................                                                         ] 1310720 / 5643545\r",
      " 23% [.................                                                         ] 1318912 / 5643545\r",
      " 23% [.................                                                         ] 1327104 / 5643545\r",
      " 23% [.................                                                         ] 1335296 / 5643545\r",
      " 23% [.................                                                         ] 1343488 / 5643545\r",
      " 23% [.................                                                         ] 1351680 / 5643545\r",
      " 24% [.................                                                         ] 1359872 / 5643545\r",
      " 24% [.................                                                         ] 1368064 / 5643545\r",
      " 24% [..................                                                        ] 1376256 / 5643545\r",
      " 24% [..................                                                        ] 1384448 / 5643545\r",
      " 24% [..................                                                        ] 1392640 / 5643545\r",
      " 24% [..................                                                        ] 1400832 / 5643545\r",
      " 24% [..................                                                        ] 1409024 / 5643545\r",
      " 25% [..................                                                        ] 1417216 / 5643545\r",
      " 25% [..................                                                        ] 1425408 / 5643545\r",
      " 25% [..................                                                        ] 1433600 / 5643545\r",
      " 25% [..................                                                        ] 1441792 / 5643545\r",
      " 25% [...................                                                       ] 1449984 / 5643545\r",
      " 25% [...................                                                       ] 1458176 / 5643545\r",
      " 25% [...................                                                       ] 1466368 / 5643545\r",
      " 26% [...................                                                       ] 1474560 / 5643545\r",
      " 26% [...................                                                       ] 1482752 / 5643545\r",
      " 26% [...................                                                       ] 1490944 / 5643545\r",
      " 26% [...................                                                       ] 1499136 / 5643545\r",
      " 26% [...................                                                       ] 1507328 / 5643545\r",
      " 26% [...................                                                       ] 1515520 / 5643545\r",
      " 26% [...................                                                       ] 1523712 / 5643545\r",
      " 27% [....................                                                      ] 1531904 / 5643545\r",
      " 27% [....................                                                      ] 1540096 / 5643545\r",
      " 27% [....................                                                      ] 1548288 / 5643545\r",
      " 27% [....................                                                      ] 1556480 / 5643545\r",
      " 27% [....................                                                      ] 1564672 / 5643545\r",
      " 27% [....................                                                      ] 1572864 / 5643545\r",
      " 28% [....................                                                      ] 1581056 / 5643545\r",
      " 28% [....................                                                      ] 1589248 / 5643545\r",
      " 28% [....................                                                      ] 1597440 / 5643545\r",
      " 28% [.....................                                                     ] 1605632 / 5643545\r",
      " 28% [.....................                                                     ] 1613824 / 5643545\r",
      " 28% [.....................                                                     ] 1622016 / 5643545\r",
      " 28% [.....................                                                     ] 1630208 / 5643545\r",
      " 29% [.....................                                                     ] 1638400 / 5643545\r",
      " 29% [.....................                                                     ] 1646592 / 5643545\r",
      " 29% [.....................                                                     ] 1654784 / 5643545\r",
      " 29% [.....................                                                     ] 1662976 / 5643545\r",
      " 29% [.....................                                                     ] 1671168 / 5643545\r",
      " 29% [......................                                                    ] 1679360 / 5643545\r",
      " 29% [......................                                                    ] 1687552 / 5643545\r",
      " 30% [......................                                                    ] 1695744 / 5643545\r",
      " 30% [......................                                                    ] 1703936 / 5643545\r",
      " 30% [......................                                                    ] 1712128 / 5643545\r",
      " 30% [......................                                                    ] 1720320 / 5643545\r",
      " 30% [......................                                                    ] 1728512 / 5643545\r",
      " 30% [......................                                                    ] 1736704 / 5643545\r",
      " 30% [......................                                                    ] 1744896 / 5643545\r",
      " 31% [......................                                                    ] 1753088 / 5643545\r",
      " 31% [.......................                                                   ] 1761280 / 5643545\r",
      " 31% [.......................                                                   ] 1769472 / 5643545\r",
      " 31% [.......................                                                   ] 1777664 / 5643545\r",
      " 31% [.......................                                                   ] 1785856 / 5643545\r",
      " 31% [.......................                                                   ] 1794048 / 5643545\r",
      " 31% [.......................                                                   ] 1802240 / 5643545\r",
      " 32% [.......................                                                   ] 1810432 / 5643545\r",
      " 32% [.......................                                                   ] 1818624 / 5643545\r",
      " 32% [.......................                                                   ] 1826816 / 5643545\r",
      " 32% [........................                                                  ] 1835008 / 5643545\r",
      " 32% [........................                                                  ] 1843200 / 5643545\r",
      " 32% [........................                                                  ] 1851392 / 5643545\r",
      " 32% [........................                                                  ] 1859584 / 5643545\r",
      " 33% [........................                                                  ] 1867776 / 5643545\r",
      " 33% [........................                                                  ] 1875968 / 5643545\r",
      " 33% [........................                                                  ] 1884160 / 5643545\r",
      " 33% [........................                                                  ] 1892352 / 5643545\r",
      " 33% [........................                                                  ] 1900544 / 5643545\r",
      " 33% [.........................                                                 ] 1908736 / 5643545\r",
      " 33% [.........................                                                 ] 1916928 / 5643545\r",
      " 34% [.........................                                                 ] 1925120 / 5643545\r",
      " 34% [.........................                                                 ] 1933312 / 5643545\r",
      " 34% [.........................                                                 ] 1941504 / 5643545\r",
      " 34% [.........................                                                 ] 1949696 / 5643545\r",
      " 34% [.........................                                                 ] 1957888 / 5643545\r",
      " 34% [.........................                                                 ] 1966080 / 5643545\r",
      " 34% [.........................                                                 ] 1974272 / 5643545\r",
      " 35% [.........................                                                 ] 1982464 / 5643545\r",
      " 35% [..........................                                                ] 1990656 / 5643545\r",
      " 35% [..........................                                                ] 1998848 / 5643545\r",
      " 35% [..........................                                                ] 2007040 / 5643545\r",
      " 35% [..........................                                                ] 2015232 / 5643545\r",
      " 35% [..........................                                                ] 2023424 / 5643545\r",
      " 35% [..........................                                                ] 2031616 / 5643545\r",
      " 36% [..........................                                                ] 2039808 / 5643545\r",
      " 36% [..........................                                                ] 2048000 / 5643545\r",
      " 36% [..........................                                                ] 2056192 / 5643545\r",
      " 36% [...........................                                               ] 2064384 / 5643545\r",
      " 36% [...........................                                               ] 2072576 / 5643545\r",
      " 36% [...........................                                               ] 2080768 / 5643545\r",
      " 37% [...........................                                               ] 2088960 / 5643545\r",
      " 37% [...........................                                               ] 2097152 / 5643545\r",
      " 37% [...........................                                               ] 2105344 / 5643545\r",
      " 37% [...........................                                               ] 2113536 / 5643545\r",
      " 37% [...........................                                               ] 2121728 / 5643545\r",
      " 37% [...........................                                               ] 2129920 / 5643545\r",
      " 37% [............................                                              ] 2138112 / 5643545\r",
      " 38% [............................                                              ] 2146304 / 5643545\r",
      " 38% [............................                                              ] 2154496 / 5643545\r",
      " 38% [............................                                              ] 2162688 / 5643545\r",
      " 38% [............................                                              ] 2170880 / 5643545\r",
      " 38% [............................                                              ] 2179072 / 5643545\r",
      " 38% [............................                                              ] 2187264 / 5643545\r",
      " 38% [............................                                              ] 2195456 / 5643545\r",
      " 39% [............................                                              ] 2203648 / 5643545\r",
      " 39% [.............................                                             ] 2211840 / 5643545\r",
      " 39% [.............................                                             ] 2220032 / 5643545\r",
      " 39% [.............................                                             ] 2228224 / 5643545\r",
      " 39% [.............................                                             ] 2236416 / 5643545\r",
      " 39% [.............................                                             ] 2244608 / 5643545\r",
      " 39% [.............................                                             ] 2252800 / 5643545\r",
      " 40% [.............................                                             ] 2260992 / 5643545\r",
      " 40% [.............................                                             ] 2269184 / 5643545\r",
      " 40% [.............................                                             ] 2277376 / 5643545\r",
      " 40% [.............................                                             ] 2285568 / 5643545\r",
      " 40% [..............................                                            ] 2293760 / 5643545\r",
      " 40% [..............................                                            ] 2301952 / 5643545\r",
      " 40% [..............................                                            ] 2310144 / 5643545\r",
      " 41% [..............................                                            ] 2318336 / 5643545\r",
      " 41% [..............................                                            ] 2326528 / 5643545\r",
      " 41% [..............................                                            ] 2334720 / 5643545\r",
      " 41% [..............................                                            ] 2342912 / 5643545\r",
      " 41% [..............................                                            ] 2351104 / 5643545\r",
      " 41% [..............................                                            ] 2359296 / 5643545\r",
      " 41% [...............................                                           ] 2367488 / 5643545\r",
      " 42% [...............................                                           ] 2375680 / 5643545\r",
      " 42% [...............................                                           ] 2383872 / 5643545\r",
      " 42% [...............................                                           ] 2392064 / 5643545\r",
      " 42% [...............................                                           ] 2400256 / 5643545\r",
      " 42% [...............................                                           ] 2408448 / 5643545\r",
      " 42% [...............................                                           ] 2416640 / 5643545\r",
      " 42% [...............................                                           ] 2424832 / 5643545\r",
      " 43% [...............................                                           ] 2433024 / 5643545\r",
      " 43% [................................                                          ] 2441216 / 5643545\r",
      " 43% [................................                                          ] 2449408 / 5643545\r",
      " 43% [................................                                          ] 2457600 / 5643545\r",
      " 43% [................................                                          ] 2465792 / 5643545\r",
      " 43% [................................                                          ] 2473984 / 5643545\r",
      " 43% [................................                                          ] 2482176 / 5643545\r",
      " 44% [................................                                          ] 2490368 / 5643545\r",
      " 44% [................................                                          ] 2498560 / 5643545\r",
      " 44% [................................                                          ] 2506752 / 5643545\r",
      " 44% [................................                                          ] 2514944 / 5643545\r",
      " 44% [.................................                                         ] 2523136 / 5643545\r",
      " 44% [.................................                                         ] 2531328 / 5643545\r",
      " 44% [.................................                                         ] 2539520 / 5643545\r",
      " 45% [.................................                                         ] 2547712 / 5643545\r",
      " 45% [.................................                                         ] 2555904 / 5643545\r",
      " 45% [.................................                                         ] 2564096 / 5643545\r",
      " 45% [.................................                                         ] 2572288 / 5643545\r",
      " 45% [.................................                                         ] 2580480 / 5643545\r",
      " 45% [.................................                                         ] 2588672 / 5643545\r",
      " 46% [..................................                                        ] 2596864 / 5643545\r",
      " 46% [..................................                                        ] 2605056 / 5643545\r",
      " 46% [..................................                                        ] 2613248 / 5643545\r",
      " 46% [..................................                                        ] 2621440 / 5643545\r",
      " 46% [..................................                                        ] 2629632 / 5643545\r",
      " 46% [..................................                                        ] 2637824 / 5643545\r",
      " 46% [..................................                                        ] 2646016 / 5643545\r",
      " 47% [..................................                                        ] 2654208 / 5643545\r",
      " 47% [..................................                                        ] 2662400 / 5643545\r",
      " 47% [...................................                                       ] 2670592 / 5643545\r",
      " 47% [...................................                                       ] 2678784 / 5643545\r",
      " 47% [...................................                                       ] 2686976 / 5643545\r",
      " 47% [...................................                                       ] 2695168 / 5643545\r",
      " 47% [...................................                                       ] 2703360 / 5643545\r",
      " 48% [...................................                                       ] 2711552 / 5643545\r",
      " 48% [...................................                                       ] 2719744 / 5643545\r",
      " 48% [...................................                                       ] 2727936 / 5643545\r",
      " 48% [...................................                                       ] 2736128 / 5643545\r",
      " 48% [...................................                                       ] 2744320 / 5643545\r",
      " 48% [....................................                                      ] 2752512 / 5643545\r",
      " 48% [....................................                                      ] 2760704 / 5643545\r",
      " 49% [....................................                                      ] 2768896 / 5643545\r",
      " 49% [....................................                                      ] 2777088 / 5643545\r",
      " 49% [....................................                                      ] 2785280 / 5643545\r",
      " 49% [....................................                                      ] 2793472 / 5643545\r",
      " 49% [....................................                                      ] 2801664 / 5643545\r",
      " 49% [....................................                                      ] 2809856 / 5643545\r",
      " 49% [....................................                                      ] 2818048 / 5643545\r",
      " 50% [.....................................                                     ] 2826240 / 5643545\r",
      " 50% [.....................................                                     ] 2834432 / 5643545\r",
      " 50% [.....................................                                     ] 2842624 / 5643545\r",
      " 50% [.....................................                                     ] 2850816 / 5643545\r",
      " 50% [.....................................                                     ] 2859008 / 5643545\r",
      " 50% [.....................................                                     ] 2867200 / 5643545\r",
      " 50% [.....................................                                     ] 2875392 / 5643545\r",
      " 51% [.....................................                                     ] 2883584 / 5643545\r",
      " 51% [.....................................                                     ] 2891776 / 5643545\r",
      " 51% [......................................                                    ] 2899968 / 5643545\r",
      " 51% [......................................                                    ] 2908160 / 5643545\r",
      " 51% [......................................                                    ] 2916352 / 5643545\r",
      " 51% [......................................                                    ] 2924544 / 5643545\r",
      " 51% [......................................                                    ] 2932736 / 5643545\r",
      " 52% [......................................                                    ] 2940928 / 5643545\r",
      " 52% [......................................                                    ] 2949120 / 5643545\r",
      " 52% [......................................                                    ] 2957312 / 5643545\r",
      " 52% [......................................                                    ] 2965504 / 5643545\r",
      " 52% [......................................                                    ] 2973696 / 5643545\r",
      " 52% [.......................................                                   ] 2981888 / 5643545\r",
      " 52% [.......................................                                   ] 2990080 / 5643545\r",
      " 53% [.......................................                                   ] 2998272 / 5643545\r",
      " 53% [.......................................                                   ] 3006464 / 5643545\r",
      " 53% [.......................................                                   ] 3014656 / 5643545\r",
      " 53% [.......................................                                   ] 3022848 / 5643545\r",
      " 53% [.......................................                                   ] 3031040 / 5643545\r",
      " 53% [.......................................                                   ] 3039232 / 5643545\r",
      " 53% [.......................................                                   ] 3047424 / 5643545\r",
      " 54% [........................................                                  ] 3055616 / 5643545\r",
      " 54% [........................................                                  ] 3063808 / 5643545\r",
      " 54% [........................................                                  ] 3072000 / 5643545\r",
      " 54% [........................................                                  ] 3080192 / 5643545\r",
      " 54% [........................................                                  ] 3088384 / 5643545\r",
      " 54% [........................................                                  ] 3096576 / 5643545\r",
      " 55% [........................................                                  ] 3104768 / 5643545\r",
      " 55% [........................................                                  ] 3112960 / 5643545\r",
      " 55% [........................................                                  ] 3121152 / 5643545\r",
      " 55% [.........................................                                 ] 3129344 / 5643545\r",
      " 55% [.........................................                                 ] 3137536 / 5643545\r",
      " 55% [.........................................                                 ] 3145728 / 5643545\r",
      " 55% [.........................................                                 ] 3153920 / 5643545\r",
      " 56% [.........................................                                 ] 3162112 / 5643545\r",
      " 56% [.........................................                                 ] 3170304 / 5643545\r",
      " 56% [.........................................                                 ] 3178496 / 5643545\r",
      " 56% [.........................................                                 ] 3186688 / 5643545\r",
      " 56% [.........................................                                 ] 3194880 / 5643545\r",
      " 56% [.........................................                                 ] 3203072 / 5643545\r",
      " 56% [..........................................                                ] 3211264 / 5643545\r",
      " 57% [..........................................                                ] 3219456 / 5643545\r",
      " 57% [..........................................                                ] 3227648 / 5643545\r",
      " 57% [..........................................                                ] 3235840 / 5643545\r",
      " 57% [..........................................                                ] 3244032 / 5643545\r",
      " 57% [..........................................                                ] 3252224 / 5643545\r",
      " 57% [..........................................                                ] 3260416 / 5643545\r",
      " 57% [..........................................                                ] 3268608 / 5643545\r",
      " 58% [..........................................                                ] 3276800 / 5643545\r",
      " 58% [...........................................                               ] 3284992 / 5643545\r",
      " 58% [...........................................                               ] 3293184 / 5643545\r",
      " 58% [...........................................                               ] 3301376 / 5643545\r",
      " 58% [...........................................                               ] 3309568 / 5643545\r",
      " 58% [...........................................                               ] 3317760 / 5643545\r",
      " 58% [...........................................                               ] 3325952 / 5643545\r",
      " 59% [...........................................                               ] 3334144 / 5643545\r",
      " 59% [...........................................                               ] 3342336 / 5643545\r",
      " 59% [...........................................                               ] 3350528 / 5643545\r",
      " 59% [............................................                              ] 3358720 / 5643545\r",
      " 59% [............................................                              ] 3366912 / 5643545\r",
      " 59% [............................................                              ] 3375104 / 5643545\r",
      " 59% [............................................                              ] 3383296 / 5643545\r",
      " 60% [............................................                              ] 3391488 / 5643545\r",
      " 60% [............................................                              ] 3399680 / 5643545\r",
      " 60% [............................................                              ] 3407872 / 5643545\r",
      " 60% [............................................                              ] 3416064 / 5643545\r",
      " 60% [............................................                              ] 3424256 / 5643545\r",
      " 60% [.............................................                             ] 3432448 / 5643545\r",
      " 60% [.............................................                             ] 3440640 / 5643545\r",
      " 61% [.............................................                             ] 3448832 / 5643545\r",
      " 61% [.............................................                             ] 3457024 / 5643545\r",
      " 61% [.............................................                             ] 3465216 / 5643545\r",
      " 61% [.............................................                             ] 3473408 / 5643545\r",
      " 61% [.............................................                             ] 3481600 / 5643545\r",
      " 61% [.............................................                             ] 3489792 / 5643545\r",
      " 61% [.............................................                             ] 3497984 / 5643545\r",
      " 62% [.............................................                             ] 3506176 / 5643545\r",
      " 62% [..............................................                            ] 3514368 / 5643545\r",
      " 62% [..............................................                            ] 3522560 / 5643545\r",
      " 62% [..............................................                            ] 3530752 / 5643545\r",
      " 62% [..............................................                            ] 3538944 / 5643545\r",
      " 62% [..............................................                            ] 3547136 / 5643545\r",
      " 62% [..............................................                            ] 3555328 / 5643545\r",
      " 63% [..............................................                            ] 3563520 / 5643545\r",
      " 63% [..............................................                            ] 3571712 / 5643545\r",
      " 63% [..............................................                            ] 3579904 / 5643545\r",
      " 63% [...............................................                           ] 3588096 / 5643545\r",
      " 63% [...............................................                           ] 3596288 / 5643545\r",
      " 63% [...............................................                           ] 3604480 / 5643545\r",
      " 64% [...............................................                           ] 3612672 / 5643545\r",
      " 64% [...............................................                           ] 3620864 / 5643545\r",
      " 64% [...............................................                           ] 3629056 / 5643545\r",
      " 64% [...............................................                           ] 3637248 / 5643545\r",
      " 64% [...............................................                           ] 3645440 / 5643545\r",
      " 64% [...............................................                           ] 3653632 / 5643545\r",
      " 64% [................................................                          ] 3661824 / 5643545\r",
      " 65% [................................................                          ] 3670016 / 5643545\r",
      " 65% [................................................                          ] 3678208 / 5643545\r",
      " 65% [................................................                          ] 3686400 / 5643545\r",
      " 65% [................................................                          ] 3694592 / 5643545\r",
      " 65% [................................................                          ] 3702784 / 5643545\r",
      " 65% [................................................                          ] 3710976 / 5643545\r",
      " 65% [................................................                          ] 3719168 / 5643545\r",
      " 66% [................................................                          ] 3727360 / 5643545\r",
      " 66% [................................................                          ] 3735552 / 5643545\r",
      " 66% [.................................................                         ] 3743744 / 5643545\r",
      " 66% [.................................................                         ] 3751936 / 5643545\r",
      " 66% [.................................................                         ] 3760128 / 5643545\r",
      " 66% [.................................................                         ] 3768320 / 5643545\r",
      " 66% [.................................................                         ] 3776512 / 5643545\r",
      " 67% [.................................................                         ] 3784704 / 5643545\r",
      " 67% [.................................................                         ] 3792896 / 5643545\r",
      " 67% [.................................................                         ] 3801088 / 5643545\r",
      " 67% [.................................................                         ] 3809280 / 5643545\r",
      " 67% [..................................................                        ] 3817472 / 5643545\r",
      " 67% [..................................................                        ] 3825664 / 5643545\r",
      " 67% [..................................................                        ] 3833856 / 5643545\r",
      " 68% [..................................................                        ] 3842048 / 5643545\r",
      " 68% [..................................................                        ] 3850240 / 5643545\r",
      " 68% [..................................................                        ] 3858432 / 5643545\r",
      " 68% [..................................................                        ] 3866624 / 5643545\r",
      " 68% [..................................................                        ] 3874816 / 5643545\r",
      " 68% [..................................................                        ] 3883008 / 5643545\r",
      " 68% [...................................................                       ] 3891200 / 5643545\r",
      " 69% [...................................................                       ] 3899392 / 5643545\r",
      " 69% [...................................................                       ] 3907584 / 5643545\r",
      " 69% [...................................................                       ] 3915776 / 5643545\r",
      " 69% [...................................................                       ] 3923968 / 5643545\r",
      " 69% [...................................................                       ] 3932160 / 5643545\r",
      " 69% [...................................................                       ] 3940352 / 5643545\r",
      " 69% [...................................................                       ] 3948544 / 5643545\r",
      " 70% [...................................................                       ] 3956736 / 5643545\r",
      " 70% [...................................................                       ] 3964928 / 5643545\r",
      " 70% [....................................................                      ] 3973120 / 5643545\r",
      " 70% [....................................................                      ] 3981312 / 5643545\r",
      " 70% [....................................................                      ] 3989504 / 5643545\r",
      " 70% [....................................................                      ] 3997696 / 5643545\r",
      " 70% [....................................................                      ] 4005888 / 5643545\r",
      " 71% [....................................................                      ] 4014080 / 5643545\r",
      " 71% [....................................................                      ] 4022272 / 5643545\r",
      " 71% [....................................................                      ] 4030464 / 5643545\r",
      " 71% [....................................................                      ] 4038656 / 5643545\r",
      " 71% [.....................................................                     ] 4046848 / 5643545\r",
      " 71% [.....................................................                     ] 4055040 / 5643545\r",
      " 71% [.....................................................                     ] 4063232 / 5643545\r",
      " 72% [.....................................................                     ] 4071424 / 5643545\r",
      " 72% [.....................................................                     ] 4079616 / 5643545\r",
      " 72% [.....................................................                     ] 4087808 / 5643545\r",
      " 72% [.....................................................                     ] 4096000 / 5643545\r",
      " 72% [.....................................................                     ] 4104192 / 5643545\r",
      " 72% [.....................................................                     ] 4112384 / 5643545\r",
      " 73% [......................................................                    ] 4120576 / 5643545\r",
      " 73% [......................................................                    ] 4128768 / 5643545\r",
      " 73% [......................................................                    ] 4136960 / 5643545\r",
      " 73% [......................................................                    ] 4145152 / 5643545\r",
      " 73% [......................................................                    ] 4153344 / 5643545\r",
      " 73% [......................................................                    ] 4161536 / 5643545\r",
      " 73% [......................................................                    ] 4169728 / 5643545\r",
      " 74% [......................................................                    ] 4177920 / 5643545\r",
      " 74% [......................................................                    ] 4186112 / 5643545\r",
      " 74% [......................................................                    ] 4194304 / 5643545\r",
      " 74% [.......................................................                   ] 4202496 / 5643545\r",
      " 74% [.......................................................                   ] 4210688 / 5643545\r",
      " 74% [.......................................................                   ] 4218880 / 5643545\r",
      " 74% [.......................................................                   ] 4227072 / 5643545\r",
      " 75% [.......................................................                   ] 4235264 / 5643545\r",
      " 75% [.......................................................                   ] 4243456 / 5643545\r",
      " 75% [.......................................................                   ] 4251648 / 5643545\r",
      " 75% [.......................................................                   ] 4259840 / 5643545\r",
      " 75% [.......................................................                   ] 4268032 / 5643545\r",
      " 75% [........................................................                  ] 4276224 / 5643545\r",
      " 75% [........................................................                  ] 4284416 / 5643545\r",
      " 76% [........................................................                  ] 4292608 / 5643545\r",
      " 76% [........................................................                  ] 4300800 / 5643545\r",
      " 76% [........................................................                  ] 4308992 / 5643545\r",
      " 76% [........................................................                  ] 4317184 / 5643545\r",
      " 76% [........................................................                  ] 4325376 / 5643545\r",
      " 76% [........................................................                  ] 4333568 / 5643545\r",
      " 76% [........................................................                  ] 4341760 / 5643545\r",
      " 77% [.........................................................                 ] 4349952 / 5643545\r",
      " 77% [.........................................................                 ] 4358144 / 5643545\r",
      " 77% [.........................................................                 ] 4366336 / 5643545\r",
      " 77% [.........................................................                 ] 4374528 / 5643545\r",
      " 77% [.........................................................                 ] 4382720 / 5643545\r",
      " 77% [.........................................................                 ] 4390912 / 5643545\r",
      " 77% [.........................................................                 ] 4399104 / 5643545\r",
      " 78% [.........................................................                 ] 4407296 / 5643545\r",
      " 78% [.........................................................                 ] 4415488 / 5643545\r",
      " 78% [..........................................................                ] 4423680 / 5643545\r",
      " 78% [..........................................................                ] 4431872 / 5643545\r",
      " 78% [..........................................................                ] 4440064 / 5643545\r",
      " 78% [..........................................................                ] 4448256 / 5643545\r",
      " 78% [..........................................................                ] 4456448 / 5643545\r",
      " 79% [..........................................................                ] 4464640 / 5643545\r",
      " 79% [..........................................................                ] 4472832 / 5643545\r",
      " 79% [..........................................................                ] 4481024 / 5643545\r",
      " 79% [..........................................................                ] 4489216 / 5643545\r",
      " 79% [..........................................................                ] 4497408 / 5643545\r",
      " 79% [...........................................................               ] 4505600 / 5643545\r",
      " 79% [...........................................................               ] 4513792 / 5643545\r",
      " 80% [...........................................................               ] 4521984 / 5643545\r",
      " 80% [...........................................................               ] 4530176 / 5643545\r",
      " 80% [...........................................................               ] 4538368 / 5643545\r",
      " 80% [...........................................................               ] 4546560 / 5643545\r",
      " 80% [...........................................................               ] 4554752 / 5643545\r",
      " 80% [...........................................................               ] 4562944 / 5643545\r",
      " 80% [...........................................................               ] 4571136 / 5643545\r",
      " 81% [............................................................              ] 4579328 / 5643545\r",
      " 81% [............................................................              ] 4587520 / 5643545\r",
      " 81% [............................................................              ] 4595712 / 5643545\r",
      " 81% [............................................................              ] 4603904 / 5643545\r",
      " 81% [............................................................              ] 4612096 / 5643545\r",
      " 81% [............................................................              ] 4620288 / 5643545\r",
      " 82% [............................................................              ] 4628480 / 5643545\r",
      " 82% [............................................................              ] 4636672 / 5643545\r",
      " 82% [............................................................              ] 4644864 / 5643545\r",
      " 82% [.............................................................             ] 4653056 / 5643545\r",
      " 82% [.............................................................             ] 4661248 / 5643545\r",
      " 82% [.............................................................             ] 4669440 / 5643545\r",
      " 82% [.............................................................             ] 4677632 / 5643545\r",
      " 83% [.............................................................             ] 4685824 / 5643545\r",
      " 83% [.............................................................             ] 4694016 / 5643545\r",
      " 83% [.............................................................             ] 4702208 / 5643545\r",
      " 83% [.............................................................             ] 4710400 / 5643545\r",
      " 83% [.............................................................             ] 4718592 / 5643545\r",
      " 83% [.............................................................             ] 4726784 / 5643545\r",
      " 83% [..............................................................            ] 4734976 / 5643545\r",
      " 84% [..............................................................            ] 4743168 / 5643545\r",
      " 84% [..............................................................            ] 4751360 / 5643545\r",
      " 84% [..............................................................            ] 4759552 / 5643545\r",
      " 84% [..............................................................            ] 4767744 / 5643545\r",
      " 84% [..............................................................            ] 4775936 / 5643545\r",
      " 84% [..............................................................            ] 4784128 / 5643545\r",
      " 84% [..............................................................            ] 4792320 / 5643545\r",
      " 85% [..............................................................            ] 4800512 / 5643545\r",
      " 85% [...............................................................           ] 4808704 / 5643545\r",
      " 85% [...............................................................           ] 4816896 / 5643545\r",
      " 85% [...............................................................           ] 4825088 / 5643545\r",
      " 85% [...............................................................           ] 4833280 / 5643545\r",
      " 85% [...............................................................           ] 4841472 / 5643545\r",
      " 85% [...............................................................           ] 4849664 / 5643545\r",
      " 86% [...............................................................           ] 4857856 / 5643545\r",
      " 86% [...............................................................           ] 4866048 / 5643545\r",
      " 86% [...............................................................           ] 4874240 / 5643545\r",
      " 86% [................................................................          ] 4882432 / 5643545\r",
      " 86% [................................................................          ] 4890624 / 5643545\r",
      " 86% [................................................................          ] 4898816 / 5643545\r",
      " 86% [................................................................          ] 4907008 / 5643545\r",
      " 87% [................................................................          ] 4915200 / 5643545\r",
      " 87% [................................................................          ] 4923392 / 5643545\r",
      " 87% [................................................................          ] 4931584 / 5643545\r",
      " 87% [................................................................          ] 4939776 / 5643545\r",
      " 87% [................................................................          ] 4947968 / 5643545\r",
      " 87% [................................................................          ] 4956160 / 5643545\r",
      " 87% [.................................................................         ] 4964352 / 5643545\r",
      " 88% [.................................................................         ] 4972544 / 5643545\r",
      " 88% [.................................................................         ] 4980736 / 5643545\r",
      " 88% [.................................................................         ] 4988928 / 5643545\r",
      " 88% [.................................................................         ] 4997120 / 5643545\r",
      " 88% [.................................................................         ] 5005312 / 5643545\r",
      " 88% [.................................................................         ] 5013504 / 5643545\r",
      " 88% [.................................................................         ] 5021696 / 5643545\r",
      " 89% [.................................................................         ] 5029888 / 5643545\r",
      " 89% [..................................................................        ] 5038080 / 5643545\r",
      " 89% [..................................................................        ] 5046272 / 5643545\r",
      " 89% [..................................................................        ] 5054464 / 5643545\r",
      " 89% [..................................................................        ] 5062656 / 5643545\r",
      " 89% [..................................................................        ] 5070848 / 5643545\r",
      " 89% [..................................................................        ] 5079040 / 5643545\r",
      " 90% [..................................................................        ] 5087232 / 5643545\r",
      " 90% [..................................................................        ] 5095424 / 5643545\r",
      " 90% [..................................................................        ] 5103616 / 5643545\r",
      " 90% [...................................................................       ] 5111808 / 5643545\r",
      " 90% [...................................................................       ] 5120000 / 5643545\r",
      " 90% [...................................................................       ] 5128192 / 5643545\r",
      " 91% [...................................................................       ] 5136384 / 5643545\r",
      " 91% [...................................................................       ] 5144576 / 5643545\r",
      " 91% [...................................................................       ] 5152768 / 5643545\r",
      " 91% [...................................................................       ] 5160960 / 5643545\r",
      " 91% [...................................................................       ] 5169152 / 5643545\r",
      " 91% [...................................................................       ] 5177344 / 5643545\r",
      " 91% [...................................................................       ] 5185536 / 5643545\r",
      " 92% [....................................................................      ] 5193728 / 5643545\r",
      " 92% [....................................................................      ] 5201920 / 5643545\r",
      " 92% [....................................................................      ] 5210112 / 5643545\r",
      " 92% [....................................................................      ] 5218304 / 5643545\r",
      " 92% [....................................................................      ] 5226496 / 5643545\r",
      " 92% [....................................................................      ] 5234688 / 5643545\r",
      " 92% [....................................................................      ] 5242880 / 5643545\r",
      " 93% [....................................................................      ] 5251072 / 5643545\r",
      " 93% [....................................................................      ] 5259264 / 5643545\r",
      " 93% [.....................................................................     ] 5267456 / 5643545\r",
      " 93% [.....................................................................     ] 5275648 / 5643545\r",
      " 93% [.....................................................................     ] 5283840 / 5643545\r",
      " 93% [.....................................................................     ] 5292032 / 5643545\r",
      " 93% [.....................................................................     ] 5300224 / 5643545\r",
      " 94% [.....................................................................     ] 5308416 / 5643545\r",
      " 94% [.....................................................................     ] 5316608 / 5643545\r",
      " 94% [.....................................................................     ] 5324800 / 5643545\r",
      " 94% [.....................................................................     ] 5332992 / 5643545\r",
      " 94% [......................................................................    ] 5341184 / 5643545\r",
      " 94% [......................................................................    ] 5349376 / 5643545\r",
      " 94% [......................................................................    ] 5357568 / 5643545\r",
      " 95% [......................................................................    ] 5365760 / 5643545\r",
      " 95% [......................................................................    ] 5373952 / 5643545\r",
      " 95% [......................................................................    ] 5382144 / 5643545\r",
      " 95% [......................................................................    ] 5390336 / 5643545\r",
      " 95% [......................................................................    ] 5398528 / 5643545\r",
      " 95% [......................................................................    ] 5406720 / 5643545\r",
      " 95% [.......................................................................   ] 5414912 / 5643545\r",
      " 96% [.......................................................................   ] 5423104 / 5643545\r",
      " 96% [.......................................................................   ] 5431296 / 5643545\r",
      " 96% [.......................................................................   ] 5439488 / 5643545\r",
      " 96% [.......................................................................   ] 5447680 / 5643545\r",
      " 96% [.......................................................................   ] 5455872 / 5643545\r",
      " 96% [.......................................................................   ] 5464064 / 5643545\r",
      " 96% [.......................................................................   ] 5472256 / 5643545\r",
      " 97% [.......................................................................   ] 5480448 / 5643545\r",
      " 97% [.......................................................................   ] 5488640 / 5643545\r",
      " 97% [........................................................................  ] 5496832 / 5643545\r",
      " 97% [........................................................................  ] 5505024 / 5643545\r",
      " 97% [........................................................................  ] 5513216 / 5643545\r",
      " 97% [........................................................................  ] 5521408 / 5643545\r",
      " 97% [........................................................................  ] 5529600 / 5643545\r",
      " 98% [........................................................................  ] 5537792 / 5643545\r",
      " 98% [........................................................................  ] 5545984 / 5643545\r",
      " 98% [........................................................................  ] 5554176 / 5643545\r",
      " 98% [........................................................................  ] 5562368 / 5643545\r",
      " 98% [......................................................................... ] 5570560 / 5643545\r",
      " 98% [......................................................................... ] 5578752 / 5643545\r",
      " 98% [......................................................................... ] 5586944 / 5643545\r",
      " 99% [......................................................................... ] 5595136 / 5643545\r",
      " 99% [......................................................................... ] 5603328 / 5643545\r",
      " 99% [......................................................................... ] 5611520 / 5643545\r",
      " 99% [......................................................................... ] 5619712 / 5643545\r",
      " 99% [......................................................................... ] 5627904 / 5643545\r",
      " 99% [......................................................................... ] 5636096 / 5643545\r",
      "100% [..........................................................................] 5643545 / 5643545"
     ]
    },
    {
     "data": {
      "text/plain": [
       "'sarcasm.json'"
      ]
     },
     "execution_count": 89,
     "metadata": {},
     "output_type": "execute_result"
    }
   ],
   "source": [
    "import json\n",
    "import tensorflow as tf\n",
    "\n",
    "from tensorflow.keras.preprocessing.text import Tokenizer\n",
    "from tensorflow.keras.preprocessing.sequence import pad_sequences\n",
    "\n",
    "import wget\n",
    "wget.download('https://storage.googleapis.com/laurencemoroney-blog.appspot.com/sarcasm.json')\n"
   ]
  },
  {
   "cell_type": "code",
   "execution_count": 90,
   "id": "fce50fb4",
   "metadata": {},
   "outputs": [],
   "source": [
    "# Preprocessing Data\n",
    "\n",
    "with open(\"sarcasm.json\", 'r') as f:\n",
    "    datastore = json.load(f)\n",
    "\n",
    "\n",
    "sentences = []\n",
    "labels = []\n",
    "urls = []\n",
    "for item in datastore:\n",
    "    sentences.append(item['headline'])\n",
    "    labels.append(item['is_sarcastic'])"
   ]
  },
  {
   "cell_type": "code",
   "execution_count": 91,
   "id": "cd8071d1",
   "metadata": {},
   "outputs": [],
   "source": [
    "#Setting Variables\n",
    "\n",
    "vocab_size = 1000\n",
    "embedding_dim = 16\n",
    "max_length = 120\n",
    "trunc_type='post'\n",
    "padding_type='post'\n",
    "oov_tok = \"<OOV>\"\n",
    "training_size = 20000\n",
    "\n",
    "import numpy as np\n",
    "\n",
    "training_sentences = np.array(sentences[0:training_size])\n",
    "testing_sentences = np.array(sentences[training_size:])\n",
    "training_labels = np.array(labels[0:training_size])\n",
    "testing_labels = np.array(labels[training_size:])\n"
   ]
  },
  {
   "cell_type": "code",
   "execution_count": 92,
   "id": "8c149848",
   "metadata": {},
   "outputs": [],
   "source": [
    "import json\n",
    "import tensorflow as tf\n",
    "\n",
    "from tensorflow.keras.preprocessing.text import Tokenizer\n",
    "from tensorflow.keras.preprocessing.sequence import pad_sequences"
   ]
  },
  {
   "cell_type": "code",
   "execution_count": 93,
   "id": "bec73966",
   "metadata": {},
   "outputs": [],
   "source": [
    "#Creating Word Tokenizer\n",
    "\n",
    "tokenizer = Tokenizer(num_words=vocab_size, oov_token=oov_tok)\n",
    "tokenizer.fit_on_texts(training_sentences)\n",
    "\n",
    "word_index = tokenizer.word_index\n",
    "\n",
    "# Creating Sequences out of Tokens and Padding them\n",
    "\n",
    "training_sequences = tokenizer.texts_to_sequences(training_sentences)\n",
    "training_padded = pad_sequences(training_sequences, maxlen=max_length, padding=padding_type, truncating=trunc_type)\n",
    "\n",
    "testing_sequences = tokenizer.texts_to_sequences(testing_sentences)\n",
    "testing_padded = pad_sequences(testing_sequences, maxlen=max_length, padding=padding_type, truncating=trunc_type)\n"
   ]
  },
  {
   "cell_type": "markdown",
   "id": "2522070e",
   "metadata": {},
   "source": [
    "#### Creating Simple LSTM NLP Model"
   ]
  },
  {
   "cell_type": "code",
   "execution_count": 94,
   "id": "d031fc2c",
   "metadata": {},
   "outputs": [],
   "source": [
    "model = tf.keras.Sequential([\n",
    "    tf.keras.layers.Embedding(vocab_size, embedding_dim, input_length=max_length),\n",
    "    tf.keras.layers.Bidirectional(tf.keras.layers.LSTM(32)),\n",
    "    tf.keras.layers.Dense(24, activation='relu'),\n",
    "    tf.keras.layers.Dense(1, activation='sigmoid')\n",
    "])"
   ]
  },
  {
   "cell_type": "code",
   "execution_count": 95,
   "id": "92a5893f",
   "metadata": {},
   "outputs": [
    {
     "name": "stdout",
     "output_type": "stream",
     "text": [
      "Model: \"sequential_5\"\n",
      "_________________________________________________________________\n",
      " Layer (type)                Output Shape              Param #   \n",
      "=================================================================\n",
      " embedding (Embedding)       (None, 120, 16)           16000     \n",
      "                                                                 \n",
      " bidirectional (Bidirectiona  (None, 64)               12544     \n",
      " l)                                                              \n",
      "                                                                 \n",
      " dense_8 (Dense)             (None, 24)                1560      \n",
      "                                                                 \n",
      " dense_9 (Dense)             (None, 1)                 25        \n",
      "                                                                 \n",
      "=================================================================\n",
      "Total params: 30,129\n",
      "Trainable params: 30,129\n",
      "Non-trainable params: 0\n",
      "_________________________________________________________________\n"
     ]
    }
   ],
   "source": [
    "model.compile(loss='binary_crossentropy',optimizer='adam',metrics=['accuracy'])\n",
    "model.summary()"
   ]
  },
  {
   "cell_type": "code",
   "execution_count": 96,
   "id": "b054fb16",
   "metadata": {},
   "outputs": [
    {
     "name": "stdout",
     "output_type": "stream",
     "text": [
      "Epoch 1/5\n",
      "625/625 [==============================] - 18s 24ms/step - loss: 0.4566 - accuracy: 0.7719 - val_loss: 0.3890 - val_accuracy: 0.8225\n",
      "Epoch 2/5\n",
      "625/625 [==============================] - 13s 21ms/step - loss: 0.3555 - accuracy: 0.8363 - val_loss: 0.3917 - val_accuracy: 0.8183\n",
      "Epoch 3/5\n",
      "625/625 [==============================] - 14s 22ms/step - loss: 0.3333 - accuracy: 0.8483 - val_loss: 0.3719 - val_accuracy: 0.8332\n",
      "Epoch 4/5\n",
      "625/625 [==============================] - 13s 21ms/step - loss: 0.3146 - accuracy: 0.8594 - val_loss: 0.3718 - val_accuracy: 0.8326\n",
      "Epoch 5/5\n",
      "625/625 [==============================] - 13s 21ms/step - loss: 0.3012 - accuracy: 0.8672 - val_loss: 0.3728 - val_accuracy: 0.8334\n"
     ]
    }
   ],
   "source": [
    "num_epochs = 5\n",
    "history = model.fit(training_padded, training_labels, epochs=num_epochs, validation_data=(testing_padded, testing_labels), verbose=1)\n"
   ]
  },
  {
   "cell_type": "code",
   "execution_count": 97,
   "id": "803ec2ce",
   "metadata": {},
   "outputs": [
    {
     "data": {
      "image/png": "[encoded data removed]",
      "text/plain": [
       "<Figure size 432x288 with 1 Axes>"
      ]
     },
     "metadata": {
      "needs_background": "light"
     },
     "output_type": "display_data"
    },
    {
     "data": {
      "image/png": "[encoded data removed]",
      "text/plain": [
       "<Figure size 432x288 with 1 Axes>"
      ]
     },
     "metadata": {
      "needs_background": "light"
     },
     "output_type": "display_data"
    }
   ],
   "source": [
    "import matplotlib.pyplot as plt\n",
    "\n",
    "\n",
    "def plot_graphs(history, string):\n",
    "  plt.plot(history.history[string])\n",
    "  plt.plot(history.history['val_'+string])\n",
    "  plt.xlabel(\"Epochs\")\n",
    "  plt.ylabel(string)\n",
    "  plt.legend([string, 'val_'+string])\n",
    "  plt.show()\n",
    "\n",
    "plot_graphs(history, 'accuracy')\n",
    "plot_graphs(history, 'loss')"
   ]
  },
  {
   "cell_type": "code",
   "execution_count": 98,
   "id": "3803172e",
   "metadata": {},
   "outputs": [
    {
     "name": "stdout",
     "output_type": "stream",
     "text": [
      "Model: \"sequential_6\"\n",
      "_________________________________________________________________\n",
      " Layer (type)                Output Shape              Param #   \n",
      "=================================================================\n",
      " embedding_1 (Embedding)     (None, 120, 16)           16000     \n",
      "                                                                 \n",
      " conv1d (Conv1D)             (None, 116, 128)          10368     \n",
      "                                                                 \n",
      " global_max_pooling1d (Globa  (None, 128)              0         \n",
      " lMaxPooling1D)                                                  \n",
      "                                                                 \n",
      " dense_10 (Dense)            (None, 24)                3096      \n",
      "                                                                 \n",
      " dense_11 (Dense)            (None, 1)                 25        \n",
      "                                                                 \n",
      "=================================================================\n",
      "Total params: 29,489\n",
      "Trainable params: 29,489\n",
      "Non-trainable params: 0\n",
      "_________________________________________________________________\n",
      "Epoch 1/5\n",
      "625/625 [==============================] - 5s 6ms/step - loss: 0.4734 - accuracy: 0.7612 - val_loss: 0.4104 - val_accuracy: 0.8159\n",
      "Epoch 2/5\n",
      "625/625 [==============================] - 4s 6ms/step - loss: 0.3568 - accuracy: 0.8406 - val_loss: 0.4044 - val_accuracy: 0.8137\n",
      "Epoch 3/5\n",
      "625/625 [==============================] - 4s 6ms/step - loss: 0.3174 - accuracy: 0.8599 - val_loss: 0.3906 - val_accuracy: 0.8262\n",
      "Epoch 4/5\n",
      "625/625 [==============================] - 3s 5ms/step - loss: 0.2822 - accuracy: 0.8778 - val_loss: 0.4062 - val_accuracy: 0.8237\n",
      "Epoch 5/5\n",
      "625/625 [==============================] - 3s 6ms/step - loss: 0.2499 - accuracy: 0.8953 - val_loss: 0.4226 - val_accuracy: 0.8208\n"
     ]
    }
   ],
   "source": [
    "# Replacing bidirectional LSTM layer with conv1d\n",
    "\n",
    "model = tf.keras.Sequential([\n",
    "    tf.keras.layers.Embedding(vocab_size, embedding_dim, input_length=max_length),\n",
    "    tf.keras.layers.Conv1D(128, 5, activation='relu'),\n",
    "    tf.keras.layers.GlobalMaxPooling1D(),\n",
    "    tf.keras.layers.Dense(24, activation='relu'),\n",
    "    tf.keras.layers.Dense(1, activation='sigmoid')\n",
    "])\n",
    "model.compile(loss='binary_crossentropy',optimizer='adam',metrics=['accuracy'])\n",
    "model.summary()\n",
    "\n",
    "num_epochs = 5\n",
    "history = model.fit(training_padded, training_labels, epochs=num_epochs, validation_data=(testing_padded, testing_labels), verbose=1)"
   ]
  },
  {
   "cell_type": "code",
   "execution_count": 99,
   "id": "b5e3e864",
   "metadata": {},
   "outputs": [
    {
     "data": {
      "image/png": "[encoded data removed]",
      "text/plain": [
       "<Figure size 432x288 with 1 Axes>"
      ]
     },
     "metadata": {
      "needs_background": "light"
     },
     "output_type": "display_data"
    },
    {
     "data": {
      "image/png": "[encoded data removed]",
      "text/plain": [
       "<Figure size 432x288 with 1 Axes>"
      ]
     },
     "metadata": {
      "needs_background": "light"
     },
     "output_type": "display_data"
    }
   ],
   "source": [
    "plot_graphs(history, 'accuracy')\n",
    "plot_graphs(history, 'loss')"
   ]
  },
  {
   "cell_type": "markdown",
   "id": "f3b6edac",
   "metadata": {},
   "source": [
    "**Using Conv1D is significantly faster than LSTM while still gives similar result.**"
   ]
  },
  {
   "cell_type": "markdown",
   "id": "29e6e771",
   "metadata": {},
   "source": [
    "## Time Series Forcasting using LSTM"
   ]
  },
  {
   "cell_type": "code",
   "execution_count": 100,
   "id": "3e55d2cd",
   "metadata": {},
   "outputs": [],
   "source": [
    "def plot_series(time, series, format=\"-\", start=0, end=None):\n",
    "    plt.plot(time[start:end], series[start:end], format)\n",
    "    plt.xlabel(\"Time\")\n",
    "    plt.ylabel(\"Value\")\n",
    "    plt.grid(True)\n",
    "\n",
    "def trend(time, slope=0):\n",
    "    return slope * time\n",
    "\n",
    "def seasonal_pattern(season_time):\n",
    "    \"\"\"Just an arbitrary pattern, you can change it if you wish\"\"\"\n",
    "    return np.where(season_time < 0.4,\n",
    "                    np.cos(season_time * 2 * np.pi),\n",
    "                    1 / np.exp(3 * season_time))\n",
    "\n",
    "def seasonality(time, period, amplitude=1, phase=0):\n",
    "    \"\"\"Repeats the same pattern at each period\"\"\"\n",
    "    season_time = ((time + phase) % period) / period\n",
    "    return amplitude * seasonal_pattern(season_time)\n",
    "\n",
    "def noise(time, noise_level=1, seed=None):\n",
    "    rnd = np.random.RandomState(seed)\n",
    "    return rnd.randn(len(time)) * noise_level\n",
    "\n",
    "time = np.arange(4 * 365 + 1, dtype=\"float32\")\n",
    "baseline = 10\n",
    "series = trend(time, 0.1)  \n",
    "baseline = 10\n",
    "amplitude = 40\n",
    "slope = 0.05\n",
    "noise_level = 5\n",
    "\n",
    "# Create the series\n",
    "series = baseline + trend(time, slope) + seasonality(time, period=365, amplitude=amplitude)\n",
    "# Update with noise\n",
    "series += noise(time, noise_level, seed=42)\n",
    "\n",
    "split_time = 1000\n",
    "time_train = time[:split_time]\n",
    "x_train = series[:split_time]\n",
    "time_valid = time[split_time:]\n",
    "x_valid = series[split_time:]\n",
    "\n",
    "window_size = 20\n",
    "batch_size = 32\n",
    "shuffle_buffer_size = 1000"
   ]
  },
  {
   "cell_type": "code",
   "execution_count": 101,
   "id": "852396b5",
   "metadata": {},
   "outputs": [],
   "source": [
    "def windowed_dataset(series, window_size, batch_size, shuffle_buffer):\n",
    "  dataset = tf.data.Dataset.from_tensor_slices(series)\n",
    "  dataset = dataset.window(window_size + 1, shift=1, drop_remainder=True)\n",
    "  dataset = dataset.flat_map(lambda window: window.batch(window_size + 1))\n",
    "  dataset = dataset.shuffle(shuffle_buffer).map(lambda window: (window[:-1], window[-1]))\n",
    "  dataset = dataset.batch(batch_size).prefetch(1)\n",
    "  return dataset"
   ]
  },
  {
   "cell_type": "code",
   "execution_count": 102,
   "id": "b9d61303",
   "metadata": {},
   "outputs": [
    {
     "name": "stderr",
     "output_type": "stream",
     "text": [
      "E:\\InstallationDir\\Anaconda\\envs\\ml-ai\\lib\\site-packages\\keras\\optimizer_v2\\gradient_descent.py:102: UserWarning: The `lr` argument is deprecated, use `learning_rate` instead.\n",
      "  super(SGD, self).__init__(name, **kwargs)\n"
     ]
    },
    {
     "name": "stdout",
     "output_type": "stream",
     "text": [
      "Epoch 1/100\n",
      "31/31 [==============================] - 7s 20ms/step - loss: 21.5740 - mae: 22.0689 - lr: 1.0000e-08\n",
      "Epoch 2/100\n",
      "31/31 [==============================] - 0s 13ms/step - loss: 21.2347 - mae: 21.7274 - lr: 1.1220e-08\n",
      "Epoch 3/100\n",
      "31/31 [==============================] - 0s 13ms/step - loss: 20.8067 - mae: 21.2998 - lr: 1.2589e-08\n",
      "Epoch 4/100\n",
      "31/31 [==============================] - 0s 13ms/step - loss: 20.3562 - mae: 20.8486 - lr: 1.4125e-08\n",
      "Epoch 5/100\n",
      "31/31 [==============================] - 0s 13ms/step - loss: 19.8797 - mae: 20.3748 - lr: 1.5849e-08\n",
      "Epoch 6/100\n",
      "31/31 [==============================] - 0s 13ms/step - loss: 19.3012 - mae: 19.7940 - lr: 1.7783e-08\n",
      "Epoch 7/100\n",
      "31/31 [==============================] - 0s 13ms/step - loss: 18.4252 - mae: 18.9169 - lr: 1.9953e-08\n",
      "Epoch 8/100\n",
      "31/31 [==============================] - 0s 13ms/step - loss: 17.5520 - mae: 18.0443 - lr: 2.2387e-08\n",
      "Epoch 9/100\n",
      "31/31 [==============================] - 0s 13ms/step - loss: 17.2153 - mae: 17.7083 - lr: 2.5119e-08\n",
      "Epoch 10/100\n",
      "31/31 [==============================] - 0s 13ms/step - loss: 16.8965 - mae: 17.3878 - lr: 2.8184e-08\n",
      "Epoch 11/100\n",
      "31/31 [==============================] - 0s 13ms/step - loss: 16.5909 - mae: 17.0845 - lr: 3.1623e-08\n",
      "Epoch 12/100\n",
      "31/31 [==============================] - 0s 13ms/step - loss: 16.2923 - mae: 16.7878 - lr: 3.5481e-08\n",
      "Epoch 13/100\n",
      "31/31 [==============================] - 0s 13ms/step - loss: 15.9935 - mae: 16.4908 - lr: 3.9811e-08\n",
      "Epoch 14/100\n",
      "31/31 [==============================] - 0s 13ms/step - loss: 15.6882 - mae: 16.1838 - lr: 4.4668e-08\n",
      "Epoch 15/100\n",
      "31/31 [==============================] - 0s 13ms/step - loss: 15.3962 - mae: 15.8900 - lr: 5.0119e-08\n",
      "Epoch 16/100\n",
      "31/31 [==============================] - 0s 14ms/step - loss: 15.0974 - mae: 15.5915 - lr: 5.6234e-08\n",
      "Epoch 17/100\n",
      "31/31 [==============================] - 0s 13ms/step - loss: 14.8062 - mae: 15.3025 - lr: 6.3096e-08\n",
      "Epoch 18/100\n",
      "31/31 [==============================] - 0s 13ms/step - loss: 14.5371 - mae: 15.0323 - lr: 7.0795e-08\n",
      "Epoch 19/100\n",
      "31/31 [==============================] - 0s 13ms/step - loss: 14.2843 - mae: 14.7772 - lr: 7.9433e-08\n",
      "Epoch 20/100\n",
      "31/31 [==============================] - 0s 13ms/step - loss: 14.0396 - mae: 14.5316 - lr: 8.9125e-08\n",
      "Epoch 21/100\n",
      "31/31 [==============================] - 1s 14ms/step - loss: 13.8272 - mae: 14.3214 - lr: 1.0000e-07\n",
      "Epoch 22/100\n",
      "31/31 [==============================] - 0s 13ms/step - loss: 13.6155 - mae: 14.1103 - lr: 1.1220e-07\n",
      "Epoch 23/100\n",
      "31/31 [==============================] - 0s 12ms/step - loss: 13.4155 - mae: 13.9097 - lr: 1.2589e-07\n",
      "Epoch 24/100\n",
      "31/31 [==============================] - 0s 14ms/step - loss: 13.1909 - mae: 13.6845 - lr: 1.4125e-07\n",
      "Epoch 25/100\n",
      "31/31 [==============================] - 0s 13ms/step - loss: 12.9908 - mae: 13.4835 - lr: 1.5849e-07\n",
      "Epoch 26/100\n",
      "31/31 [==============================] - 0s 13ms/step - loss: 12.7662 - mae: 13.2568 - lr: 1.7783e-07\n",
      "Epoch 27/100\n",
      "31/31 [==============================] - 0s 13ms/step - loss: 12.5001 - mae: 12.9913 - lr: 1.9953e-07\n",
      "Epoch 28/100\n",
      "31/31 [==============================] - 0s 13ms/step - loss: 12.2732 - mae: 12.7609 - lr: 2.2387e-07\n",
      "Epoch 29/100\n",
      "31/31 [==============================] - 0s 13ms/step - loss: 11.9109 - mae: 12.4017 - lr: 2.5119e-07\n",
      "Epoch 30/100\n",
      "31/31 [==============================] - 0s 13ms/step - loss: 11.6003 - mae: 12.0911 - lr: 2.8184e-07\n",
      "Epoch 31/100\n",
      "31/31 [==============================] - 0s 13ms/step - loss: 11.2792 - mae: 11.7693 - lr: 3.1623e-07\n",
      "Epoch 32/100\n",
      "31/31 [==============================] - 0s 13ms/step - loss: 11.2650 - mae: 11.7545 - lr: 3.5481e-07\n",
      "Epoch 33/100\n",
      "31/31 [==============================] - 0s 13ms/step - loss: 11.1125 - mae: 11.6048 - lr: 3.9811e-07\n",
      "Epoch 34/100\n",
      "31/31 [==============================] - 0s 13ms/step - loss: 10.5816 - mae: 11.0741 - lr: 4.4668e-07\n",
      "Epoch 35/100\n",
      "31/31 [==============================] - 0s 14ms/step - loss: 9.9696 - mae: 10.4563 - lr: 5.0119e-07\n",
      "Epoch 36/100\n",
      "31/31 [==============================] - 0s 13ms/step - loss: 9.4878 - mae: 9.9762 - lr: 5.6234e-07\n",
      "Epoch 37/100\n",
      "31/31 [==============================] - 0s 13ms/step - loss: 9.5377 - mae: 10.0268 - lr: 6.3096e-07\n",
      "Epoch 38/100\n",
      "31/31 [==============================] - 0s 13ms/step - loss: 9.7298 - mae: 10.2189 - lr: 7.0795e-07\n",
      "Epoch 39/100\n",
      "31/31 [==============================] - 0s 14ms/step - loss: 9.1627 - mae: 9.6518 - lr: 7.9433e-07\n",
      "Epoch 40/100\n",
      "31/31 [==============================] - 0s 13ms/step - loss: 8.9892 - mae: 9.4730 - lr: 8.9125e-07\n",
      "Epoch 41/100\n",
      "31/31 [==============================] - 0s 13ms/step - loss: 8.4614 - mae: 8.9427 - lr: 1.0000e-06\n",
      "Epoch 42/100\n",
      "31/31 [==============================] - 0s 13ms/step - loss: 8.0508 - mae: 8.5353 - lr: 1.1220e-06\n",
      "Epoch 43/100\n",
      "31/31 [==============================] - 0s 14ms/step - loss: 7.6940 - mae: 8.1792 - lr: 1.2589e-06\n",
      "Epoch 44/100\n",
      "31/31 [==============================] - 0s 13ms/step - loss: 7.4242 - mae: 7.9096 - lr: 1.4125e-06\n",
      "Epoch 45/100\n",
      "31/31 [==============================] - 0s 13ms/step - loss: 7.2411 - mae: 7.7261 - lr: 1.5849e-06\n",
      "Epoch 46/100\n",
      "31/31 [==============================] - 0s 13ms/step - loss: 6.9468 - mae: 7.4309 - lr: 1.7783e-06\n",
      "Epoch 47/100\n",
      "31/31 [==============================] - 0s 13ms/step - loss: 6.7184 - mae: 7.2023 - lr: 1.9953e-06\n",
      "Epoch 48/100\n",
      "31/31 [==============================] - 0s 13ms/step - loss: 6.5947 - mae: 7.0770 - lr: 2.2387e-06\n",
      "Epoch 49/100\n",
      "31/31 [==============================] - 0s 14ms/step - loss: 6.2334 - mae: 6.7106 - lr: 2.5119e-06\n",
      "Epoch 50/100\n",
      "31/31 [==============================] - 0s 13ms/step - loss: 6.0555 - mae: 6.5325 - lr: 2.8184e-06\n",
      "Epoch 51/100\n",
      "31/31 [==============================] - 0s 13ms/step - loss: 5.9280 - mae: 6.4073 - lr: 3.1623e-06\n",
      "Epoch 52/100\n",
      "31/31 [==============================] - 0s 13ms/step - loss: 5.7901 - mae: 6.2720 - lr: 3.5481e-06\n",
      "Epoch 53/100\n",
      "31/31 [==============================] - 0s 13ms/step - loss: 5.6445 - mae: 6.1246 - lr: 3.9811e-06\n",
      "Epoch 54/100\n",
      "31/31 [==============================] - 0s 14ms/step - loss: 5.5361 - mae: 6.0118 - lr: 4.4668e-06\n",
      "Epoch 55/100\n",
      "31/31 [==============================] - 0s 13ms/step - loss: 5.4137 - mae: 5.8852 - lr: 5.0119e-06\n",
      "Epoch 56/100\n",
      "31/31 [==============================] - 0s 13ms/step - loss: 5.5493 - mae: 6.0205 - lr: 5.6234e-06\n",
      "Epoch 57/100\n",
      "31/31 [==============================] - 0s 13ms/step - loss: 5.3102 - mae: 5.7877 - lr: 6.3096e-06\n",
      "Epoch 58/100\n",
      "31/31 [==============================] - 0s 14ms/step - loss: 5.3344 - mae: 5.8174 - lr: 7.0795e-06\n",
      "Epoch 59/100\n",
      "31/31 [==============================] - 0s 14ms/step - loss: 5.1857 - mae: 5.6654 - lr: 7.9433e-06\n",
      "Epoch 60/100\n",
      "31/31 [==============================] - 0s 13ms/step - loss: 5.0824 - mae: 5.5568 - lr: 8.9125e-06\n",
      "Epoch 61/100\n",
      "31/31 [==============================] - 0s 14ms/step - loss: 5.3801 - mae: 5.8572 - lr: 1.0000e-05\n",
      "Epoch 62/100\n",
      "31/31 [==============================] - 0s 14ms/step - loss: 5.1756 - mae: 5.6549 - lr: 1.1220e-05\n",
      "Epoch 63/100\n",
      "31/31 [==============================] - 0s 14ms/step - loss: 5.1457 - mae: 5.6216 - lr: 1.2589e-05\n",
      "Epoch 64/100\n",
      "31/31 [==============================] - 0s 14ms/step - loss: 4.8611 - mae: 5.3344 - lr: 1.4125e-05\n",
      "Epoch 65/100\n",
      "31/31 [==============================] - 1s 15ms/step - loss: 5.0091 - mae: 5.4885 - lr: 1.5849e-05\n",
      "Epoch 66/100\n",
      "31/31 [==============================] - 0s 14ms/step - loss: 5.3728 - mae: 5.8513 - lr: 1.7783e-05\n",
      "Epoch 67/100\n",
      "31/31 [==============================] - 1s 14ms/step - loss: 6.0185 - mae: 6.5019 - lr: 1.9953e-05\n",
      "Epoch 68/100\n",
      "31/31 [==============================] - 0s 14ms/step - loss: 5.2424 - mae: 5.7182 - lr: 2.2387e-05\n",
      "Epoch 69/100\n",
      "31/31 [==============================] - 0s 14ms/step - loss: 5.5909 - mae: 6.0734 - lr: 2.5119e-05\n",
      "Epoch 70/100\n",
      "31/31 [==============================] - 0s 13ms/step - loss: 5.0800 - mae: 5.5589 - lr: 2.8184e-05\n",
      "Epoch 71/100\n",
      "31/31 [==============================] - 0s 13ms/step - loss: 5.4186 - mae: 5.8976 - lr: 3.1623e-05\n",
      "Epoch 72/100\n",
      "31/31 [==============================] - 0s 14ms/step - loss: 5.0243 - mae: 5.5002 - lr: 3.5481e-05\n"
     ]
    },
    {
     "name": "stdout",
     "output_type": "stream",
     "text": [
      "Epoch 73/100\n",
      "31/31 [==============================] - 0s 13ms/step - loss: 6.6024 - mae: 7.0884 - lr: 3.9811e-05\n",
      "Epoch 74/100\n",
      "31/31 [==============================] - 0s 13ms/step - loss: 5.5135 - mae: 5.9902 - lr: 4.4668e-05\n",
      "Epoch 75/100\n",
      "31/31 [==============================] - 0s 13ms/step - loss: 5.2305 - mae: 5.7097 - lr: 5.0119e-05\n",
      "Epoch 76/100\n",
      "31/31 [==============================] - 0s 13ms/step - loss: 5.7212 - mae: 6.2038 - lr: 5.6234e-05\n",
      "Epoch 77/100\n",
      "31/31 [==============================] - 0s 13ms/step - loss: 5.6191 - mae: 6.1003 - lr: 6.3096e-05\n",
      "Epoch 78/100\n",
      "31/31 [==============================] - 0s 13ms/step - loss: 5.2257 - mae: 5.7050 - lr: 7.0795e-05\n",
      "Epoch 79/100\n",
      "31/31 [==============================] - 0s 14ms/step - loss: 5.7309 - mae: 6.2113 - lr: 7.9433e-05\n",
      "Epoch 80/100\n",
      "31/31 [==============================] - 0s 13ms/step - loss: 5.5978 - mae: 6.0818 - lr: 8.9125e-05\n",
      "Epoch 81/100\n",
      "31/31 [==============================] - 0s 13ms/step - loss: 6.3844 - mae: 6.8713 - lr: 1.0000e-04\n",
      "Epoch 82/100\n",
      "31/31 [==============================] - 0s 13ms/step - loss: 6.6677 - mae: 7.1520 - lr: 1.1220e-04\n",
      "Epoch 83/100\n",
      "31/31 [==============================] - 0s 13ms/step - loss: 5.3603 - mae: 5.8450 - lr: 1.2589e-04\n",
      "Epoch 84/100\n",
      "31/31 [==============================] - 0s 14ms/step - loss: 6.4051 - mae: 6.8914 - lr: 1.4125e-04\n",
      "Epoch 85/100\n",
      "31/31 [==============================] - 0s 13ms/step - loss: 6.3185 - mae: 6.8016 - lr: 1.5849e-04\n",
      "Epoch 86/100\n",
      "31/31 [==============================] - 0s 14ms/step - loss: 6.2137 - mae: 6.6932 - lr: 1.7783e-04\n",
      "Epoch 87/100\n",
      "31/31 [==============================] - 0s 14ms/step - loss: 7.8161 - mae: 8.3017 - lr: 1.9953e-04\n",
      "Epoch 88/100\n",
      "31/31 [==============================] - 0s 13ms/step - loss: 9.6014 - mae: 10.0931 - lr: 2.2387e-04\n",
      "Epoch 89/100\n",
      "31/31 [==============================] - 0s 13ms/step - loss: 5.9749 - mae: 6.4603 - lr: 2.5119e-04\n",
      "Epoch 90/100\n",
      "31/31 [==============================] - 0s 13ms/step - loss: 8.9792 - mae: 9.4675 - lr: 2.8184e-04\n",
      "Epoch 91/100\n",
      "31/31 [==============================] - 0s 14ms/step - loss: 8.2112 - mae: 8.6983 - lr: 3.1623e-04\n",
      "Epoch 92/100\n",
      "31/31 [==============================] - 0s 13ms/step - loss: 8.2042 - mae: 8.6904 - lr: 3.5481e-04\n",
      "Epoch 93/100\n",
      "31/31 [==============================] - 0s 14ms/step - loss: 9.3619 - mae: 9.8522 - lr: 3.9811e-04\n",
      "Epoch 94/100\n",
      "31/31 [==============================] - 0s 13ms/step - loss: 9.8521 - mae: 10.3458 - lr: 4.4668e-04\n",
      "Epoch 95/100\n",
      "31/31 [==============================] - 0s 13ms/step - loss: 7.1149 - mae: 7.6032 - lr: 5.0119e-04\n",
      "Epoch 96/100\n",
      "31/31 [==============================] - 0s 13ms/step - loss: 9.8227 - mae: 10.3110 - lr: 5.6234e-04\n",
      "Epoch 97/100\n",
      "31/31 [==============================] - 0s 13ms/step - loss: 9.3501 - mae: 9.8382 - lr: 6.3096e-04\n",
      "Epoch 98/100\n",
      "31/31 [==============================] - 0s 13ms/step - loss: 12.9646 - mae: 13.4527 - lr: 7.0795e-04\n",
      "Epoch 99/100\n",
      "31/31 [==============================] - 0s 13ms/step - loss: 13.0477 - mae: 13.5403 - lr: 7.9433e-04\n",
      "Epoch 100/100\n",
      "31/31 [==============================] - 0s 13ms/step - loss: 14.2552 - mae: 14.7468 - lr: 8.9125e-04\n"
     ]
    }
   ],
   "source": [
    "# Running Model for 100 epochs \n",
    "\n",
    "tf.keras.backend.clear_session()\n",
    "tf.random.set_seed(51)\n",
    "np.random.seed(51)\n",
    "\n",
    "tf.keras.backend.clear_session()\n",
    "dataset = windowed_dataset(x_train, window_size, batch_size, shuffle_buffer_size)\n",
    "\n",
    "model = tf.keras.models.Sequential([\n",
    "  tf.keras.layers.Lambda(lambda x: tf.expand_dims(x, axis=-1),\n",
    "                      input_shape=[None]),\n",
    "    tf.keras.layers.Bidirectional(tf.keras.layers.LSTM(32, return_sequences=True)),\n",
    "  tf.keras.layers.Bidirectional(tf.keras.layers.LSTM(32)),\n",
    "  tf.keras.layers.Dense(1),\n",
    "  tf.keras.layers.Lambda(lambda x: x * 100.0)\n",
    "])\n",
    "\n",
    "lr_schedule = tf.keras.callbacks.LearningRateScheduler(\n",
    "    lambda epoch: 1e-8 * 10**(epoch / 20))\n",
    "optimizer = tf.keras.optimizers.SGD(lr=1e-8, momentum=0.9)\n",
    "model.compile(loss=tf.keras.losses.Huber(),\n",
    "              optimizer=optimizer,\n",
    "              metrics=[\"mae\"])\n",
    "history = model.fit(dataset, epochs=100, callbacks=[lr_schedule])"
   ]
  },
  {
   "cell_type": "code",
   "execution_count": 104,
   "id": "9e6e9daf",
   "metadata": {},
   "outputs": [],
   "source": [
    "### To make series to Window\n",
    "\n",
    "# 0 1 2 3 4 \n",
    "# 1 2 3 4 5 \n",
    "# 2 3 4 5 6 \n",
    "# 3 4 5 6 7 \n",
    "# 4 5 6 7 8 \n",
    "# 5 6 7 8 9 \n",
    "\n",
    "# ---------------\n",
    "# dataset = tf.data.Dataset.range(10)\n",
    "# dataset = dataset.window(5, shift=1, drop_remainder=True)\n",
    "# for window_dataset in dataset:\n",
    "#   for val in window_dataset:\n",
    "#     print(val.numpy(), end=\" \")\n",
    "    \n",
    "# --------------\n",
    "\n",
    "# dataset = tf.data.Dataset.range(10)\n",
    "# dataset = dataset.window(5, shift=1, drop_remainder=True)\n",
    "# dataset = dataset.flat_map(lambda window: window.batch(5))\n",
    "# dataset = dataset.map(lambda window: (window[:-1], window[-1:]))\n",
    "# for x,y in dataset:\n",
    "#   print(x.numpy(), y.numpy())\n",
    "  \n",
    "# [0 1 2 3] [4]\n",
    "# [1 2 3 4] [5]\n",
    "# [2 3 4 5] [6]\n",
    "# [3 4 5 6] [7]\n",
    "# [4 5 6 7] [8]\n",
    "# [5 6 7 8] [9]\n",
    "\n",
    "# ----------"
   ]
  },
  {
   "cell_type": "code",
   "execution_count": 105,
   "id": "094116af",
   "metadata": {},
   "outputs": [],
   "source": [
    "\n",
    "# To expand the dimensions of the layer\n",
    "#  tf.keras.layers.Lambda(lambda x: tf.expand_dims(x, axis=-1),input_shape=[None]),\n",
    " "
   ]
  },
  {
   "cell_type": "code",
   "execution_count": 112,
   "id": "fc22a18a",
   "metadata": {},
   "outputs": [],
   "source": [
    "# Create function to label windowed data\n",
    "def get_labelled_windows(x, horizon=1):\n",
    "  \"\"\"\n",
    "  Creates labels for windowed dataset.\n",
    "\n",
    "  E.g. if horizon=1 (default)\n",
    "  Input: [1, 2, 3, 4, 5, 6] -> Output: ([1, 2, 3, 4, 5], [6])\n",
    "  \"\"\"\n",
    "  return x[:, :-horizon], x[:, -horizon:]"
   ]
  },
  {
   "cell_type": "code",
   "execution_count": 113,
   "id": "5a69878d",
   "metadata": {},
   "outputs": [],
   "source": [
    "# Create function to view NumPy arrays as windows \n",
    "def make_windows(x, window_size=7, horizon=1):\n",
    "  \"\"\"\n",
    "  Turns a 1D array into a 2D array of sequential windows of window_size.\n",
    "  \"\"\"\n",
    "  # 1. Create a window of specific window_size (add the horizon on the end for later labelling)\n",
    "  window_step = np.expand_dims(np.arange(window_size+horizon), axis=0)\n",
    "  # print(f\"Window step:\\n {window_step}\")\n",
    "\n",
    "  # 2. Create a 2D array of multiple window steps (minus 1 to account for 0 indexing)\n",
    "  window_indexes = window_step + np.expand_dims(np.arange(len(x)-(window_size+horizon-1)), axis=0).T # create 2D array of windows of size window_size\n",
    "  # print(f\"Window indexes:\\n {window_indexes[:3], window_indexes[-3:], window_indexes.shape}\")\n",
    "\n",
    "  # 3. Index on the target array (time series) with 2D array of multiple window steps\n",
    "  windowed_array = x[window_indexes]\n",
    "\n",
    "  # 4. Get the labelled windows\n",
    "  windows, labels = get_labelled_windows(windowed_array, horizon=horizon)\n",
    "\n",
    "  return windows, labels"
   ]
  },
  {
   "cell_type": "code",
   "execution_count": 114,
   "id": "d5aa5f22",
   "metadata": {},
   "outputs": [],
   "source": [
    "# Make the train/test splits\n",
    "def make_train_test_splits(windows, labels, test_split=0.2):\n",
    "  \"\"\"\n",
    "  Splits matching pairs of windows and labels into train and test splits.\n",
    "  \"\"\"\n",
    "  split_size = int(len(windows) * (1-test_split)) # this will default to 80% train/20% test\n",
    "  train_windows = windows[:split_size]\n",
    "  train_labels = labels[:split_size]\n",
    "  test_windows = windows[split_size:]\n",
    "  test_labels = labels[split_size:]\n",
    "  return train_windows, test_windows, train_labels, test_labels"
   ]
  },
  {
   "cell_type": "code",
   "execution_count": 115,
   "id": "de137ceb",
   "metadata": {},
   "outputs": [
    {
     "data": {
      "text/plain": [
       "array([ 1,  2,  3,  4,  5,  6,  7,  8,  9, 10, 11, 12, 13, 14, 15, 16, 17,\n",
       "       18, 19, 20, 21, 22, 23, 24, 25, 26, 27, 28, 29, 30, 31, 32, 33, 34,\n",
       "       35, 36, 37, 38, 39, 40, 41, 42, 43, 44, 45, 46, 47, 48, 49, 50, 51,\n",
       "       52, 53, 54, 55, 56, 57, 58, 59, 60, 61, 62, 63, 64, 65, 66, 67, 68,\n",
       "       69, 70, 71, 72, 73, 74, 75, 76, 77, 78, 79, 80, 81, 82, 83, 84, 85,\n",
       "       86, 87, 88, 89, 90, 91, 92, 93, 94, 95, 96, 97, 98, 99])"
      ]
     },
     "execution_count": 115,
     "metadata": {},
     "output_type": "execute_result"
    }
   ],
   "source": [
    "series = tf.range(1,100)\n",
    "series = series.numpy()\n",
    "series"
   ]
  },
  {
   "cell_type": "code",
   "execution_count": 117,
   "id": "e591f56d",
   "metadata": {},
   "outputs": [
    {
     "data": {
      "text/plain": [
       "(array([[ 1,  2,  3,  4,  5,  6,  7],\n",
       "        [ 2,  3,  4,  5,  6,  7,  8],\n",
       "        [ 3,  4,  5,  6,  7,  8,  9],\n",
       "        [ 4,  5,  6,  7,  8,  9, 10],\n",
       "        [ 5,  6,  7,  8,  9, 10, 11],\n",
       "        [ 6,  7,  8,  9, 10, 11, 12],\n",
       "        [ 7,  8,  9, 10, 11, 12, 13],\n",
       "        [ 8,  9, 10, 11, 12, 13, 14],\n",
       "        [ 9, 10, 11, 12, 13, 14, 15],\n",
       "        [10, 11, 12, 13, 14, 15, 16],\n",
       "        [11, 12, 13, 14, 15, 16, 17],\n",
       "        [12, 13, 14, 15, 16, 17, 18],\n",
       "        [13, 14, 15, 16, 17, 18, 19],\n",
       "        [14, 15, 16, 17, 18, 19, 20],\n",
       "        [15, 16, 17, 18, 19, 20, 21],\n",
       "        [16, 17, 18, 19, 20, 21, 22],\n",
       "        [17, 18, 19, 20, 21, 22, 23],\n",
       "        [18, 19, 20, 21, 22, 23, 24],\n",
       "        [19, 20, 21, 22, 23, 24, 25],\n",
       "        [20, 21, 22, 23, 24, 25, 26],\n",
       "        [21, 22, 23, 24, 25, 26, 27],\n",
       "        [22, 23, 24, 25, 26, 27, 28],\n",
       "        [23, 24, 25, 26, 27, 28, 29],\n",
       "        [24, 25, 26, 27, 28, 29, 30],\n",
       "        [25, 26, 27, 28, 29, 30, 31],\n",
       "        [26, 27, 28, 29, 30, 31, 32],\n",
       "        [27, 28, 29, 30, 31, 32, 33],\n",
       "        [28, 29, 30, 31, 32, 33, 34],\n",
       "        [29, 30, 31, 32, 33, 34, 35],\n",
       "        [30, 31, 32, 33, 34, 35, 36],\n",
       "        [31, 32, 33, 34, 35, 36, 37],\n",
       "        [32, 33, 34, 35, 36, 37, 38],\n",
       "        [33, 34, 35, 36, 37, 38, 39],\n",
       "        [34, 35, 36, 37, 38, 39, 40],\n",
       "        [35, 36, 37, 38, 39, 40, 41],\n",
       "        [36, 37, 38, 39, 40, 41, 42],\n",
       "        [37, 38, 39, 40, 41, 42, 43],\n",
       "        [38, 39, 40, 41, 42, 43, 44],\n",
       "        [39, 40, 41, 42, 43, 44, 45],\n",
       "        [40, 41, 42, 43, 44, 45, 46],\n",
       "        [41, 42, 43, 44, 45, 46, 47],\n",
       "        [42, 43, 44, 45, 46, 47, 48],\n",
       "        [43, 44, 45, 46, 47, 48, 49],\n",
       "        [44, 45, 46, 47, 48, 49, 50],\n",
       "        [45, 46, 47, 48, 49, 50, 51],\n",
       "        [46, 47, 48, 49, 50, 51, 52],\n",
       "        [47, 48, 49, 50, 51, 52, 53],\n",
       "        [48, 49, 50, 51, 52, 53, 54],\n",
       "        [49, 50, 51, 52, 53, 54, 55],\n",
       "        [50, 51, 52, 53, 54, 55, 56],\n",
       "        [51, 52, 53, 54, 55, 56, 57],\n",
       "        [52, 53, 54, 55, 56, 57, 58],\n",
       "        [53, 54, 55, 56, 57, 58, 59],\n",
       "        [54, 55, 56, 57, 58, 59, 60],\n",
       "        [55, 56, 57, 58, 59, 60, 61],\n",
       "        [56, 57, 58, 59, 60, 61, 62],\n",
       "        [57, 58, 59, 60, 61, 62, 63],\n",
       "        [58, 59, 60, 61, 62, 63, 64],\n",
       "        [59, 60, 61, 62, 63, 64, 65],\n",
       "        [60, 61, 62, 63, 64, 65, 66],\n",
       "        [61, 62, 63, 64, 65, 66, 67],\n",
       "        [62, 63, 64, 65, 66, 67, 68],\n",
       "        [63, 64, 65, 66, 67, 68, 69],\n",
       "        [64, 65, 66, 67, 68, 69, 70],\n",
       "        [65, 66, 67, 68, 69, 70, 71],\n",
       "        [66, 67, 68, 69, 70, 71, 72],\n",
       "        [67, 68, 69, 70, 71, 72, 73],\n",
       "        [68, 69, 70, 71, 72, 73, 74],\n",
       "        [69, 70, 71, 72, 73, 74, 75],\n",
       "        [70, 71, 72, 73, 74, 75, 76],\n",
       "        [71, 72, 73, 74, 75, 76, 77],\n",
       "        [72, 73, 74, 75, 76, 77, 78],\n",
       "        [73, 74, 75, 76, 77, 78, 79],\n",
       "        [74, 75, 76, 77, 78, 79, 80],\n",
       "        [75, 76, 77, 78, 79, 80, 81],\n",
       "        [76, 77, 78, 79, 80, 81, 82],\n",
       "        [77, 78, 79, 80, 81, 82, 83],\n",
       "        [78, 79, 80, 81, 82, 83, 84],\n",
       "        [79, 80, 81, 82, 83, 84, 85],\n",
       "        [80, 81, 82, 83, 84, 85, 86],\n",
       "        [81, 82, 83, 84, 85, 86, 87],\n",
       "        [82, 83, 84, 85, 86, 87, 88],\n",
       "        [83, 84, 85, 86, 87, 88, 89],\n",
       "        [84, 85, 86, 87, 88, 89, 90],\n",
       "        [85, 86, 87, 88, 89, 90, 91],\n",
       "        [86, 87, 88, 89, 90, 91, 92],\n",
       "        [87, 88, 89, 90, 91, 92, 93],\n",
       "        [88, 89, 90, 91, 92, 93, 94],\n",
       "        [89, 90, 91, 92, 93, 94, 95],\n",
       "        [90, 91, 92, 93, 94, 95, 96],\n",
       "        [91, 92, 93, 94, 95, 96, 97],\n",
       "        [92, 93, 94, 95, 96, 97, 98]]),\n",
       " array([[ 8],\n",
       "        [ 9],\n",
       "        [10],\n",
       "        [11],\n",
       "        [12],\n",
       "        [13],\n",
       "        [14],\n",
       "        [15],\n",
       "        [16],\n",
       "        [17],\n",
       "        [18],\n",
       "        [19],\n",
       "        [20],\n",
       "        [21],\n",
       "        [22],\n",
       "        [23],\n",
       "        [24],\n",
       "        [25],\n",
       "        [26],\n",
       "        [27],\n",
       "        [28],\n",
       "        [29],\n",
       "        [30],\n",
       "        [31],\n",
       "        [32],\n",
       "        [33],\n",
       "        [34],\n",
       "        [35],\n",
       "        [36],\n",
       "        [37],\n",
       "        [38],\n",
       "        [39],\n",
       "        [40],\n",
       "        [41],\n",
       "        [42],\n",
       "        [43],\n",
       "        [44],\n",
       "        [45],\n",
       "        [46],\n",
       "        [47],\n",
       "        [48],\n",
       "        [49],\n",
       "        [50],\n",
       "        [51],\n",
       "        [52],\n",
       "        [53],\n",
       "        [54],\n",
       "        [55],\n",
       "        [56],\n",
       "        [57],\n",
       "        [58],\n",
       "        [59],\n",
       "        [60],\n",
       "        [61],\n",
       "        [62],\n",
       "        [63],\n",
       "        [64],\n",
       "        [65],\n",
       "        [66],\n",
       "        [67],\n",
       "        [68],\n",
       "        [69],\n",
       "        [70],\n",
       "        [71],\n",
       "        [72],\n",
       "        [73],\n",
       "        [74],\n",
       "        [75],\n",
       "        [76],\n",
       "        [77],\n",
       "        [78],\n",
       "        [79],\n",
       "        [80],\n",
       "        [81],\n",
       "        [82],\n",
       "        [83],\n",
       "        [84],\n",
       "        [85],\n",
       "        [86],\n",
       "        [87],\n",
       "        [88],\n",
       "        [89],\n",
       "        [90],\n",
       "        [91],\n",
       "        [92],\n",
       "        [93],\n",
       "        [94],\n",
       "        [95],\n",
       "        [96],\n",
       "        [97],\n",
       "        [98],\n",
       "        [99]]))"
      ]
     },
     "execution_count": 117,
     "metadata": {},
     "output_type": "execute_result"
    }
   ],
   "source": [
    "windows, labels = make_windows(series)\n",
    "windows, labels"
   ]
  },
  {
   "cell_type": "code",
   "execution_count": 119,
   "id": "374f2bd8",
   "metadata": {},
   "outputs": [
    {
     "data": {
      "text/plain": [
       "(73, 19, 73, 19)"
      ]
     },
     "execution_count": 119,
     "metadata": {},
     "output_type": "execute_result"
    }
   ],
   "source": [
    "train_windows, test_windows, train_labels, test_labels = make_train_test_splits(windows, labels)\n",
    "len(train_windows), len(test_windows), len(train_labels), len(test_labels)"
   ]
  },
  {
   "cell_type": "code",
   "execution_count": null,
   "id": "b3b9bc8d",
   "metadata": {},
   "outputs": [],
   "source": []
  }
 ],
 "metadata": {
  "kernelspec": {
   "display_name": "Python [conda env:ml-ai]",
   "language": "python",
   "name": "conda-env-ml-ai-py"
  },
  "language_info": {
   "codemirror_mode": {
    "name": "ipython",
    "version": 3
   },
   "file_extension": ".py",
   "mimetype": "text/x-python",
   "name": "python",
   "nbconvert_exporter": "python",
   "pygments_lexer": "ipython3",
   "version": "3.8.8"
  }
 },
 "nbformat": 4,
 "nbformat_minor": 5
}
