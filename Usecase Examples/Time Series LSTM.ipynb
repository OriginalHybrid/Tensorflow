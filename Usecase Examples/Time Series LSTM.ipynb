{
 "cells": [
  {
   "cell_type": "markdown",
   "metadata": {
    "colab": {
     "base_uri": "https://localhost:8080/",
     "height": 629
    },
    "colab_type": "code",
    "id": "D1J15Vh_1Jih",
    "outputId": "be39dc7e-4501-4665-87b1-76ac0a9f8c99"
   },
   "source": [
    "# Time Series Forcasting using LSTM"
   ]
  },
  {
   "cell_type": "code",
   "execution_count": 1,
   "metadata": {
    "colab": {
     "base_uri": "https://localhost:8080/",
     "height": 34
    },
    "colab_type": "code",
    "id": "BOjujz601HcS",
    "outputId": "2bfe08b3-b6f5-42de-8a52-c24889a0c3ba"
   },
   "outputs": [
    {
     "name": "stdout",
     "output_type": "stream",
     "text": [
      "2.7.0\n"
     ]
    }
   ],
   "source": [
    "import tensorflow as tf\n",
    "import numpy as np\n",
    "import matplotlib.pyplot as plt\n",
    "print(tf.__version__)"
   ]
  },
  {
   "cell_type": "code",
   "execution_count": 2,
   "metadata": {
    "colab": {},
    "colab_type": "code",
    "id": "Zswl7jRtGzkk"
   },
   "outputs": [],
   "source": [
    "def plot_series(time, series, format=\"-\", start=0, end=None):\n",
    "    plt.plot(time[start:end], series[start:end], format)\n",
    "    plt.xlabel(\"Time\")\n",
    "    plt.ylabel(\"Value\")\n",
    "    plt.grid(True)\n",
    "\n",
    "def trend(time, slope=0):\n",
    "    return slope * time\n",
    "\n",
    "def seasonal_pattern(season_time):\n",
    "    \"\"\"Just an arbitrary pattern, you can change it if you wish\"\"\"\n",
    "    return np.where(season_time < 0.4,\n",
    "                    np.cos(season_time * 2 * np.pi),\n",
    "                    1 / np.exp(3 * season_time))\n",
    "\n",
    "def seasonality(time, period, amplitude=1, phase=0):\n",
    "    \"\"\"Repeats the same pattern at each period\"\"\"\n",
    "    season_time = ((time + phase) % period) / period\n",
    "    return amplitude * seasonal_pattern(season_time)\n",
    "\n",
    "def noise(time, noise_level=1, seed=None):\n",
    "    rnd = np.random.RandomState(seed)\n",
    "    return rnd.randn(len(time)) * noise_level\n",
    "\n",
    "time = np.arange(4 * 365 + 1, dtype=\"float32\")\n",
    "baseline = 10\n",
    "series = trend(time, 0.1)  \n",
    "baseline = 10\n",
    "amplitude = 40\n",
    "slope = 0.05\n",
    "noise_level = 5\n",
    "\n",
    "# Create the series\n",
    "series = baseline + trend(time, slope) + seasonality(time, period=365, amplitude=amplitude)\n",
    "# Update with noise\n",
    "series += noise(time, noise_level, seed=42)\n",
    "\n",
    "split_time = 1000\n",
    "time_train = time[:split_time]\n",
    "x_train = series[:split_time]\n",
    "time_valid = time[split_time:]\n",
    "x_valid = series[split_time:]\n",
    "\n",
    "window_size = 20\n",
    "batch_size = 32\n",
    "shuffle_buffer_size = 1000"
   ]
  },
  {
   "cell_type": "code",
   "execution_count": 3,
   "metadata": {
    "colab": {},
    "colab_type": "code",
    "id": "4sTTIOCbyShY"
   },
   "outputs": [],
   "source": [
    "def windowed_dataset(series, window_size, batch_size, shuffle_buffer):\n",
    "  dataset = tf.data.Dataset.from_tensor_slices(series)\n",
    "  dataset = dataset.window(window_size + 1, shift=1, drop_remainder=True)\n",
    "  dataset = dataset.flat_map(lambda window: window.batch(window_size + 1))\n",
    "  dataset = dataset.shuffle(shuffle_buffer).map(lambda window: (window[:-1], window[-1]))\n",
    "  dataset = dataset.batch(batch_size).prefetch(1)\n",
    "  return dataset"
   ]
  },
  {
   "cell_type": "code",
   "execution_count": 4,
   "metadata": {
    "colab": {
     "base_uri": "https://localhost:8080/",
     "height": 1000
    },
    "colab_type": "code",
    "id": "A1Hl39rklkLm",
    "outputId": "0d178b66-f1d0-469f-abee-1a5439a6da0c"
   },
   "outputs": [
    {
     "name": "stderr",
     "output_type": "stream",
     "text": [
      "E:\\InstallationDir\\Anaconda\\envs\\ml-ai\\lib\\site-packages\\keras\\optimizer_v2\\gradient_descent.py:102: UserWarning: The `lr` argument is deprecated, use `learning_rate` instead.\n",
      "  super(SGD, self).__init__(name, **kwargs)\n"
     ]
    },
    {
     "name": "stdout",
     "output_type": "stream",
     "text": [
      "Epoch 1/100\n",
      "31/31 [==============================] - 10s 39ms/step - loss: 21.5167 - mae: 22.0115 - lr: 1.0000e-08\n",
      "Epoch 2/100\n",
      "31/31 [==============================] - 0s 11ms/step - loss: 21.1522 - mae: 21.6444 - lr: 1.1220e-08\n",
      "Epoch 3/100\n",
      "31/31 [==============================] - 0s 11ms/step - loss: 20.7302 - mae: 21.2236 - lr: 1.2589e-08\n",
      "Epoch 4/100\n",
      "31/31 [==============================] - 0s 12ms/step - loss: 20.2834 - mae: 20.7757 - lr: 1.4125e-08\n",
      "Epoch 5/100\n",
      "31/31 [==============================] - 0s 11ms/step - loss: 19.7897 - mae: 20.2855 - lr: 1.5849e-08\n",
      "Epoch 6/100\n",
      "31/31 [==============================] - 0s 11ms/step - loss: 19.1782 - mae: 19.6696 - lr: 1.7783e-08\n",
      "Epoch 7/100\n",
      "31/31 [==============================] - 0s 11ms/step - loss: 18.2410 - mae: 18.7333 - lr: 1.9953e-08\n",
      "Epoch 8/100\n",
      "31/31 [==============================] - 0s 12ms/step - loss: 17.4825 - mae: 17.9748 - lr: 2.2387e-08\n",
      "Epoch 9/100\n",
      "31/31 [==============================] - 0s 12ms/step - loss: 17.1597 - mae: 17.6529 - lr: 2.5119e-08\n",
      "Epoch 10/100\n",
      "31/31 [==============================] - 0s 11ms/step - loss: 16.8547 - mae: 17.3463 - lr: 2.8184e-08\n",
      "Epoch 11/100\n",
      "31/31 [==============================] - 0s 11ms/step - loss: 16.5533 - mae: 17.0471 - lr: 3.1623e-08\n",
      "Epoch 12/100\n",
      "31/31 [==============================] - 0s 11ms/step - loss: 16.2565 - mae: 16.7524 - lr: 3.5481e-08\n",
      "Epoch 13/100\n",
      "31/31 [==============================] - 0s 12ms/step - loss: 15.9629 - mae: 16.4598 - lr: 3.9811e-08\n",
      "Epoch 14/100\n",
      "31/31 [==============================] - 0s 11ms/step - loss: 15.6593 - mae: 16.1548 - lr: 4.4668e-08\n",
      "Epoch 15/100\n",
      "31/31 [==============================] - 0s 11ms/step - loss: 15.3713 - mae: 15.8652 - lr: 5.0119e-08\n",
      "Epoch 16/100\n",
      "31/31 [==============================] - 0s 11ms/step - loss: 15.0752 - mae: 15.5697 - lr: 5.6234e-08\n",
      "Epoch 17/100\n",
      "31/31 [==============================] - 0s 11ms/step - loss: 14.7905 - mae: 15.2869 - lr: 6.3096e-08\n",
      "Epoch 18/100\n",
      "31/31 [==============================] - 0s 11ms/step - loss: 14.5229 - mae: 15.0178 - lr: 7.0795e-08\n",
      "Epoch 19/100\n",
      "31/31 [==============================] - 0s 11ms/step - loss: 14.2707 - mae: 14.7636 - lr: 7.9433e-08\n",
      "Epoch 20/100\n",
      "31/31 [==============================] - 0s 10ms/step - loss: 14.0293 - mae: 14.5217 - lr: 8.9125e-08\n",
      "Epoch 21/100\n",
      "31/31 [==============================] - 0s 11ms/step - loss: 13.8191 - mae: 14.3135 - lr: 1.0000e-07\n",
      "Epoch 22/100\n",
      "31/31 [==============================] - 0s 11ms/step - loss: 13.6084 - mae: 14.1032 - lr: 1.1220e-07\n",
      "Epoch 23/100\n",
      "31/31 [==============================] - 0s 11ms/step - loss: 13.4096 - mae: 13.9038 - lr: 1.2589e-07\n",
      "Epoch 24/100\n",
      "31/31 [==============================] - 0s 11ms/step - loss: 13.1859 - mae: 13.6794 - lr: 1.4125e-07\n",
      "Epoch 25/100\n",
      "31/31 [==============================] - 0s 11ms/step - loss: 12.9819 - mae: 13.4747 - lr: 1.5849e-07\n",
      "Epoch 26/100\n",
      "31/31 [==============================] - 0s 11ms/step - loss: 12.7278 - mae: 13.2184 - lr: 1.7783e-07\n",
      "Epoch 27/100\n",
      "31/31 [==============================] - 0s 11ms/step - loss: 12.4886 - mae: 12.9799 - lr: 1.9953e-07\n",
      "Epoch 28/100\n",
      "31/31 [==============================] - 0s 11ms/step - loss: 12.3459 - mae: 12.8362 - lr: 2.2387e-07\n",
      "Epoch 29/100\n",
      "31/31 [==============================] - 0s 12ms/step - loss: 11.9127 - mae: 12.4017 - lr: 2.5119e-07\n",
      "Epoch 30/100\n",
      "31/31 [==============================] - 0s 11ms/step - loss: 11.5934 - mae: 12.0835 - lr: 2.8184e-07\n",
      "Epoch 31/100\n",
      "31/31 [==============================] - 0s 12ms/step - loss: 11.2859 - mae: 11.7771 - lr: 3.1623e-07\n",
      "Epoch 32/100\n",
      "31/31 [==============================] - 0s 11ms/step - loss: 11.3520 - mae: 11.8418 - lr: 3.5481e-07\n",
      "Epoch 33/100\n",
      "31/31 [==============================] - 0s 11ms/step - loss: 10.5232 - mae: 11.0140 - lr: 3.9811e-07\n",
      "Epoch 34/100\n",
      "31/31 [==============================] - 0s 12ms/step - loss: 10.5478 - mae: 11.0358 - lr: 4.4668e-07\n",
      "Epoch 35/100\n",
      "31/31 [==============================] - 0s 11ms/step - loss: 10.0636 - mae: 10.5495 - lr: 5.0119e-07\n",
      "Epoch 36/100\n",
      "31/31 [==============================] - 0s 11ms/step - loss: 10.0574 - mae: 10.5456 - lr: 5.6234e-07\n",
      "Epoch 37/100\n",
      "31/31 [==============================] - 0s 11ms/step - loss: 9.7002 - mae: 10.1915 - lr: 6.3096e-07\n",
      "Epoch 38/100\n",
      "31/31 [==============================] - 0s 11ms/step - loss: 8.7713 - mae: 9.2572 - lr: 7.0795e-07\n",
      "Epoch 39/100\n",
      "31/31 [==============================] - 0s 11ms/step - loss: 9.4650 - mae: 9.9553 - lr: 7.9433e-07\n",
      "Epoch 40/100\n",
      "31/31 [==============================] - 0s 12ms/step - loss: 8.8980 - mae: 9.3825 - lr: 8.9125e-07\n",
      "Epoch 41/100\n",
      "31/31 [==============================] - 0s 11ms/step - loss: 8.4328 - mae: 8.9157 - lr: 1.0000e-06\n",
      "Epoch 42/100\n",
      "31/31 [==============================] - 0s 11ms/step - loss: 8.0603 - mae: 8.5448 - lr: 1.1220e-06\n",
      "Epoch 43/100\n",
      "31/31 [==============================] - 0s 11ms/step - loss: 7.7043 - mae: 8.1895 - lr: 1.2589e-06\n",
      "Epoch 44/100\n",
      "31/31 [==============================] - 0s 12ms/step - loss: 7.4309 - mae: 7.9171 - lr: 1.4125e-06\n",
      "Epoch 45/100\n",
      "31/31 [==============================] - 0s 11ms/step - loss: 7.2330 - mae: 7.7188 - lr: 1.5849e-06\n",
      "Epoch 46/100\n",
      "31/31 [==============================] - 0s 12ms/step - loss: 6.9369 - mae: 7.4214 - lr: 1.7783e-06\n",
      "Epoch 47/100\n",
      "31/31 [==============================] - 0s 12ms/step - loss: 6.7138 - mae: 7.1976 - lr: 1.9953e-06\n",
      "Epoch 48/100\n",
      "31/31 [==============================] - 0s 11ms/step - loss: 6.5926 - mae: 7.0746 - lr: 2.2387e-06\n",
      "Epoch 49/100\n",
      "31/31 [==============================] - 0s 11ms/step - loss: 6.2287 - mae: 6.7060 - lr: 2.5119e-06\n",
      "Epoch 50/100\n",
      "31/31 [==============================] - 0s 10ms/step - loss: 6.0519 - mae: 6.5293 - lr: 2.8184e-06\n",
      "Epoch 51/100\n",
      "31/31 [==============================] - 0s 11ms/step - loss: 5.9222 - mae: 6.4014 - lr: 3.1623e-06\n",
      "Epoch 52/100\n",
      "31/31 [==============================] - 0s 11ms/step - loss: 5.7883 - mae: 6.2700 - lr: 3.5481e-06\n",
      "Epoch 53/100\n",
      "31/31 [==============================] - 0s 12ms/step - loss: 5.6432 - mae: 6.1234 - lr: 3.9811e-06\n",
      "Epoch 54/100\n",
      "31/31 [==============================] - 0s 13ms/step - loss: 5.5353 - mae: 6.0107 - lr: 4.4668e-06\n",
      "Epoch 55/100\n",
      "31/31 [==============================] - 0s 13ms/step - loss: 5.4164 - mae: 5.8876 - lr: 5.0119e-06\n",
      "Epoch 56/100\n",
      "31/31 [==============================] - 0s 13ms/step - loss: 5.5680 - mae: 6.0397 - lr: 5.6234e-06\n",
      "Epoch 57/100\n",
      "31/31 [==============================] - 0s 13ms/step - loss: 5.3114 - mae: 5.7889 - lr: 6.3096e-06\n",
      "Epoch 58/100\n",
      "31/31 [==============================] - 0s 12ms/step - loss: 5.3392 - mae: 5.8218 - lr: 7.0795e-06\n",
      "Epoch 59/100\n",
      "31/31 [==============================] - 0s 13ms/step - loss: 5.1872 - mae: 5.6665 - lr: 7.9433e-06\n",
      "Epoch 60/100\n",
      "31/31 [==============================] - 0s 12ms/step - loss: 5.0864 - mae: 5.5607 - lr: 8.9125e-06\n",
      "Epoch 61/100\n",
      "31/31 [==============================] - 0s 12ms/step - loss: 5.3950 - mae: 5.8727 - lr: 1.0000e-05\n",
      "Epoch 62/100\n",
      "31/31 [==============================] - 0s 11ms/step - loss: 5.1719 - mae: 5.6516 - lr: 1.1220e-05\n",
      "Epoch 63/100\n",
      "31/31 [==============================] - 0s 12ms/step - loss: 5.1297 - mae: 5.6067 - lr: 1.2589e-05\n",
      "Epoch 64/100\n",
      "31/31 [==============================] - 0s 11ms/step - loss: 4.8465 - mae: 5.3193 - lr: 1.4125e-05\n",
      "Epoch 65/100\n",
      "31/31 [==============================] - 0s 11ms/step - loss: 5.0085 - mae: 5.4880 - lr: 1.5849e-05\n",
      "Epoch 66/100\n",
      "31/31 [==============================] - 0s 10ms/step - loss: 5.3626 - mae: 5.8406 - lr: 1.7783e-05\n",
      "Epoch 67/100\n",
      "31/31 [==============================] - 0s 10ms/step - loss: 6.0036 - mae: 6.4860 - lr: 1.9953e-05\n",
      "Epoch 68/100\n",
      "31/31 [==============================] - 0s 10ms/step - loss: 5.3422 - mae: 5.8240 - lr: 2.2387e-05\n",
      "Epoch 69/100\n",
      "31/31 [==============================] - 0s 10ms/step - loss: 5.6616 - mae: 6.1448 - lr: 2.5119e-05\n",
      "Epoch 70/100\n",
      "31/31 [==============================] - 0s 11ms/step - loss: 4.8494 - mae: 5.3253 - lr: 2.8184e-05\n",
      "Epoch 71/100\n",
      "31/31 [==============================] - 0s 11ms/step - loss: 5.2924 - mae: 5.7759 - lr: 3.1623e-05\n",
      "Epoch 72/100\n",
      "31/31 [==============================] - 0s 11ms/step - loss: 4.9606 - mae: 5.4352 - lr: 3.5481e-05\n"
     ]
    },
    {
     "name": "stdout",
     "output_type": "stream",
     "text": [
      "Epoch 73/100\n",
      "31/31 [==============================] - 0s 11ms/step - loss: 6.6376 - mae: 7.1196 - lr: 3.9811e-05\n",
      "Epoch 74/100\n",
      "31/31 [==============================] - 0s 12ms/step - loss: 5.6977 - mae: 6.1785 - lr: 4.4668e-05\n",
      "Epoch 75/100\n",
      "31/31 [==============================] - 0s 12ms/step - loss: 5.1889 - mae: 5.6658 - lr: 5.0119e-05\n",
      "Epoch 76/100\n",
      "31/31 [==============================] - 0s 11ms/step - loss: 5.1695 - mae: 5.6483 - lr: 5.6234e-05\n",
      "Epoch 77/100\n",
      "31/31 [==============================] - 0s 11ms/step - loss: 6.8937 - mae: 7.3783 - lr: 6.3096e-05\n",
      "Epoch 78/100\n",
      "31/31 [==============================] - 0s 13ms/step - loss: 6.3444 - mae: 6.8314 - lr: 7.0795e-05\n",
      "Epoch 79/100\n",
      "31/31 [==============================] - 0s 11ms/step - loss: 5.4018 - mae: 5.8814 - lr: 7.9433e-05\n",
      "Epoch 80/100\n",
      "31/31 [==============================] - 0s 10ms/step - loss: 5.1118 - mae: 5.5896 - lr: 8.9125e-05\n",
      "Epoch 81/100\n",
      "31/31 [==============================] - 0s 10ms/step - loss: 7.7439 - mae: 8.2296 - lr: 1.0000e-04\n",
      "Epoch 82/100\n",
      "31/31 [==============================] - 0s 10ms/step - loss: 6.3371 - mae: 6.8214 - lr: 1.1220e-04\n",
      "Epoch 83/100\n",
      "31/31 [==============================] - 0s 10ms/step - loss: 6.0867 - mae: 6.5708 - lr: 1.2589e-04\n",
      "Epoch 84/100\n",
      "31/31 [==============================] - 0s 10ms/step - loss: 5.7415 - mae: 6.2239 - lr: 1.4125e-04\n",
      "Epoch 85/100\n",
      "31/31 [==============================] - 0s 11ms/step - loss: 7.7739 - mae: 8.2653 - lr: 1.5849e-04\n",
      "Epoch 86/100\n",
      "31/31 [==============================] - 0s 10ms/step - loss: 6.8564 - mae: 7.3421 - lr: 1.7783e-04\n",
      "Epoch 87/100\n",
      "31/31 [==============================] - 0s 11ms/step - loss: 6.7302 - mae: 7.2150 - lr: 1.9953e-04\n",
      "Epoch 88/100\n",
      "31/31 [==============================] - 0s 10ms/step - loss: 6.1714 - mae: 6.6525 - lr: 2.2387e-04\n",
      "Epoch 89/100\n",
      "31/31 [==============================] - 0s 10ms/step - loss: 10.0218 - mae: 10.5140 - lr: 2.5119e-04\n",
      "Epoch 90/100\n",
      "31/31 [==============================] - 0s 12ms/step - loss: 7.8525 - mae: 8.3417 - lr: 2.8184e-04\n",
      "Epoch 91/100\n",
      "31/31 [==============================] - 0s 12ms/step - loss: 8.8221 - mae: 9.3100 - lr: 3.1623e-04\n",
      "Epoch 92/100\n",
      "31/31 [==============================] - 0s 11ms/step - loss: 9.1723 - mae: 9.6627 - lr: 3.5481e-04\n",
      "Epoch 93/100\n",
      "31/31 [==============================] - 0s 11ms/step - loss: 9.1939 - mae: 9.6863 - lr: 3.9811e-04\n",
      "Epoch 94/100\n",
      "31/31 [==============================] - 0s 11ms/step - loss: 9.6740 - mae: 10.1668 - lr: 4.4668e-04\n",
      "Epoch 95/100\n",
      "31/31 [==============================] - 0s 11ms/step - loss: 7.8107 - mae: 8.2941 - lr: 5.0119e-04\n",
      "Epoch 96/100\n",
      "31/31 [==============================] - 0s 12ms/step - loss: 9.3640 - mae: 9.8552 - lr: 5.6234e-04\n",
      "Epoch 97/100\n",
      "31/31 [==============================] - 0s 11ms/step - loss: 9.8279 - mae: 10.3190 - lr: 6.3096e-04\n",
      "Epoch 98/100\n",
      "31/31 [==============================] - 0s 10ms/step - loss: 8.8991 - mae: 9.3896 - lr: 7.0795e-04\n",
      "Epoch 99/100\n",
      "31/31 [==============================] - 0s 12ms/step - loss: 10.3701 - mae: 10.8614 - lr: 7.9433e-04\n",
      "Epoch 100/100\n",
      "31/31 [==============================] - 0s 11ms/step - loss: 13.9933 - mae: 14.4865 - lr: 8.9125e-04\n"
     ]
    }
   ],
   "source": [
    "# Running Model for 100 epochs to find the optimum learning rate\n",
    "\n",
    "tf.keras.backend.clear_session()\n",
    "tf.random.set_seed(51)\n",
    "np.random.seed(51)\n",
    "\n",
    "tf.keras.backend.clear_session()\n",
    "dataset = windowed_dataset(x_train, window_size, batch_size, shuffle_buffer_size)\n",
    "\n",
    "model = tf.keras.models.Sequential([\n",
    "  tf.keras.layers.Lambda(lambda x: tf.expand_dims(x, axis=-1),\n",
    "                      input_shape=[None]),\n",
    "    tf.keras.layers.Bidirectional(tf.keras.layers.LSTM(32, return_sequences=True)),\n",
    "  tf.keras.layers.Bidirectional(tf.keras.layers.LSTM(32)),\n",
    "  tf.keras.layers.Dense(1),\n",
    "  tf.keras.layers.Lambda(lambda x: x * 100.0)\n",
    "])\n",
    "\n",
    "lr_schedule = tf.keras.callbacks.LearningRateScheduler(\n",
    "    lambda epoch: 1e-8 * 10**(epoch / 20))\n",
    "optimizer = tf.keras.optimizers.SGD(lr=1e-8, momentum=0.9)\n",
    "model.compile(loss=tf.keras.losses.Huber(),\n",
    "              optimizer=optimizer,\n",
    "              metrics=[\"mae\"])\n",
    "history = model.fit(dataset, epochs=100, callbacks=[lr_schedule])"
   ]
  },
  {
   "cell_type": "code",
   "execution_count": 5,
   "metadata": {
    "colab": {
     "base_uri": "https://localhost:8080/",
     "height": 290
    },
    "colab_type": "code",
    "id": "AkBsrsXMzoWR",
    "outputId": "9b29db35-45ae-4896-e01b-747a173131d2"
   },
   "outputs": [
    {
     "data": {
      "text/plain": [
       "(1e-08, 0.0001, 0.0, 30.0)"
      ]
     },
     "execution_count": 5,
     "metadata": {},
     "output_type": "execute_result"
    },
    {
     "data": {
      "image/png": "[encoded data removed]",
      "text/plain": [
       "<Figure size 432x288 with 1 Axes>"
      ]
     },
     "metadata": {
      "needs_background": "light"
     },
     "output_type": "display_data"
    }
   ],
   "source": [
    "plt.semilogx(history.history[\"lr\"], history.history[\"loss\"])\n",
    "plt.axis([1e-8, 1e-4, 0, 30])"
   ]
  },
  {
   "cell_type": "code",
   "execution_count": 6,
   "metadata": {
    "colab": {},
    "colab_type": "code",
    "id": "4uh-97bpLZCA"
   },
   "outputs": [],
   "source": [
    "tf.keras.backend.clear_session()\n",
    "tf.random.set_seed(51)\n",
    "np.random.seed(51)\n",
    "\n",
    "tf.keras.backend.clear_session()\n",
    "dataset = windowed_dataset(x_train, window_size, batch_size, shuffle_buffer_size)\n",
    "\n",
    "model = tf.keras.models.Sequential([\n",
    "  tf.keras.layers.Lambda(lambda x: tf.expand_dims(x, axis=-1),\n",
    "                      input_shape=[None]),\n",
    "   tf.keras.layers.Bidirectional(tf.keras.layers.LSTM(32, return_sequences=True)),\n",
    "  tf.keras.layers.Bidirectional(tf.keras.layers.LSTM(32)),\n",
    "  tf.keras.layers.Dense(1),\n",
    "  tf.keras.layers.Lambda(lambda x: x * 100.0)\n",
    "])\n",
    "\n",
    "\n",
    "model.compile(loss=\"mse\", optimizer=tf.keras.optimizers.SGD(lr=1e-5, momentum=0.9),metrics=[\"mae\"])\n",
    "history = model.fit(dataset,epochs=500,verbose=0)"
   ]
  },
  {
   "cell_type": "code",
   "execution_count": 7,
   "metadata": {
    "colab": {
     "base_uri": "https://localhost:8080/",
     "height": 1000
    },
    "colab_type": "code",
    "id": "icGDaND7z0ne",
    "outputId": "275dc035-5ca0-413a-cf4f-7ced7e54b8c7"
   },
   "outputs": [
    {
     "data": {
      "image/png": "[encoded data removed]",
      "text/plain": [
       "<Figure size 720x432 with 1 Axes>"
      ]
     },
     "metadata": {
      "needs_background": "light"
     },
     "output_type": "display_data"
    }
   ],
   "source": [
    "forecast = []\n",
    "results = []\n",
    "for time in range(len(series) - window_size):\n",
    "  forecast.append(model.predict(series[time:time + window_size][np.newaxis]))\n",
    "\n",
    "forecast = forecast[split_time-window_size:]\n",
    "results = np.array(forecast)[:, 0, 0]\n",
    "\n",
    "\n",
    "plt.figure(figsize=(10, 6))\n",
    "\n",
    "plot_series(time_valid, x_valid)\n",
    "plot_series(time_valid, results)"
   ]
  },
  {
   "cell_type": "code",
   "execution_count": 8,
   "metadata": {
    "colab": {
     "base_uri": "https://localhost:8080/",
     "height": 34
    },
    "colab_type": "code",
    "id": "KfPeqI7rz4LD",
    "outputId": "af81f61c-4a36-44cd-e02d-b9cbe563df8e"
   },
   "outputs": [
    {
     "data": {
      "text/plain": [
       "5.674914"
      ]
     },
     "execution_count": 8,
     "metadata": {},
     "output_type": "execute_result"
    }
   ],
   "source": [
    "tf.keras.metrics.mean_absolute_error(x_valid, results).numpy()"
   ]
  },
  {
   "cell_type": "code",
   "execution_count": 9,
   "metadata": {
    "colab": {
     "base_uri": "https://localhost:8080/",
     "height": 607
    },
    "colab_type": "code",
    "id": "JUsdZB_tzDLe",
    "outputId": "461032e2-c6d4-42db-8f2b-85b5f77d354d"
   },
   "outputs": [
    {
     "data": {
      "text/plain": [
       "<Figure size 432x288 with 0 Axes>"
      ]
     },
     "execution_count": 9,
     "metadata": {},
     "output_type": "execute_result"
    },
    {
     "data": {
      "image/png": "[encoded data removed]",
      "text/plain": [
       "<Figure size 432x288 with 1 Axes>"
      ]
     },
     "metadata": {
      "needs_background": "light"
     },
     "output_type": "display_data"
    },
    {
     "data": {
      "image/png": "[encoded data removed]",
      "text/plain": [
       "<Figure size 432x288 with 1 Axes>"
      ]
     },
     "metadata": {
      "needs_background": "light"
     },
     "output_type": "display_data"
    },
    {
     "data": {
      "text/plain": [
       "<Figure size 432x288 with 0 Axes>"
      ]
     },
     "metadata": {},
     "output_type": "display_data"
    }
   ],
   "source": [
    "import matplotlib.image  as mpimg\n",
    "import matplotlib.pyplot as plt\n",
    "\n",
    "#-----------------------------------------------------------\n",
    "# Retrieve a list of list results on training and test data\n",
    "# sets for each training epoch\n",
    "#-----------------------------------------------------------\n",
    "mae=history.history['mae']\n",
    "loss=history.history['loss']\n",
    "\n",
    "epochs=range(len(loss)) # Get number of epochs\n",
    "\n",
    "#------------------------------------------------\n",
    "# Plot MAE and Loss\n",
    "#------------------------------------------------\n",
    "plt.plot(epochs, mae, 'r')\n",
    "plt.plot(epochs, loss, 'b')\n",
    "plt.title('MAE and Loss')\n",
    "plt.xlabel(\"Epochs\")\n",
    "plt.ylabel(\"Accuracy\")\n",
    "plt.legend([\"MAE\", \"Loss\"])\n",
    "\n",
    "plt.figure()\n",
    "\n",
    "epochs_zoom = epochs[200:]\n",
    "mae_zoom = mae[200:]\n",
    "loss_zoom = loss[200:]\n",
    "\n",
    "#------------------------------------------------\n",
    "# Plot Zoomed MAE and Loss\n",
    "#------------------------------------------------\n",
    "plt.plot(epochs_zoom, mae_zoom, 'r')\n",
    "plt.plot(epochs_zoom, loss_zoom, 'b')\n",
    "plt.title('MAE and Loss')\n",
    "plt.xlabel(\"Epochs\")\n",
    "plt.ylabel(\"Accuracy\")\n",
    "plt.legend([\"MAE\", \"Loss\"])\n",
    "\n",
    "plt.figure()"
   ]
  },
  {
   "cell_type": "code",
   "execution_count": 10,
   "metadata": {
    "colab": {
     "base_uri": "https://localhost:8080/",
     "height": 34
    },
    "colab_type": "code",
    "id": "3CGaYFxXNEAK",
    "outputId": "af1ff2a0-6c45-47a7-9866-3c217989437f"
   },
   "outputs": [
    {
     "name": "stderr",
     "output_type": "stream",
     "text": [
      "E:\\InstallationDir\\Anaconda\\envs\\ml-ai\\lib\\site-packages\\keras\\optimizer_v2\\gradient_descent.py:102: UserWarning: The `lr` argument is deprecated, use `learning_rate` instead.\n",
      "  super(SGD, self).__init__(name, **kwargs)\n"
     ]
    },
    {
     "data": {
      "text/plain": [
       "<keras.callbacks.History at 0x2339ca729a0>"
      ]
     },
     "execution_count": 10,
     "metadata": {},
     "output_type": "execute_result"
    }
   ],
   "source": [
    "#Running model with 3 LSTM Layers.But first finding the optimum LR\n",
    "\n",
    "tf.keras.backend.clear_session()\n",
    "dataset = windowed_dataset(x_train, window_size, batch_size, shuffle_buffer_size)\n",
    "\n",
    "model = tf.keras.models.Sequential([\n",
    "  tf.keras.layers.Lambda(lambda x: tf.expand_dims(x, axis=-1),\n",
    "                      input_shape=[None]),\n",
    "  tf.keras.layers.Bidirectional(tf.keras.layers.LSTM(32, return_sequences=True)),\n",
    "  tf.keras.layers.Bidirectional(tf.keras.layers.LSTM(32, return_sequences=True)),\n",
    "  tf.keras.layers.Bidirectional(tf.keras.layers.LSTM(32)),\n",
    "  tf.keras.layers.Dense(1),\n",
    "  tf.keras.layers.Lambda(lambda x: x * 100.0)\n",
    "])\n",
    "\n",
    "\n",
    "model.compile(loss=\"mse\", optimizer=tf.keras.optimizers.SGD(lr=1e-6, momentum=0.9))\n",
    "model.fit(dataset,epochs=100, verbose=0)"
   ]
  },
  {
   "cell_type": "code",
   "execution_count": 11,
   "metadata": {
    "colab": {
     "base_uri": "https://localhost:8080/",
     "height": 1000
    },
    "colab_type": "code",
    "id": "FJ3R8ysauz9e",
    "outputId": "b3452011-e7ca-4fde-f964-0c9b58c806e5"
   },
   "outputs": [
    {
     "name": "stdout",
     "output_type": "stream",
     "text": [
      "Epoch 1/100\n",
      "31/31 [==============================] - 10s 19ms/step - loss: 707.9825\n",
      "Epoch 2/100\n",
      "31/31 [==============================] - 1s 16ms/step - loss: 103.9582\n",
      "Epoch 3/100\n",
      "31/31 [==============================] - 1s 16ms/step - loss: 81.5493\n",
      "Epoch 4/100\n",
      "31/31 [==============================] - 1s 16ms/step - loss: 73.3897\n",
      "Epoch 5/100\n",
      "31/31 [==============================] - 1s 17ms/step - loss: 69.4884\n",
      "Epoch 6/100\n",
      "31/31 [==============================] - 1s 16ms/step - loss: 68.7573\n",
      "Epoch 7/100\n",
      "31/31 [==============================] - 1s 16ms/step - loss: 68.4195\n",
      "Epoch 8/100\n",
      "31/31 [==============================] - 1s 15ms/step - loss: 66.5901\n",
      "Epoch 9/100\n",
      "31/31 [==============================] - 1s 15ms/step - loss: 60.0927\n",
      "Epoch 10/100\n",
      "31/31 [==============================] - 0s 14ms/step - loss: 61.7440\n",
      "Epoch 11/100\n",
      "31/31 [==============================] - 1s 16ms/step - loss: 61.6229\n",
      "Epoch 12/100\n",
      "31/31 [==============================] - 1s 16ms/step - loss: 58.9875\n",
      "Epoch 13/100\n",
      "31/31 [==============================] - 1s 16ms/step - loss: 59.0550\n",
      "Epoch 14/100\n",
      "31/31 [==============================] - 1s 18ms/step - loss: 53.5414\n",
      "Epoch 15/100\n",
      "31/31 [==============================] - 1s 16ms/step - loss: 58.3067\n",
      "Epoch 16/100\n",
      "31/31 [==============================] - 1s 16ms/step - loss: 55.0765\n",
      "Epoch 17/100\n",
      "31/31 [==============================] - 1s 16ms/step - loss: 55.7643\n",
      "Epoch 18/100\n",
      "31/31 [==============================] - 1s 15ms/step - loss: 58.8847\n",
      "Epoch 19/100\n",
      "31/31 [==============================] - 0s 15ms/step - loss: 57.7442\n",
      "Epoch 20/100\n",
      "31/31 [==============================] - 1s 15ms/step - loss: 51.5044\n",
      "Epoch 21/100\n",
      "31/31 [==============================] - 1s 15ms/step - loss: 49.7447\n",
      "Epoch 22/100\n",
      "31/31 [==============================] - 1s 15ms/step - loss: 64.2443\n",
      "Epoch 23/100\n",
      "31/31 [==============================] - 1s 15ms/step - loss: 56.9941\n",
      "Epoch 24/100\n",
      "31/31 [==============================] - 1s 15ms/step - loss: 59.0307\n",
      "Epoch 25/100\n",
      "31/31 [==============================] - 1s 15ms/step - loss: 53.0137\n",
      "Epoch 26/100\n",
      "31/31 [==============================] - 1s 15ms/step - loss: 51.6520\n",
      "Epoch 27/100\n",
      "31/31 [==============================] - 1s 15ms/step - loss: 56.7785\n",
      "Epoch 28/100\n",
      "31/31 [==============================] - 1s 15ms/step - loss: 51.9689\n",
      "Epoch 29/100\n",
      "31/31 [==============================] - 1s 14ms/step - loss: 48.8629\n",
      "Epoch 30/100\n",
      "31/31 [==============================] - 1s 15ms/step - loss: 48.2189\n",
      "Epoch 31/100\n",
      "31/31 [==============================] - 0s 14ms/step - loss: 62.6703\n",
      "Epoch 32/100\n",
      "31/31 [==============================] - 1s 15ms/step - loss: 51.3424\n",
      "Epoch 33/100\n",
      "31/31 [==============================] - 1s 15ms/step - loss: 50.2392\n",
      "Epoch 34/100\n",
      "31/31 [==============================] - 1s 15ms/step - loss: 49.8143\n",
      "Epoch 35/100\n",
      "31/31 [==============================] - 1s 15ms/step - loss: 49.9632\n",
      "Epoch 36/100\n",
      "31/31 [==============================] - 1s 15ms/step - loss: 48.9535\n",
      "Epoch 37/100\n",
      "31/31 [==============================] - 1s 15ms/step - loss: 57.5652\n",
      "Epoch 38/100\n",
      "31/31 [==============================] - 1s 15ms/step - loss: 50.4333\n",
      "Epoch 39/100\n",
      "31/31 [==============================] - 1s 15ms/step - loss: 52.4200\n",
      "Epoch 40/100\n",
      "31/31 [==============================] - 1s 15ms/step - loss: 51.6182\n",
      "Epoch 41/100\n",
      "31/31 [==============================] - 1s 15ms/step - loss: 49.6333\n",
      "Epoch 42/100\n",
      "31/31 [==============================] - 1s 14ms/step - loss: 55.1447\n",
      "Epoch 43/100\n",
      "31/31 [==============================] - 1s 15ms/step - loss: 47.1867\n",
      "Epoch 44/100\n",
      "31/31 [==============================] - 1s 15ms/step - loss: 46.9940\n",
      "Epoch 45/100\n",
      "31/31 [==============================] - 0s 14ms/step - loss: 54.8267\n",
      "Epoch 46/100\n",
      "31/31 [==============================] - 1s 15ms/step - loss: 50.5272\n",
      "Epoch 47/100\n",
      "31/31 [==============================] - 1s 15ms/step - loss: 47.5139\n",
      "Epoch 48/100\n",
      "31/31 [==============================] - 1s 15ms/step - loss: 49.0575\n",
      "Epoch 49/100\n",
      "31/31 [==============================] - 1s 15ms/step - loss: 48.0783\n",
      "Epoch 50/100\n",
      "31/31 [==============================] - 1s 15ms/step - loss: 46.5824\n",
      "Epoch 51/100\n",
      "31/31 [==============================] - 1s 15ms/step - loss: 49.9473\n",
      "Epoch 52/100\n",
      "31/31 [==============================] - 1s 15ms/step - loss: 51.7346\n",
      "Epoch 53/100\n",
      "31/31 [==============================] - 1s 15ms/step - loss: 47.2079\n",
      "Epoch 54/100\n",
      "31/31 [==============================] - 1s 15ms/step - loss: 46.9807\n",
      "Epoch 55/100\n",
      "31/31 [==============================] - 1s 15ms/step - loss: 46.0569\n",
      "Epoch 56/100\n",
      "31/31 [==============================] - 1s 15ms/step - loss: 45.9334\n",
      "Epoch 57/100\n",
      "31/31 [==============================] - 1s 15ms/step - loss: 46.1627\n",
      "Epoch 58/100\n",
      "31/31 [==============================] - 1s 15ms/step - loss: 47.4210\n",
      "Epoch 59/100\n",
      "31/31 [==============================] - 1s 15ms/step - loss: 48.9180\n",
      "Epoch 60/100\n",
      "31/31 [==============================] - 1s 15ms/step - loss: 47.2509\n",
      "Epoch 61/100\n",
      "31/31 [==============================] - 1s 15ms/step - loss: 56.9929\n",
      "Epoch 62/100\n",
      "31/31 [==============================] - 1s 15ms/step - loss: 46.2188\n",
      "Epoch 63/100\n",
      "31/31 [==============================] - 1s 15ms/step - loss: 52.6778\n",
      "Epoch 64/100\n",
      "31/31 [==============================] - 1s 16ms/step - loss: 50.7060\n",
      "Epoch 65/100\n",
      "31/31 [==============================] - 1s 17ms/step - loss: 47.3161\n",
      "Epoch 66/100\n",
      "31/31 [==============================] - 1s 18ms/step - loss: 49.6217\n",
      "Epoch 67/100\n",
      "31/31 [==============================] - 1s 18ms/step - loss: 46.1552\n",
      "Epoch 68/100\n",
      "31/31 [==============================] - 1s 19ms/step - loss: 49.4552\n",
      "Epoch 69/100\n",
      "31/31 [==============================] - 1s 18ms/step - loss: 47.1277\n",
      "Epoch 70/100\n",
      "31/31 [==============================] - 1s 16ms/step - loss: 46.9256\n",
      "Epoch 71/100\n",
      "31/31 [==============================] - 1s 15ms/step - loss: 45.0275\n",
      "Epoch 72/100\n",
      "31/31 [==============================] - 1s 16ms/step - loss: 45.2796\n",
      "Epoch 73/100\n",
      "31/31 [==============================] - 1s 17ms/step - loss: 44.1186\n",
      "Epoch 74/100\n",
      "31/31 [==============================] - 1s 17ms/step - loss: 45.8679\n",
      "Epoch 75/100\n",
      "31/31 [==============================] - 1s 16ms/step - loss: 54.7282\n",
      "Epoch 76/100\n",
      "31/31 [==============================] - 1s 17ms/step - loss: 46.7380\n",
      "Epoch 77/100\n",
      "31/31 [==============================] - 1s 17ms/step - loss: 45.1984\n",
      "Epoch 78/100\n",
      "31/31 [==============================] - 1s 16ms/step - loss: 45.4627\n",
      "Epoch 79/100\n",
      "31/31 [==============================] - 1s 16ms/step - loss: 46.6672\n",
      "Epoch 80/100\n",
      "31/31 [==============================] - 1s 17ms/step - loss: 47.3609\n",
      "Epoch 81/100\n",
      "31/31 [==============================] - 1s 17ms/step - loss: 46.0578\n",
      "Epoch 82/100\n",
      "31/31 [==============================] - 1s 16ms/step - loss: 48.9245\n",
      "Epoch 83/100\n",
      "31/31 [==============================] - 1s 16ms/step - loss: 46.0635\n",
      "Epoch 84/100\n",
      "31/31 [==============================] - 1s 17ms/step - loss: 45.6606\n",
      "Epoch 85/100\n",
      "31/31 [==============================] - 1s 17ms/step - loss: 44.7944\n",
      "Epoch 86/100\n",
      "31/31 [==============================] - 1s 17ms/step - loss: 45.2624\n",
      "Epoch 87/100\n",
      "31/31 [==============================] - 1s 17ms/step - loss: 48.4866\n",
      "Epoch 88/100\n",
      "31/31 [==============================] - 1s 16ms/step - loss: 46.6033\n",
      "Epoch 89/100\n",
      "31/31 [==============================] - 1s 15ms/step - loss: 46.0423\n",
      "Epoch 90/100\n",
      "31/31 [==============================] - 1s 15ms/step - loss: 47.7709\n",
      "Epoch 91/100\n",
      "31/31 [==============================] - 1s 17ms/step - loss: 47.9661\n",
      "Epoch 92/100\n",
      "31/31 [==============================] - 1s 15ms/step - loss: 45.4628\n",
      "Epoch 93/100\n",
      "31/31 [==============================] - 1s 17ms/step - loss: 49.0478\n",
      "Epoch 94/100\n",
      "31/31 [==============================] - 1s 16ms/step - loss: 51.0608\n",
      "Epoch 95/100\n",
      "31/31 [==============================] - 1s 16ms/step - loss: 46.9828\n",
      "Epoch 96/100\n",
      "31/31 [==============================] - 1s 15ms/step - loss: 44.1053\n",
      "Epoch 97/100\n",
      "31/31 [==============================] - 1s 17ms/step - loss: 50.0233\n",
      "Epoch 98/100\n",
      "31/31 [==============================] - 1s 17ms/step - loss: 44.9500\n",
      "Epoch 99/100\n"
     ]
    },
    {
     "name": "stdout",
     "output_type": "stream",
     "text": [
      "31/31 [==============================] - 1s 17ms/step - loss: 48.0540\n",
      "Epoch 100/100\n",
      "31/31 [==============================] - 1s 17ms/step - loss: 44.8954\n"
     ]
    },
    {
     "data": {
      "text/plain": [
       "<keras.callbacks.History at 0x233a8f8cc10>"
      ]
     },
     "execution_count": 11,
     "metadata": {},
     "output_type": "execute_result"
    }
   ],
   "source": [
    "tf.keras.backend.clear_session()\n",
    "dataset = windowed_dataset(x_train, window_size, batch_size, shuffle_buffer_size)\n",
    "\n",
    "model = tf.keras.models.Sequential([\n",
    "  tf.keras.layers.Lambda(lambda x: tf.expand_dims(x, axis=-1),\n",
    "                      input_shape=[None]),\n",
    "  tf.keras.layers.Bidirectional(tf.keras.layers.LSTM(32, return_sequences=True)),\n",
    "  tf.keras.layers.Bidirectional(tf.keras.layers.LSTM(32, return_sequences=True)),\n",
    "  tf.keras.layers.Bidirectional(tf.keras.layers.LSTM(32)),\n",
    "  tf.keras.layers.Dense(1),\n",
    "  tf.keras.layers.Lambda(lambda x: x * 100.0)\n",
    "])\n",
    "\n",
    "\n",
    "model.compile(loss=\"mse\", optimizer=tf.keras.optimizers.SGD(lr=1e-6, momentum=0.9))\n",
    "model.fit(dataset,epochs=100)"
   ]
  },
  {
   "cell_type": "code",
   "execution_count": 16,
   "metadata": {},
   "outputs": [
    {
     "data": {
      "text/plain": [
       "{'loss': [707.9825439453125,\n",
       "  103.95820617675781,\n",
       "  81.5492935180664,\n",
       "  73.38973236083984,\n",
       "  69.48844146728516,\n",
       "  68.75732421875,\n",
       "  68.41947174072266,\n",
       "  66.59009552001953,\n",
       "  60.092674255371094,\n",
       "  61.74396514892578,\n",
       "  61.62287139892578,\n",
       "  58.98749542236328,\n",
       "  59.05497741699219,\n",
       "  53.54144287109375,\n",
       "  58.30665969848633,\n",
       "  55.07648468017578,\n",
       "  55.76431655883789,\n",
       "  58.88470458984375,\n",
       "  57.744163513183594,\n",
       "  51.50437927246094,\n",
       "  49.744651794433594,\n",
       "  64.24425506591797,\n",
       "  56.994075775146484,\n",
       "  59.03065490722656,\n",
       "  53.013675689697266,\n",
       "  51.65200424194336,\n",
       "  56.778499603271484,\n",
       "  51.96891784667969,\n",
       "  48.862937927246094,\n",
       "  48.21886444091797,\n",
       "  62.670345306396484,\n",
       "  51.34239959716797,\n",
       "  50.23916244506836,\n",
       "  49.81425094604492,\n",
       "  49.96324157714844,\n",
       "  48.953514099121094,\n",
       "  57.56519317626953,\n",
       "  50.43327331542969,\n",
       "  52.419979095458984,\n",
       "  51.618167877197266,\n",
       "  49.633323669433594,\n",
       "  55.1446533203125,\n",
       "  47.186710357666016,\n",
       "  46.993961334228516,\n",
       "  54.82671356201172,\n",
       "  50.527164459228516,\n",
       "  47.51388931274414,\n",
       "  49.0574951171875,\n",
       "  48.07830810546875,\n",
       "  46.58237075805664,\n",
       "  49.94733810424805,\n",
       "  51.73463821411133,\n",
       "  47.207942962646484,\n",
       "  46.98066329956055,\n",
       "  46.056915283203125,\n",
       "  45.933433532714844,\n",
       "  46.16265869140625,\n",
       "  47.42096710205078,\n",
       "  48.91798782348633,\n",
       "  47.25086212158203,\n",
       "  56.992916107177734,\n",
       "  46.21882629394531,\n",
       "  52.67781448364258,\n",
       "  50.70603942871094,\n",
       "  47.31605529785156,\n",
       "  49.6217155456543,\n",
       "  46.155208587646484,\n",
       "  49.45524597167969,\n",
       "  47.127681732177734,\n",
       "  46.92559051513672,\n",
       "  45.02748107910156,\n",
       "  45.279563903808594,\n",
       "  44.11864471435547,\n",
       "  45.867916107177734,\n",
       "  54.72817611694336,\n",
       "  46.73802947998047,\n",
       "  45.19842529296875,\n",
       "  45.46268844604492,\n",
       "  46.66715621948242,\n",
       "  47.36094665527344,\n",
       "  46.05781936645508,\n",
       "  48.92454528808594,\n",
       "  46.063514709472656,\n",
       "  45.660640716552734,\n",
       "  44.79439926147461,\n",
       "  45.262359619140625,\n",
       "  48.48661804199219,\n",
       "  46.60334777832031,\n",
       "  46.04233169555664,\n",
       "  47.77093505859375,\n",
       "  47.966068267822266,\n",
       "  45.46276092529297,\n",
       "  49.04777145385742,\n",
       "  51.06078338623047,\n",
       "  46.98281478881836,\n",
       "  44.10533142089844,\n",
       "  50.02330780029297,\n",
       "  44.9499626159668,\n",
       "  48.0539665222168,\n",
       "  44.89543533325195]}"
      ]
     },
     "execution_count": 16,
     "metadata": {},
     "output_type": "execute_result"
    }
   ],
   "source": [
    "model.history.history"
   ]
  },
  {
   "cell_type": "code",
   "execution_count": null,
   "metadata": {},
   "outputs": [],
   "source": []
  }
 ],
 "metadata": {
  "colab": {
   "collapsed_sections": [],
   "name": "S+P Week 3 Lesson 4 - LSTM.ipynb",
   "provenance": [],
   "version": "0.3.2"
  },
  "kernelspec": {
   "display_name": "Python [conda env:ml-ai]",
   "language": "python",
   "name": "conda-env-ml-ai-py"
  },
  "language_info": {
   "codemirror_mode": {
    "name": "ipython",
    "version": 3
   },
   "file_extension": ".py",
   "mimetype": "text/x-python",
   "name": "python",
   "nbconvert_exporter": "python",
   "pygments_lexer": "ipython3",
   "version": "3.8.8"
  }
 },
 "nbformat": 4,
 "nbformat_minor": 1
}
